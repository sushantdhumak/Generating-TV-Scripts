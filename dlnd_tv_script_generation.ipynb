{
 "cells": [
  {
   "cell_type": "markdown",
   "metadata": {},
   "source": [
    "# TV Script Generation\n",
    "In this project, we'll generate our own [Simpsons](https://en.wikipedia.org/wiki/The_Simpsons) TV scripts using RNNs. We'll be using part of the [Simpsons dataset](https://www.kaggle.com/wcukierski/the-simpsons-by-the-data) of scripts from 27 seasons.  The Neural Network we'll build will generate a new TV script for a scene at [Moe's Tavern](https://simpsonswiki.com/wiki/Moe's_Tavern).\n",
    "## Get the Data\n",
    "The data is already provided. We'll be using a subset of the original dataset.  It consists of only the scenes in Moe's Tavern.  This doesn't include other versions of the tavern, like \"Moe's Cavern\", \"Flaming Moe's\", \"Uncle Moe's Family Feed-Bag\", etc.."
   ]
  },
  {
   "cell_type": "code",
   "execution_count": 1,
   "metadata": {},
   "outputs": [],
   "source": [
    "\"\"\"\n",
    "DON'T MODIFY ANYTHING IN THIS CELL\n",
    "\"\"\"\n",
    "import helper\n",
    "\n",
    "data_dir = './data/simpsons/moes_tavern_lines.txt'\n",
    "text = helper.load_data(data_dir)\n",
    "# Ignore notice, since we don't use it for analysing the data\n",
    "text = text[81:]"
   ]
  },
  {
   "cell_type": "markdown",
   "metadata": {},
   "source": [
    "## Explore the Data\n",
    "Let's play around with `view_sentence_range` to view different parts of the data."
   ]
  },
  {
   "cell_type": "code",
   "execution_count": 2,
   "metadata": {},
   "outputs": [
    {
     "name": "stdout",
     "output_type": "stream",
     "text": [
      "Dataset Stats\n",
      "Roughly the number of unique words: 11492\n",
      "Number of scenes: 262\n",
      "Average number of sentences in each scene: 15.251908396946565\n",
      "Number of lines: 4258\n",
      "Average number of words in each line: 11.50164396430249\n",
      "\n",
      "The sentences 0 to 10:\n",
      "\n",
      "Moe_Szyslak: (INTO PHONE) Moe's Tavern. Where the elite meet to drink.\n",
      "Bart_Simpson: Eh, yeah, hello, is Mike there? Last name, Rotch.\n",
      "Moe_Szyslak: (INTO PHONE) Hold on, I'll check. (TO BARFLIES) Mike Rotch. Mike Rotch. Hey, has anybody seen Mike Rotch, lately?\n",
      "Moe_Szyslak: (INTO PHONE) Listen you little puke. One of these days I'm gonna catch you, and I'm gonna carve my name on your back with an ice pick.\n",
      "Moe_Szyslak: What's the matter Homer? You're not your normal effervescent self.\n",
      "Homer_Simpson: I got my problems, Moe. Give me another one.\n",
      "Moe_Szyslak: Homer, hey, you should not drink to forget your problems.\n",
      "Barney_Gumble: Yeah, you should only drink to enhance your social skills.\n",
      "\n"
     ]
    }
   ],
   "source": [
    "view_sentence_range = (0, 10)\n",
    "\n",
    "\"\"\"\n",
    "DON'T MODIFY ANYTHING IN THIS CELL\n",
    "\"\"\"\n",
    "import numpy as np\n",
    "\n",
    "print('Dataset Stats')\n",
    "print('Roughly the number of unique words: {}'.format(len({word: None for word in text.split()})))\n",
    "scenes = text.split('\\n\\n')\n",
    "print('Number of scenes: {}'.format(len(scenes)))\n",
    "sentence_count_scene = [scene.count('\\n') for scene in scenes]\n",
    "print('Average number of sentences in each scene: {}'.format(np.average(sentence_count_scene)))\n",
    "\n",
    "sentences = [sentence for scene in scenes for sentence in scene.split('\\n')]\n",
    "print('Number of lines: {}'.format(len(sentences)))\n",
    "word_count_sentence = [len(sentence.split()) for sentence in sentences]\n",
    "print('Average number of words in each line: {}'.format(np.average(word_count_sentence)))\n",
    "\n",
    "print()\n",
    "print('The sentences {} to {}:'.format(*view_sentence_range))\n",
    "print('\\n'.join(text.split('\\n')[view_sentence_range[0]:view_sentence_range[1]]))"
   ]
  },
  {
   "cell_type": "markdown",
   "metadata": {},
   "source": [
    "## Implementing Preprocessing Functions\n",
    "The first thing to do to any dataset is preprocessing.  Let's implement the following preprocessing functions below:\n",
    "- Lookup Table\n",
    "- Tokenize Punctuation\n",
    "\n",
    "### Lookup Table\n",
    "To create a word embedding, we first need to transform the words to ids.  In this function, we'll create two dictionaries:\n",
    "- Dictionary to go from the words to an id, we'll call `vocab_to_int`\n",
    "- Dictionary to go from the id to word, we'll call `int_to_vocab`\n",
    "\n",
    "Return these dictionaries in the following tuple `(vocab_to_int, int_to_vocab)`"
   ]
  },
  {
   "cell_type": "code",
   "execution_count": 3,
   "metadata": {},
   "outputs": [
    {
     "name": "stdout",
     "output_type": "stream",
     "text": [
      "{0: 'back', 1: 'bart_simpson', 2: 'enhance', 3: 'is', 4: 'and', 5: 'my', 6: 'last', 7: 'hey', 8: 'gonna', 9: 'moe_szyslak', 10: 'on', 11: 'drink', 12: 'mike', 13: 'problems', 14: 'moe', 15: 'give', 16: 'you', 17: 'another', 18: 'should', 19: 'seen', 20: 'name', 21: 'lately', 22: 'one', 23: 'days', 24: 'these', 25: \"i'm\", 26: 'hold', 27: 'meet', 28: 'with', 29: 'carve', 30: 'rotch', 31: 'catch', 32: 'tavern', 33: 'whats', 34: 'normal', 35: 'effervescent', 36: 'eh', 37: 'little', 38: 'homer', 39: 'has', 40: 'listen', 41: 'pick', 42: \"moe's\", 43: 'only', 44: 'matter', 45: 'of', 46: 'me', 47: 'not', 48: 'check', 49: 'your', 50: 'i', 51: 'social', 52: 'to', 53: 'anybody', 54: \"i'll\", 55: 'ice', 56: 'elite', 57: 'barney_gumble', 58: 'hello', 59: 'there', 60: 'skills', 61: 'self', 62: 'the', 63: 'an', 64: \"you're\", 65: 'puke', 66: 'homer_simpson', 67: 'got', 68: 'forget', 69: 'where', 70: 'yeah'}\n",
      "Tests Passed\n"
     ]
    }
   ],
   "source": [
    "import numpy as np\n",
    "import problem_unittests as tests\n",
    "\n",
    "def create_lookup_tables(text):\n",
    "    \"\"\"\n",
    "    Create lookup tables for vocabulary\n",
    "    :param text: The text of tv scripts split into words\n",
    "    :return: A tuple of dicts (vocab_to_int, int_to_vocab)\n",
    "    \"\"\"\n",
    "    # Function Implementation\n",
    "    \n",
    "    vocab = set(text)\n",
    "    vocab_to_int = {word: integer for integer, word in enumerate(vocab)}\n",
    "    int_to_vocab = {integer: word for integer, word in enumerate(vocab)}\n",
    "    print(int_to_vocab)\n",
    "    return vocab_to_int, int_to_vocab\n",
    "\n",
    "\"\"\"\n",
    "DON'T MODIFY ANYTHING IN THIS CELL THAT IS BELOW THIS LINE\n",
    "\"\"\"\n",
    "tests.test_create_lookup_tables(create_lookup_tables)"
   ]
  },
  {
   "cell_type": "markdown",
   "metadata": {},
   "source": [
    "### Tokenize Punctuation\n",
    "We'll be splitting the script into a word array using spaces as delimiters.  However, punctuations like periods and exclamation marks make it hard for the neural network to distinguish between the word \"bye\" and \"bye!\".\n",
    "\n",
    "Implement the function `token_lookup` to return a dict that will be used to tokenize symbols like \"!\" into \"||Exclamation_Mark||\".  Create a dictionary for the following symbols where the symbol is the key and value is the token:\n",
    "- Period ( . )\n",
    "- Comma ( , )\n",
    "- Quotation Mark ( \" )\n",
    "- Semicolon ( ; )\n",
    "- Exclamation mark ( ! )\n",
    "- Question mark ( ? )\n",
    "- Left Parentheses ( ( )\n",
    "- Right Parentheses ( ) )\n",
    "- Dash ( -- )\n",
    "- Return ( \\n )\n",
    "\n",
    "This dictionary will be used to token the symbols and add the delimiter (space) around it.  This separates the symbols as it's own word, making it easier for the neural network to predict on the next word. Instead of using the token \"dash\", try using something like \"||dash||\"."
   ]
  },
  {
   "cell_type": "code",
   "execution_count": 4,
   "metadata": {},
   "outputs": [
    {
     "name": "stdout",
     "output_type": "stream",
     "text": [
      "Tests Passed\n"
     ]
    }
   ],
   "source": [
    "def token_lookup():\n",
    "    \"\"\"\n",
    "    Generate a dict to turn punctuation into a token.\n",
    "    :return: Tokenize dictionary where the key is the punctuation and the value is the token\n",
    "    \"\"\"\n",
    "    # Function IMplementation\n",
    "    \n",
    "    dict = {}\n",
    "    dict['.']  = '||Period||'\n",
    "    dict[',']  = '||Comma||'\n",
    "    dict['\"']  = '||Quotation_mark||'\n",
    "    dict[';']  = '||Semicolon||'\n",
    "    dict['!']  = '||Exclamation_mark||'\n",
    "    dict['?']  = '||Question_mark||'\n",
    "    dict['(']  = '||Left_parentheses||'\n",
    "    dict[')']  = '||Right_parentheses||'\n",
    "    dict['--'] = '||Dash||'\n",
    "    dict['\\n'] = '||Return||'\n",
    "    \n",
    "    return dict\n",
    "\n",
    "\"\"\"\n",
    "DON'T MODIFY ANYTHING IN THIS CELL THAT IS BELOW THIS LINE\n",
    "\"\"\"\n",
    "tests.test_tokenize(token_lookup)"
   ]
  },
  {
   "cell_type": "markdown",
   "metadata": {},
   "source": [
    "## Preprocessing all the data and saving it\n",
    "Running the code cell below will preprocess all the data and saving it to file."
   ]
  },
  {
   "cell_type": "code",
   "execution_count": 5,
   "metadata": {},
   "outputs": [
    {
     "name": "stdout",
     "output_type": "stream",
     "text": [
      "{0: 'shove', 1: 'student', 2: 'little_hibbert_girl:', 3: 'extreme', 4: \"o'clock\", 5: 'h', 6: 'pig', 7: \"grandmother's\", 8: 'wipe', 9: 'one', 10: 'fry', 11: 'freed', 12: 'lovejoy', 13: '7g', 14: 'hugh', 15: 'coherent', 16: 'heart', 17: 'hunting', 18: 'the_rich_texan:', 19: 'whoo', 20: 'batmobile', 21: 'flustered', 22: '_babcock:', 23: 'blurbs', 24: \"fallin'\", 25: 'charges', 26: 'chin', 27: 'homers', 28: 'so-ng', 29: 'buried', 30: 'heroism', 31: 'southern', 32: \"team's\", 33: 'take', 34: 'name', 35: 'contemporary', 36: 'cuckoo', 37: 'fortune', 38: 'sunglasses', 39: 'poker', 40: 'sunk', 41: 'naturally', 42: 'orifice', 43: 'wrote', 44: 'bright', 45: 'rubbed', 46: 'sincere', 47: \"soakin's\", 48: 'prohibit', 49: 'priceless', 50: 'marquee', 51: 'discussing', 52: 'drown', 53: \"neighbor's\", 54: 'op', 55: \"lookin'\", 56: \"'morning\", 57: 'terrace', 58: \"what'sa\", 59: 'simpson', 60: 'meaningful', 61: 'snow', 62: '70', 63: 'generous', 64: 'ironic', 65: 'fast-food', 66: 'applesauce', 67: 'barber', 68: 'pulls', 69: 'envy-tations', 70: 'protestantism', 71: 'whirlybird', 72: 'miracle', 73: 'handwriting', 74: 'tastes', 75: 'boyfriend', 76: 'washer', 77: 'blows', 78: \"doctor's\", 79: 'numeral', 80: 'holiday', 81: 'population', 82: 'reserve', 83: 'whaddaya', 84: 'edge', 85: 'highball', 86: 'flailing', 87: 'dumb', 88: 'rainbows', 89: 'its', 90: \"thing's\", 91: 'babe', 92: 'schorr', 93: 'decided', 94: 'rat-like', 95: 'flame', 96: 'taylor', 97: 'updated', 98: 'obvious', 99: 'sense', 100: 'reserved', 101: 'sooo', 102: \"she'll\", 103: 'mystery', 104: 'celebrate', 105: 'pocket', 106: 'composer', 107: 'sticking', 108: 'belly', 109: 'handoff', 110: 'dumb-asses', 111: 'thrust', 112: 'confidentially', 113: 'slot', 114: 'guessing', 115: 'richard:', 116: 'indecipherable', 117: \"queen's\", 118: 'november', 119: 'jacksons', 120: 'tomato', 121: \"where'd\", 122: 'cow', 123: 'image', 124: \"ol'\", 125: 'eats', 126: 'tasty', 127: 'college', 128: 'milhouse_van_houten:', 129: 'wh', 130: 'competitive', 131: 'adopted', 132: 'quit', 133: 'manager', 134: 'knowingly', 135: 'supermodel', 136: '_eugene_blatz:', 137: 'insightful', 138: 'first', 139: 'playoff', 140: 'specific', 141: 'huh', 142: 'jernt', 143: 'sabermetrics', 144: 'bag', 145: 'brace', 146: 'diddilies', 147: 'modern', 148: 'patrons:', 149: 'heartless', 150: 'sam:', 151: 'illegal', 152: 'vodka', 153: 'wolfe', 154: 'bastard', 155: 'lisa_simpson:', 156: 'here-here-here', 157: 'crummy', 158: 'coyly', 159: 'low', 160: 'clown', 161: 'softer', 162: \"'er\", 163: \"nothin's\", 164: 'brag', 165: 'kitchen', 166: 'choked-up', 167: 'eight', 168: 'courteous', 169: 'moe_recording:', 170: 'julep', 171: 'measure', 172: 'who-o-oa', 173: 'renee', 174: 'motorcycle', 175: 'snake', 176: 'thnord', 177: 'support', 178: 'camera', 179: 'sausage', 180: 'getaway', 181: 'sistine', 182: 'urge', 183: 'entire', 184: 'propose', 185: 'store-bought', 186: 'initially', 187: 'travel', 188: 'apply', 189: 'texan', 190: 'self-esteem', 191: 'dictating', 192: 'releasing', 193: 'fortress', 194: 'ohh', 195: 'forecast', 196: 'swatch', 197: 'lookalike:', 198: 'enhance', 199: \"i'm-so-stupid\", 200: 'changes', 201: 'hose', 202: 'yogurt', 203: 'lives', 204: \"stallin'\", 205: \"mopin'\", 206: 'defensive', 207: 'scatter', 208: 'visas', 209: 'week', 210: 'judge', 211: 'stayed', 212: 'sisters', 213: 'medicine', 214: 'mayan', 215: 'wells', 216: 'blooded', 217: \"coaster's\", 218: 'avenue', 219: 'exhale', 220: 'pall', 221: 'process', 222: 'shaking', 223: 'poorer', 224: 'am', 225: 'naval', 226: 'say', 227: '||period||', 228: 'shaggy', 229: 'trip', 230: 't-shirt', 231: 'duel', 232: 'appointment', 233: '_burns_heads:', 234: \"havin'\", 235: 'host', 236: 'lifestyle', 237: 'midge:', 238: 'whatcha', 239: 'rascals', 240: 'kim_basinger:', 241: 'grumbling', 242: 'soir', 243: 'poisoning', 244: \"sippin'\", 245: 'manjula_nahasapeemapetilon:', 246: 'sir', 247: 'crap', 248: 'predictable', 249: 'employees', 250: 'ugly', 251: 'desperately', 252: 'exquisite', 253: 'thesaurus', 254: 'splash', 255: 'rockers', 256: 'pantsless', 257: 'stole', 258: 'gold', 259: 'purveyor', 260: 'recap:', 261: 'cab', 262: 'file', 263: 'assert', 264: 'luck', 265: 'benefits', 266: 'lime', 267: \"here's\", 268: 'jets', 269: 'reader', 270: 'patriotic', 271: 'unusual', 272: 'internet', 273: 'understood:', 274: 'for', 275: 'isotopes', 276: 'confidential', 277: 'peace', 278: 'strategizing', 279: 'system', 280: 'grin', 281: 'fringe', 282: \"collector's\", 283: 'informant', 284: 'distraught', 285: 'occupied', 286: 'tipsy', 287: 'rome', 288: 'abcs', 289: 'loan', 290: 'picked', 291: 'furious', 292: 'yours', 293: 'sodas', 294: 'problem', 295: \"g'ahead\", 296: 'cerebral', 297: 'reading', 298: 'squeeze', 299: 'swooning', 300: 'wrong', 301: 'calvin', 302: 'thoughtless', 303: 'dumptruck', 304: 'crestfallen', 305: 'an', 306: \"time's\", 307: 'chug', 308: 'bachelor', 309: 'generously', 310: \"leavin'\", 311: 'sets', 312: 'yeah', 313: 'whaaa', 314: 'super', 315: 'cops', 316: 'begging', 317: 'consider', 318: 'honored', 319: 'adventure', 320: 'natured', 321: 'join', 322: 'clear', 323: 'nemo', 324: 'presumir', 325: 'tow', 326: 'recently', 327: 'jebediah', 328: 'lot', 329: 'person', 330: 'depending', 331: \"others'\", 332: 'stats', 333: \"s'pose\", 334: 'freshened', 335: 'pushing', 336: 'surprise', 337: 'blinded', 338: 'soap', 339: 'puke-holes', 340: 'nards', 341: 'dawning', 342: 'bold', 343: 'up', 344: \"he'd\", 345: 'klown', 346: 'keys', 347: 'regulars', 348: 'glummy', 349: 'dinks', 350: \"'bout\", 351: 'bad', 352: 'tabs', 353: 'sleigh-horses', 354: 'venom', 355: 'reopen', 356: 'stadium', 357: \"spyin'\", 358: 'pre-game', 359: 'cavern', 360: \"'topes\", 361: 'drawer', 362: 'drunk', 363: 'guinea', 364: 'lights', 365: \"she's\", 366: 'squabbled', 367: 'motor', 368: 'man_with_crazy_beard:', 369: 'americans', 370: 'cost', 371: 'drinks', 372: 'bowl', 373: 'tropical', 374: 'knocks', 375: 'singers:', 376: 'characteristic', 377: 'optimistic', 378: 'slapped', 379: 'see', 380: \"spaghetti-o's\", 381: 'africanized', 382: 'test-', 383: 'authenticity', 384: 'provide', 385: 'flaking', 386: 'disco_stu:', 387: 'specified', 388: 'would', 389: 'si-lent', 390: 'weep', 391: 'woulda', 392: 'creepy', 393: 'backing', 394: '_kissingher:', 395: 'defeated', 396: 'prayer', 397: 'u2:', 398: 'fourth', 399: 'meanwhile', 400: 'bits', 401: 'warn', 402: 'kool', 403: 'beach', 404: 'club', 405: 'warily', 406: 'witches', 407: 'blew', 408: 'find', 409: 'pint', 410: 'answering', 411: 'greatest', 412: 'bullet-proof', 413: 'stu', 414: 'resist', 415: 'loafers', 416: 'lisa', 417: 'ing', 418: 'like', 419: \"readin'\", 420: \"bo's\", 421: 'spelling', 422: 'inspired', 423: 'reads', 424: 'entering', 425: 'imported-sounding', 426: 'eightball', 427: 'guess', 428: 'hemoglobin', 429: 'way:', 430: \"hole'\", 431: 'wears', 432: 'disguised', 433: 'embarrassing', 434: 'family', 435: 'strolled', 436: 'emergency', 437: 'coms', 438: 'spit-backs', 439: 'beast', 440: 'wheels', 441: 'attractive_woman_#2:', 442: 'brothers', 443: \"lisa's\", 444: 'carney', 445: 'engine', 446: 'poetics', 447: 'late', 448: 'appreciated', 449: 'lone', 450: 'wangs', 451: \"life's\", 452: 'winnings', 453: 'ago', 454: 'hungry', 455: 'choose', 456: 'guys', 457: 'branding', 458: \"homer's\", 459: 'instead', 460: 'de', 461: 'o', 462: 'quimbys:', 463: 'computer_voice_2:', 464: 'queer', 465: 'fresh', 466: 'laramie', 467: \"'evening\", 468: 'fella', 469: 'kissing', 470: 'lobster-based', 471: 'tom', 472: 'koji', 473: 'chili', 474: 'glowers', 475: 'shooting', 476: 'ding-a-ding-ding-ding-ding-ding-ding', 477: 'gotta', 478: 'deacon', 479: 'oooo', 480: 'peanut', 481: 'tang', 482: 'christopher', 483: 'pop', 484: 'none', 485: 'paintings', 486: 'kwik-e-mart', 487: 'monster', 488: '-ry', 489: 'doctor', 490: 'audience:', 491: 'silence', 492: 'rainier_wolfcastle:', 493: 'alternative', 494: 'army', 495: 'mellow', 496: 'exclusive:', 497: 'movement', 498: 'grope', 499: 'affects', 500: 'insulted', 501: 'series', 502: 'academy', 503: 'jams', 504: 'ball-sized', 505: 'squeals', 506: 'malabar', 507: 'occurrence', 508: 'index', 509: 'youse', 510: 'blobbo', 511: 'bartholomã©:', 512: 'entrance', 513: 'dumbest', 514: \"pope's\", 515: 'nascar', 516: 'morlocks', 517: 'whoever', 518: 'tongue', 519: 'gin-slingers', 520: 'shreda', 521: 'twenty-six', 522: 'isle', 523: 'stirring', 524: 'satisfaction', 525: 'key', 526: 'amazed', 527: 'suspect', 528: 'down', 529: 'ding-a-ding-ding-a-ding-ding', 530: \"should've\", 531: 'mabel', 532: 'lipo', 533: 'mcstagger', 534: 'sobo', 535: 'gin', 536: 'clearly', 537: 'bloodiest', 538: 'sudden', 539: 'looting', 540: 'lucius', 541: 'watching', 542: 'prison', 543: 'albert', 544: 'sentimonies', 545: 'anniversary', 546: 'pleasure', 547: 'braun:', 548: 'cheery', 549: 'unsourced', 550: 'raging', 551: 'mamma', 552: 'mortgage', 553: 'ragtime', 554: \"that'd\", 555: 'improved', 556: 'supplying', 557: 'motto', 558: 'beaumarchais', 559: 'super-tough', 560: 'part-time', 561: 'empty', 562: 'bono', 563: 'chum', 564: 'chosen', 565: 'domestic', 566: 'doll', 567: 'jacques', 568: 'caught', 569: 'flag', 570: 'inserts', 571: 'kyoto', 572: 'agents', 573: 'cake', 574: 'fulla', 575: 'twenty-five', 576: 'examines', 577: 'these', 578: 'gives', 579: 'steaming', 580: 'believer', 581: 'tv_daughter:', 582: 'department', 583: 'jubilant', 584: 'hooters', 585: 'beer-dorf', 586: 'truck_driver:', 587: 'sensitivity', 588: 'novel', 589: 'hyper-credits', 590: 'impressed', 591: 'renew', 592: \"hell's\", 593: 'germans', 594: 'paying', 595: 'champs', 596: 'passports', 597: 'medieval', 598: 'thirty-five', 599: 'waylon_smithers:', 600: 'groin', 601: 'worked', 602: 'named', 603: 'lifters', 604: 'backbone', 605: 'crazy', 606: 'rev', 607: 'faceful', 608: 'grade', 609: 'furiously', 610: 'belly-aching', 611: 'tummies', 612: 'chipper', 613: 'someplace', 614: 'boisterous', 615: 'phasing', 616: 'r', 617: 'sell', 618: 'calm', 619: 'woman', 620: 'conspiracy', 621: 'homie', 622: 'cutie', 623: 'domed', 624: 'macaulay', 625: 'shhh', 626: 'assume', 627: 'killed', 628: '||left_parentheses||', 629: 'fwooof', 630: 'ring', 631: 'oh-so-sophisticated', 632: 'necklace', 633: 'stupidly', 634: 'plaintive', 635: 'accepting', 636: 'sniffles', 637: 'stupidest', 638: 'attraction', 639: 'beats', 640: 'typing', 641: 'ingredient', 642: 'contemptuous', 643: 'chub', 644: 'faced', 645: 'nasty', 646: 'boxcars', 647: 'rope', 648: \"let's\", 649: 'taste', 650: 'talkers', 651: 'expecting', 652: 'schedule', 653: 'renovations', 654: 'hushed', 655: 'dispenser', 656: 'briefly', 657: 'deserve', 658: 'girl-bart', 659: 'respect', 660: 'teenage_bart:', 661: \"narratin'\", 662: 'itself', 663: 'center', 664: 'whatsit', 665: 'shirt', 666: 'tonight', 667: 'waltz', 668: 'awful', 669: 'however', 670: 'since', 671: \"they're\", 672: \"choosin'\", 673: 'little', 674: 'vanities', 675: 'listen', 676: 'smithers', 677: 'rainier', 678: 'botanical', 679: 'lovely', 680: 'save', 681: 'carll', 682: 'ayyy', 683: 'along', 684: 'charm', 685: 'school', 686: 'bless', 687: 'cheerier', 688: 'never', 689: 'dean', 690: 'mater', 691: 'capuchin', 692: 'dear', 693: 'adequate', 694: 'story', 695: 'read', 696: 'walther', 697: 'what-for', 698: 'scoffs', 699: 'chipped', 700: 'gals', 701: 'brusque', 702: 'hundred', 703: 'breakdown', 704: 'amnesia', 705: 'perplexed', 706: 'stolen', 707: 'pitch', 708: 'eating', 709: 'fly', 710: 'billiard', 711: \"pickin'\", 712: 'fortensky', 713: 'gardens', 714: 'labels', 715: 'capitol', 716: 'pain', 717: 'sober', 718: 'chase', 719: 'grabbing', 720: 'acquaintance', 721: 'hmm', 722: 'cough', 723: 'fifty', 724: 'allowance', 725: 'mate', 726: 'waking-up', 727: 'ned_flanders:', 728: 'toy', 729: 'occasional', 730: 'astrid', 731: 'souvenir', 732: 'grunt', 733: 'd', 734: 'turkey', 735: 'wussy', 736: 'healthier', 737: 'knowledge', 738: 'character', 739: 'duty', 740: 'stab', 741: 'mommy', 742: 'xx', 743: 'open', 744: \"brockman's\", 745: 'eaten', 746: \"tv'll\", 747: 'boat', 748: '3', 749: 'omigod', 750: 'terrible', 751: 'krabappel', 752: 'oww', 753: 'thing:', 754: 'serum', 755: 'employment', 756: 'last', 757: 'stamp', 758: 'maya:', 759: 'bald', 760: 'grandkids', 761: 'skoal', 762: 'fdic', 763: 'field', 764: 'tha', 765: 'warmth', 766: 'a-lug', 767: 'creates', 768: 'drift', 769: 'protecting', 770: 'looser', 771: 'stacey', 772: 'title', 773: 'tire', 774: 'whatchacallit', 775: 'watch', 776: 'help', 777: '14', 778: 'illustrates', 779: 'though', 780: 'sucking', 781: 'marriage', 782: 'supreme', 783: 'sorts', 784: 'screw', 785: 'rhode', 786: \"robbin'\", 787: 'complaint', 788: 'woo-hoo', 789: 'spinning', 790: 'introduce', 791: 'drug', 792: 'rat', 793: 'given', 794: 'clench', 795: 'deals', 796: 'tv', 797: 'odd', 798: 'tape', 799: 'remains', 800: 'offer', 801: 'data', 802: 'temples', 803: 'pope', 804: '_timothy_lovejoy:', 805: 'robin', 806: 'hat', 807: 'dealer', 808: 'dressing', 809: \"secret's\", 810: 'oooh', 811: 'kid', 812: 'panties', 813: 'shout', 814: 'abe', 815: 'tap', 816: 'german', 817: 'sorry', 818: 'ape-like', 819: \"i'd'a\", 820: 'huhza', 821: 'toward', 822: \"wallet's\", 823: 'wing', 824: 'bring', 825: 'temper', 826: 'solves', 827: \"beer's\", 828: 'laws', 829: 'blocked', 830: 'jam', 831: 'organ', 832: 'thoughtfully', 833: 'torn', 834: 'hard', 835: 'beeps', 836: 'sacrifice', 837: 'enthusiastically', 838: 'effervescent', 839: 'can', 840: 'innocuous', 841: 'rewound', 842: 'ratted', 843: 'stealings', 844: 'uh-oh', 845: 'gosh', 846: \"askin'\", 847: 'anarchy', 848: 'royal', 849: 'forbidden', 850: 'floated', 851: \"'your\", 852: 'routine', 853: 'delts', 854: 'gator', 855: 'sheriff', 856: 'homeland', 857: 'wound', 858: 'catholic', 859: 'hardwood', 860: 'rain', 861: 'motel', 862: 'perch', 863: 'snapping', 864: 'emotion', 865: 'pile', 866: 'agency', 867: 'los', 868: 'language', 869: 'cursed', 870: 'david', 871: 'television', 872: 'fact', 873: 'pepsi', 874: 'eyed', 875: 'taps', 876: 'private', 877: 'gunk', 878: 'herself', 879: \"wife's\", 880: 'attention', 881: 'genius', 882: 'heh-heh', 883: 'dana_scully:', 884: 'gayer', 885: 'rector', 886: 'veux', 887: 'grammy', 888: 'expert', 889: 'easy', 890: 'executive', 891: 'committing', 892: 'customers', 893: 'brain-switching', 894: 'planned', 895: \"heat's\", 896: 'train', 897: 'by', 898: 'marge_simpson:', 899: 'sugar-free', 900: 'straight', 901: 'heavyweight', 902: 'radiator', 903: 'fruit', 904: 'although', 905: 'measurements', 906: 'here', 907: 'anti-intellectualism', 908: \"waitin'\", 909: 'accept', 910: \"workin'\", 911: 'candidate', 912: 'savvy', 913: 'shill', 914: \"shouldn't\", 915: 'gruesome', 916: 'grave', 917: \"fendin'\", 918: 'arm-pittish', 919: 'inherent', 920: 'photographer', 921: \"mo'\", 922: 'burnside', 923: 'nasa', 924: 'men:', 925: 'high-definition', 926: 'louse', 927: 'shindig', 928: 'mmm', 929: 'dearest', 930: 'puzzled', 931: 'plane', 932: 'other_player:', 933: 'proposing', 934: 'victory', 935: \"c'mon\", 936: 'knuckles', 937: 'darkness', 938: 'phlegm', 939: \"haven't\", 940: 'itchy', 941: 'disappointed', 942: 'kentucky', 943: 'detective_homer_simpson:', 944: 'jay:', 945: \"depressin'\", 946: \"tester's\", 947: 'ointment', 948: 'avalanche', 949: 'santa', 950: 'jeff_gordon:', 951: 'espn', 952: 'perhaps', 953: 'murmurs', 954: 'scruffy_blogger:', 955: 'slice', 956: 'overflowing', 957: 'repairman', 958: 'cuddling', 959: 'wear', 960: 'corporation', 961: 'starting', 962: 'above', 963: 'ninety-six', 964: 'usual', 965: 'sweat', 966: 'playful', 967: 'sniffs', 968: 'calls', 969: 'beer', 970: 'embarrassed', 971: 'table', 972: 'scientists', 973: 'anti-lock', 974: 'gulps', 975: 'those', 976: 'coming', 977: 'acceptance', 978: 'astronauts', 979: 'fbi_agent:', 980: 'windowshade', 981: 'plywood', 982: \"elmo's\", 983: 'patented', 984: 'beefs', 985: 'director', 986: \"could've\", 987: 'fluoroscope', 988: 'radioactive', 989: 'hangs', 990: 'yo', 991: 'cloudy', 992: '1973', 993: 'left', 994: 'uneasy', 995: 'stevie', 996: 'minimum', 997: 'neighbor', 998: 'potatoes', 999: 'principles', 1000: 'byrne', 1001: 'voted', 1002: 'soul', 1003: 'tight', 1004: 'exits', 1005: 'pleading', 1006: 'society', 1007: 'wore', 1008: 'rich', 1009: 'cannot', 1010: 'pissed', 1011: 'stands', 1012: 'next', 1013: 'glass', 1014: \"o'\", 1015: 'lou:', 1016: 'crowd:', 1017: 'movies', 1018: 'taken', 1019: 'voice:', 1020: 'crimes', 1021: 'cop', 1022: 'shocked', 1023: 'cigars', 1024: 'familiar', 1025: 'renee:', 1026: 'promotion', 1027: 'cent', 1028: 'insensitive', 1029: 'reminded', 1030: 'mild', 1031: 'work', 1032: 'cure', 1033: 'belt', 1034: 'starla:', 1035: 'reconsidering', 1036: 'brick', 1037: 'repay', 1038: 'problemo', 1039: 'men', 1040: 'car', 1041: 'care', 1042: \"'cept\", 1043: 'blind', 1044: 'civic', 1045: 'displeased', 1046: 'running', 1047: 'banquo', 1048: 'busted', 1049: 'paste', 1050: 'picture', 1051: 'event', 1052: 'doll-baby', 1053: 'boozer', 1054: 'losers', 1055: 'plug', 1056: 'surprised/thrilled', 1057: 'nameless', 1058: 'grubby', 1059: 'forward', 1060: 'brine', 1061: 'hidden', 1062: 'killer', 1063: 'night', 1064: 'reptile', 1065: 'whether', 1066: 'polenta', 1067: \"ma's\", 1068: 'flashing', 1069: 'pip', 1070: 'scout', 1071: 'impress', 1072: 'books', 1073: 'hippies', 1074: 'coined', 1075: 'fierce', 1076: 'tree_hoper:', 1077: 'germany', 1078: 'item', 1079: 'media', 1080: 'cueball', 1081: 'hoping', 1082: 'edna', 1083: 'ale', 1084: 'car:', 1085: 'p-k', 1086: 'heals', 1087: 'stored', 1088: 'county', 1089: 'trying', 1090: 'ecru', 1091: 'wholeheartedly', 1092: 'sugar-me-do', 1093: 'chief_wiggum:', 1094: 'scared', 1095: 'paparazzo', 1096: 'spellbinding', 1097: 'source', 1098: 'feeling', 1099: 'movie', 1100: 'site', 1101: \"industry's\", 1102: 'irish', 1103: 'presidents', 1104: 'miserable', 1105: 'wang', 1106: 'consulting', 1107: 'intruding', 1108: 'sitcom', 1109: 'appearance-altering', 1110: 'fishing', 1111: 'bubbles-in-my-nose-y', 1112: 'season', 1113: 'presentable', 1114: 'alarm', 1115: 'pretentious_rat_lover:', 1116: 'actor', 1117: 'gus', 1118: 'cozy', 1119: 'heaven', 1120: 'leathery', 1121: 'simplest', 1122: '||dash||', 1123: 'fingers', 1124: 'kegs', 1125: \"fans'll\", 1126: '2', 1127: 'yet', 1128: 'face', 1129: 'perverted', 1130: 'roof', 1131: 'barbed', 1132: 'restaurant', 1133: 'dennis_conroy:', 1134: 'full-time', 1135: 'law', 1136: 'wiggle', 1137: 'coincidentally', 1138: 'occurred', 1139: 'american', 1140: 'restroom', 1141: '50-60', 1142: 'busiest', 1143: 'beady', 1144: 'dreamy', 1145: 'finishing', 1146: 'soaps', 1147: 'e-z', 1148: 'gil_gunderson:', 1149: 'geyser', 1150: \"cat's\", 1151: 'stretches', 1152: 'poem', 1153: 'transfer', 1154: 'aerosmith', 1155: 'eyeball', 1156: 'beginning', 1157: 'bust', 1158: 'bathtub', 1159: 'brightening', 1160: 'glum', 1161: 'prompting', 1162: 'agree', 1163: 'obese', 1164: 'waters', 1165: 'step', 1166: 'cries', 1167: 'judge_snyder:', 1168: 'or', 1169: 'shakes', 1170: 'teacup', 1171: 'crunch', 1172: \"watchin'\", 1173: 'attach', 1174: 'thumb', 1175: 'haw', 1176: 'aghast', 1177: 'lottery', 1178: 'spoon', 1179: 'attracted', 1180: 'direction', 1181: 'words', 1182: 'vegas', 1183: 'talk', 1184: 'stick', 1185: 'became', 1186: \"spiffin'\", 1187: 'mister', 1188: \"floatin'\", 1189: 'layer', 1190: 'japanese', 1191: 'seamstress', 1192: 'lousy', 1193: 'winning', 1194: 'blur', 1195: \"'em\", 1196: 'been', 1197: 'lenny:', 1198: \"'s\", 1199: 'goes', 1200: 'madman', 1201: 'alphabet', 1202: 'beam', 1203: 'sounded', 1204: 'puke-pail', 1205: 'happiness', 1206: 'pirate', 1207: 'broadway', 1208: 'easygoing', 1209: 'anxious', 1210: 'annus', 1211: 'relaxed', 1212: 'kirk_voice_milhouse:', 1213: 'stalin', 1214: 'minors', 1215: 'bee', 1216: 'ralph', 1217: 'putting', 1218: 'crying', 1219: 'finale', 1220: 'absentmindedly', 1221: 'suppose', 1222: 'cutest', 1223: 'skeptical', 1224: 'kinda', 1225: 'touches', 1226: 'ivory', 1227: 'buffet', 1228: 'impending', 1229: 'bagged', 1230: \"s'okay\", 1231: 'murdered', 1232: 'wife', 1233: 'eggs', 1234: 'mmm-hmm', 1235: 'snort', 1236: 'meditative', 1237: \"pullin'\", 1238: 'lonely', 1239: \"murphy's\", 1240: 'koi', 1241: 'grab', 1242: 'guzzles', 1243: 'dirt', 1244: 'fixed', 1245: 'flames', 1246: 'billion', 1247: 'appealing', 1248: 'corporate', 1249: 'renders', 1250: 'thousand', 1251: 'child', 1252: 'refreshing', 1253: 'barter', 1254: 'careful', 1255: 'four-drink', 1256: 'finish', 1257: 'cadillac', 1258: 'dumpster', 1259: 'grampa_simpson:', 1260: 'windex', 1261: 'apron', 1262: 'explain', 1263: 'gag', 1264: 'afraid', 1265: 'gently', 1266: 'spotting', 1267: 'into', 1268: 'looking', 1269: 'quietly', 1270: 'tanked-up', 1271: 'later', 1272: 'shaken', 1273: 'shades', 1274: 'certainly', 1275: 'blood', 1276: 'disgraceful', 1277: \"fun's\", 1278: 'fake', 1279: 'trivia', 1280: 'edison', 1281: 'fatty', 1282: 'social', 1283: 'arm', 1284: 'voice_on_transmitter:', 1285: 'nerd', 1286: 'checks', 1287: 'ultimate', 1288: 'speaking', 1289: 'rather', 1290: 'eaters', 1291: 'hearse', 1292: 'eyeballs', 1293: \"wearin'\", 1294: 'across', 1295: 'onions', 1296: 'duh', 1297: 'trench', 1298: 'alfalfa', 1299: 'apulina', 1300: 'unhappy', 1301: 'promise', 1302: 'cameras', 1303: 'heave-ho', 1304: 'tell', 1305: 'sixteen', 1306: 'punk', 1307: 'bills', 1308: 'gestated', 1309: 'astonishment', 1310: 'struggling', 1311: 'cesss', 1312: 'swig', 1313: 'stinks', 1314: 'cheering', 1315: 'campaign', 1316: 'closed', 1317: 'carnival', 1318: 'dracula', 1319: 'suave', 1320: 'pernt', 1321: 'awkwardly', 1322: 'brave', 1323: 'license', 1324: 'ehhhhhhhh', 1325: 'sprawl', 1326: 'troy', 1327: 'poplar', 1328: 'gifts', 1329: 'rob', 1330: 'puffy', 1331: \"you'd\", 1332: 'quality', 1333: 'caholic', 1334: 'wanna', 1335: 'point', 1336: 'mechanical', 1337: 'stengel', 1338: 'standards', 1339: \"he's\", 1340: 'ringing', 1341: 'gamble', 1342: 'because', 1343: 'ugliest', 1344: 'edgy', 1345: 'water', 1346: 'legal', 1347: 'eight-year-old', 1348: 'marvin', 1349: 'dull', 1350: 'drives', 1351: \"tonight's\", 1352: 'oddest', 1353: 'jazz', 1354: 'fiiiiile', 1355: 'fumes', 1356: 'slobbo', 1357: 'chapstick', 1358: 'courthouse', 1359: 'crippling', 1360: 'runs', 1361: 'learn', 1362: 'managing', 1363: 'young_moe:', 1364: 'self-satisfied', 1365: 'newly-published', 1366: 'refiero', 1367: 'face-macer', 1368: 'seductive', 1369: 'options', 1370: \"doesn't\", 1371: 'friction', 1372: 'lucky', 1373: \"it's\", 1374: 'most', 1375: \"changin'\", 1376: \"how'd\", 1377: 'inside', 1378: 'maybe', 1379: 'bleacher', 1380: 'bunch', 1381: 'ask', 1382: 'dexterous', 1383: \"game's\", 1384: 'twin', 1385: 'mags', 1386: 'so-called', 1387: 'be-stainã¨d', 1388: 'buy', 1389: 'uglier', 1390: 'nitwit', 1391: 'broncos', 1392: 'ails', 1393: 'lovelorn', 1394: 'wrestle', 1395: 'different', 1396: 'lib', 1397: 'asses', 1398: 'raining', 1399: 'denver', 1400: 'suspicious', 1401: 'ideal', 1402: 'rip-off', 1403: 'cheers', 1404: 'pigs', 1405: 'reflected', 1406: 'hours', 1407: 'bed', 1408: \"you're\", 1409: 'funeral', 1410: 'environment', 1411: 'names', 1412: 'milhouse', 1413: 'self-made', 1414: 'the_edge:', 1415: \"liberty's\", 1416: 'launch', 1417: 'express', 1418: \"eatin'\", 1419: 'throw', 1420: 'tab', 1421: 'bloodball', 1422: 'upbeat', 1423: 'delighted', 1424: 'worse', 1425: 'brings', 1426: 'certificate', 1427: 'cowboys', 1428: 'air', 1429: 'tale', 1430: 'city', 1431: 'unattractive', 1432: 'doppler', 1433: 'louisiana', 1434: 'grudgingly', 1435: 'kahlua', 1436: 'irrelevant', 1437: 'william', 1438: 'brakes', 1439: 'talkative', 1440: 'pink', 1441: 'rafter', 1442: 'big', 1443: 'stink', 1444: 'municipal', 1445: 'pudgy', 1446: 'surprised', 1447: 'murdoch', 1448: 'intimacy', 1449: 'crowded', 1450: 'outside', 1451: 'er', 1452: 'term', 1453: 'delightfully', 1454: 'pour', 1455: 'fancy', 1456: \"stealin'\", 1457: \"show's\", 1458: 'pained', 1459: 'dump', 1460: 'rickles', 1461: 'diaper', 1462: 'small', 1463: 'firm', 1464: 'convenient', 1465: 'kills', 1466: 'kicks', 1467: 'news', 1468: 'naegle', 1469: 'powered', 1470: \"wouldn't\", 1471: 'script', 1472: 'year', 1473: 'sidekick', 1474: 'fantastic', 1475: 'leaving', 1476: 'procedure', 1477: 'awe', 1478: '35', 1479: 'playing', 1480: \"jackpot's\", 1481: 'confidence', 1482: 'cannoli', 1483: 'health_inspector:', 1484: 'bite', 1485: 'barney-type', 1486: 'scanning', 1487: 'awkward', 1488: 'cletus_spuckler:', 1489: 'windshield', 1490: 'beep', 1491: 'kidney', 1492: \"drexel's\", 1493: 'weather', 1494: 'flash', 1495: 'actress', 1496: 'lump', 1497: 'bubbles', 1498: 'bus', 1499: 'woe:', 1500: 'virility', 1501: 'grenky', 1502: 'besides', 1503: 'proudly', 1504: 'moesy', 1505: 'helllp', 1506: 'gimmick', 1507: 'okay', 1508: 'up-bup-bup', 1509: 'guiltily', 1510: 'wooooo', 1511: 'pay', 1512: 'notices', 1513: 'shower', 1514: '_marvin_monroe:', 1515: 'guilt', 1516: 'pass', 1517: 'kissed', 1518: 'passed', 1519: 'scum-sucking', 1520: 'frink', 1521: \"'tis\", 1522: 'a-a-b-b-a', 1523: 'served', 1524: 'bursts', 1525: 'acting', 1526: 'loathe', 1527: 'cab_driver:', 1528: 'die-hard', 1529: 'developed', 1530: 'meteor', 1531: 'confident', 1532: 'wasting', 1533: 'changing', 1534: 'luxury', 1535: 'rumaki', 1536: 'no', 1537: 'gift', 1538: 'bottom', 1539: 'least', 1540: 'life-threatening', 1541: 'ignorance', 1542: 'paint', 1543: 'jeff', 1544: 'chic', 1545: 'shaved', 1546: 'grunts', 1547: 'thirteen', 1548: 'jack_larson:', 1549: 'she', 1550: 'build', 1551: \"lady's\", 1552: 'perfume', 1553: 'coma', 1554: 'enter', 1555: 'crowbar', 1556: 'ladder', 1557: '_julius_hibbert:', 1558: \"i'unno\", 1559: 'serve', 1560: 'bottoms', 1561: \"thinkin'\", 1562: 'resolution', 1563: 'tv_wife:', 1564: 'smug', 1565: 'sister', 1566: \"tab's\", 1567: 'subject', 1568: 'statues', 1569: 'pride', 1570: 'lincoln', 1571: 'workers', 1572: 'forgets', 1573: 'gentles', 1574: 'beverage', 1575: 'hampstead-on-cecil-cecil', 1576: 'alcoholism', 1577: 'apart', 1578: 'shoots', 1579: 'refreshingness', 1580: 'falling', 1581: 'teeth', 1582: 'hourly', 1583: 'strategy', 1584: 'superhero', 1585: 'ruin', 1586: 'filthy', 1587: 'expired', 1588: 'advertising', 1589: 'jokes', 1590: 'part', 1591: 'polygon', 1592: 'who', 1593: 'tv_husband:', 1594: 'lecture', 1595: 'yourse', 1596: 'falcons', 1597: 'eighty-five', 1598: 'superdad', 1599: 'sperm', 1600: 'mexican', 1601: 'inspection', 1602: 'brockman', 1603: 'enthused', 1604: 'saving', 1605: 'yello', 1606: 'parasol', 1607: 'zero', 1608: 'often', 1609: 'certified', 1610: 'napkins', 1611: 'nantucket', 1612: \"bar's\", 1613: \"ragin'\", 1614: 'marge', 1615: 'faces', 1616: 'scum', 1617: 'lingus', 1618: 'classy', 1619: 'shop', 1620: 'wait', 1621: 'dozen', 1622: 'wham', 1623: 'poke', 1624: 'dreary', 1625: 'sent', 1626: 'minutes', 1627: 'found', 1628: 'eliminate', 1629: 'knees', 1630: 'th-th-th-the', 1631: 'ears', 1632: 'day', 1633: 'than', 1634: 'dishrag', 1635: 'hero', 1636: 'weary', 1637: \"when's\", 1638: 'contemplated', 1639: 'works', 1640: 'paper', 1641: 'chorus:', 1642: 'barney', 1643: 'anger', 1644: 'peppy', 1645: 'flatly', 1646: 'lizard', 1647: 'balloon', 1648: 'boxcar', 1649: 'yea', 1650: 'third', 1651: 'resenting', 1652: 'firmly', 1653: 'buds', 1654: 'pin', 1655: 'hits', 1656: 'read:', 1657: 'thinking', 1658: 'dirge-like', 1659: 'wisconsin', 1660: 'hydrant', 1661: 'ohmygod', 1662: 'sniffing', 1663: 'mid-conversation', 1664: 'johnny_carson:', 1665: 'happened', 1666: 'accelerating', 1667: 'homer_simpson:', 1668: \"usin'\", 1669: 'smurfs', 1670: 'driver', 1671: 'extract', 1672: 'clinton', 1673: 'ne', 1674: 'send', 1675: \"springfield's\", 1676: 'jerry', 1677: \"that's\", 1678: 'public', 1679: 'bottles', 1680: 'benjamin:', 1681: 'wildfever', 1682: 'troy_mcclure:', 1683: 'diamond', 1684: 'craphole', 1685: 'exactly', 1686: 'ooh', 1687: 'box', 1688: 'booze-bags', 1689: 'i', 1690: \"men's\", 1691: 'three', 1692: 'hurry', 1693: 'screams', 1694: \"round's\", 1695: 'tuborg', 1696: 'brainheaded', 1697: 'fonda', 1698: 'general', 1699: 'flack', 1700: 'sympathetic', 1701: 'telemarketing', 1702: 'reality', 1703: 'spacey', 1704: 'pus-bucket', 1705: 'morose', 1706: 'duke', 1707: 'happily', 1708: 'comforting', 1709: 'desire', 1710: 'mickey', 1711: 'some', 1712: \"they'll\", 1713: 'mrs', 1714: 'gal', 1715: 'fixes', 1716: 'add', 1717: 'look', 1718: 'calling', 1719: 'worth', 1720: 'snout', 1721: 'world', 1722: 'paid', 1723: 'reciting', 1724: 'polish', 1725: 'sass', 1726: 'imaginary', 1727: 'teen', 1728: 'will', 1729: 'lady', 1730: \"poisonin'\", 1731: 'myself', 1732: 'trenchant', 1733: 'senators:', 1734: 'benjamin', 1735: 'chuckles', 1736: 'cut', 1737: 'treat', 1738: 'soaked', 1739: 'slop', 1740: 'soul-crushing', 1741: 'verdict', 1742: 'dashes', 1743: 'appreciate', 1744: 'liable', 1745: 'be', 1746: 'this', 1747: 'protesting', 1748: 'beached', 1749: 'checking', 1750: 'mid-seventies', 1751: \"ladies'\", 1752: 'thrown', 1753: 'delivery', 1754: 'revenge', 1755: 'get', 1756: \"ya'\", 1757: 'payback', 1758: 'planning', 1759: \"gentleman's\", 1760: 'wraps', 1761: 'hot-rod', 1762: 'dateline', 1763: 'today', 1764: 'forehead', 1765: 'courage', 1766: 'boyhood', 1767: 'straighten', 1768: 'frenchman', 1769: 'tied', 1770: 'horror', 1771: 'nauseous', 1772: 'impeach', 1773: 'intrigued', 1774: 'inflated', 1775: 'ireland', 1776: 'len-ny', 1777: 'pointing', 1778: 'inches', 1779: 'startled', 1780: 'pets', 1781: 'bowie', 1782: 'weird', 1783: 'groans', 1784: 'smart', 1785: '||question_mark||', 1786: 'robot', 1787: 'disappeared', 1788: 'delicious', 1789: 'elizabeth', 1790: 'brandy', 1791: 'sniper', 1792: 'enemy', 1793: 'sponsor', 1794: 'rutabaga', 1795: 'ivana', 1796: 'high', 1797: 'nibble', 1798: 'sooner', 1799: 'bulked', 1800: \"stinkin'\", 1801: 'what', 1802: 'suffering', 1803: 'blade', 1804: 'electronic', 1805: 'spouses', 1806: \"neat's-foot\", 1807: 'likes', 1808: 'ralph_wiggum:', 1809: 'stretch', 1810: 'chug-monkeys', 1811: 'mariah', 1812: 'crony', 1813: 'accounta', 1814: 'perverse', 1815: 'football_announcer:', 1816: 'noises', 1817: 'apu', 1818: 'replaced', 1819: 'bulldozing', 1820: 'everybody', 1821: 'larson', 1822: 'adeleine', 1823: 'located', 1824: 'mean', 1825: 'drummer', 1826: 'hemorrhage-amundo', 1827: 'perking', 1828: 'monday', 1829: 'bars', 1830: \"father's\", 1831: 'button', 1832: \"s'cuse\", 1833: 'bees', 1834: 'hibachi', 1835: \"dolph's_dad:\", 1836: 'moved', 1837: 'chicks', 1838: 'flying', 1839: 'problems', 1840: 'distaste', 1841: 'short', 1842: 'trade', 1843: \"maggie's\", 1844: 'hero-phobia', 1845: 'intoxicants', 1846: 'musketeers', 1847: 'stonewall', 1848: 'make', 1849: 'stay', 1850: 'u', 1851: \"cleanin'\", 1852: 'drove', 1853: 'bob', 1854: 'relax', 1855: 'boozehound', 1856: 'w-a-3-q-i-zed', 1857: 'aggravazes', 1858: 'fork', 1859: 'alls', 1860: 'liar', 1861: 'issues', 1862: 'belts', 1863: 'banks', 1864: 'consoling', 1865: 'ziffcorp', 1866: 'pulled', 1867: 'wage', 1868: 'blown', 1869: 'sweeter', 1870: 'idiot', 1871: 'puts', 1872: 'beaumont', 1873: 'enabling', 1874: 'showed', 1875: 'living', 1876: 'lobster', 1877: 'james', 1878: 'job', 1879: 'lawyer', 1880: 'manipulation', 1881: 'lock', 1882: 'police', 1883: 'spending', 1884: 'etc', 1885: 'gags', 1886: 'john', 1887: 'faint', 1888: 'much', 1889: 'sail', 1890: 'every', 1891: 'new_health_inspector:', 1892: 'appeals', 1893: 'ho-ly', 1894: 'trail', 1895: 'ebullient', 1896: 'perfect', 1897: 'wikipedia', 1898: 'lady_duff:', 1899: 'value', 1900: 'bathing', 1901: 'filth', 1902: 'expression', 1903: 'schmoe', 1904: 'rap', 1905: 'art', 1906: 'papa', 1907: 'caveman', 1908: 'smokes', 1909: 'lewis', 1910: 'sun', 1911: 'successful', 1912: 'mistake', 1913: 'conspiratorial', 1914: 'count', 1915: 'patty_bouvier:', 1916: 'agent', 1917: 'patron_#1:', 1918: 'girlfriend', 1919: 'dã¼ff', 1920: 'eye', 1921: 'premise', 1922: 'grimly', 1923: 'mccall', 1924: 'bauer', 1925: 'sub-monkeys', 1926: 'cap', 1927: 'espousing', 1928: 'daniel', 1929: 'aah', 1930: 'lloyd:', 1931: 'mudflap', 1932: 'monkey', 1933: 'starters', 1934: 'prolonged', 1935: 'reward', 1936: 'so', 1937: 'tourist', 1938: 'liquor', 1939: 'brawled', 1940: 'swine', 1941: 'killing', 1942: 'pre-columbian', 1943: 'boxer:', 1944: 'folks', 1945: 'pizzicato', 1946: 'newsweek', 1947: 'louie:', 1948: 'shuts', 1949: 'jacques:', 1950: 'popped', 1951: 'painting', 1952: 'life-partner', 1953: 'tv_announcer:', 1954: \"couldn't\", 1955: 'sly', 1956: 'aidens', 1957: 'growing', 1958: 'drag', 1959: 'dumbbell', 1960: 'jimmy', 1961: 'truth', 1962: 'limericks', 1963: 'die', 1964: 'human', 1965: 'exited', 1966: 'selective', 1967: 'alec_baldwin:', 1968: 'reynolds', 1969: 'causes', 1970: 'want', 1971: 'glasses', 1972: 'pull', 1973: 'saying', 1974: 'it', 1975: 'shard', 1976: 'evening', 1977: 'ocean', 1978: 'panicky', 1979: 'recruiter', 1980: 'safecracker', 1981: 'outlive', 1982: 'elect', 1983: 'begin', 1984: 'cards', 1985: 'unbelievably', 1986: 'savagely', 1987: 'squirrels', 1988: 'slipped', 1989: 'harv', 1990: \"bart'd\", 1991: 'sounds', 1992: 'daaaaad', 1993: 'move', 1994: 'barkeep', 1995: 'young', 1996: 'pair', 1997: 'hospital', 1998: 'title:', 1999: 'listens', 2000: 'hollywood', 2001: 'aged', 2002: 'drawn', 2003: 'ribbon', 2004: 'dignified', 2005: 'four-star', 2006: 'virile', 2007: 'cummerbund', 2008: 'onion', 2009: 'delicate', 2010: 'swear', 2011: 'made', 2012: 'newsies', 2013: 'microbrew', 2014: 'politician', 2015: 'aw', 2016: 'fletcherism', 2017: 'insecure', 2018: 'ourselves', 2019: 'shows', 2020: 'snake_jailbird:', 2021: 'mail', 2022: 'hanh', 2023: 'excuse', 2024: 'forgive', 2025: 'finally', 2026: 'skunk', 2027: 'drank', 2028: 'compared', 2029: 'mumble', 2030: 'superpower', 2031: 'offa', 2032: 'brother-in-law', 2033: 'sob', 2034: 'flourish', 2035: 'bar-boy', 2036: 'maya', 2037: \"messin'\", 2038: 'them', 2039: 'gunter:', 2040: 'cyrano', 2041: \"barney's\", 2042: 'uncle', 2043: 'pretzel', 2044: 'riveting', 2045: 'weekend', 2046: 'needs', 2047: 'sumatran', 2048: 'satisfied', 2049: 'salt', 2050: 'creature', 2051: 'acquitted', 2052: 'beauty', 2053: 'heather', 2054: 'marry', 2055: 'diving', 2056: 'mason', 2057: 'coney', 2058: 'bowled', 2059: 'degradation', 2060: 'achebe', 2061: \"cont'd:\", 2062: 'cheated', 2063: 'yard', 2064: \"costume's\", 2065: 'somewhere', 2066: 'warned', 2067: 'rods', 2068: 'button-pusher', 2069: 'maximum', 2070: 'sacrilicious', 2071: 'disgracefully', 2072: 'drop-off', 2073: 'anyhoo', 2074: 'therapist', 2075: 'diminish', 2076: 'ah-ha', 2077: 'pond', 2078: 'newspaper', 2079: 'means', 2080: 'their', 2081: 'white', 2082: 'bothered', 2083: 'unlike', 2084: 'nonsense', 2085: 'tsk', 2086: 'half', 2087: 'jã¤germeister', 2088: 'irs', 2089: 'musta', 2090: 'krusty_the_clown:', 2091: 'breathalyzer', 2092: 'strong', 2093: \"wasn't\", 2094: 'frontrunner', 2095: 'cappuccino', 2096: 'portuguese', 2097: 'wins', 2098: 'man_at_bar:', 2099: 'blaze', 2100: 'upn', 2101: 'space', 2102: 'drains', 2103: 'beers', 2104: 'kl5-4796', 2105: 'wave', 2106: 'gheet', 2107: 'dungeon', 2108: 'dirty', 2109: 'ghouls', 2110: 'massive', 2111: 'trusted', 2112: 'booze', 2113: 'justice', 2114: 'points', 2115: 'sensible', 2116: 'ha', 2117: 'favor', 2118: 'chief', 2119: 'maggie', 2120: 'pageant', 2121: 'return', 2122: 'gargoyle', 2123: 'song', 2124: 'fbi', 2125: 'statue', 2126: 'evil', 2127: 'symphonies', 2128: 'though:', 2129: 'shesh', 2130: 'blues', 2131: \"hangin'\", 2132: 'singer', 2133: 'whistles', 2134: 'throat', 2135: 'football', 2136: \"mother's\", 2137: 'ha-ha', 2138: \"everyone's\", 2139: 'alcohol', 2140: 'equal', 2141: 'baby', 2142: 'exultant', 2143: 'cup', 2144: 'excavating', 2145: 'trapping', 2146: 'mistresses', 2147: 'gumbo', 2148: 'logos', 2149: 'treehouse', 2150: 'weekly', 2151: 'appear', 2152: 'ride', 2153: 'fumigated', 2154: 'kisses', 2155: '||comma||', 2156: 'washed', 2157: \"i'll\", 2158: 'spiritual', 2159: \"children's\", 2160: '_hooper:', 2161: 'stir', 2162: 'earrings', 2163: \"wait'll\", 2164: 'anguished', 2165: 'cuff', 2166: 'wayne', 2167: 'male_inspector:', 2168: 'dictator', 2169: 'sinkhole', 2170: 'tubman', 2171: 'assassination', 2172: 'nobel', 2173: \"'now\", 2174: 'concerned', 2175: 'coughs', 2176: 'felt', 2177: 'multi-purpose', 2178: 'wondering', 2179: \"family's\", 2180: 'our', 2181: 'pointedly', 2182: 'eh', 2183: 'effects', 2184: 'intelligent', 2185: 'author', 2186: 'duff_announcer:', 2187: 'lift', 2188: 'befriend', 2189: 'gotten', 2190: 'poor', 2191: 'sold', 2192: \"rustlin'\", 2193: 'expose', 2194: 'kings', 2195: 'sexton', 2196: 'stuck', 2197: 'amid', 2198: '2nd_voice_on_transmitter:', 2199: 'finished', 2200: 'refreshment', 2201: 'greedy', 2202: 'fictional', 2203: 'pancakes', 2204: 'easy-going', 2205: 'mess', 2206: 'hobo', 2207: 'program', 2208: 'sickens', 2209: 'ear', 2210: 'honor', 2211: 'chateau', 2212: 'hurting', 2213: 'mary', 2214: 'ech', 2215: 'swigmore', 2216: 'hems', 2217: 'eventually', 2218: 'ice', 2219: 'feel', 2220: 'pussycat', 2221: 'apology', 2222: 'amused', 2223: 'cream', 2224: 'nevada', 2225: \"other's\", 2226: 'industry', 2227: 'muffled', 2228: 'payday', 2229: 'list', 2230: 'punkin', 2231: 'nose', 2232: 'carve', 2233: 'percent', 2234: 'na', 2235: 'hounds', 2236: 'hears', 2237: 'fast', 2238: 'unless', 2239: 'hubub', 2240: 'ceremony', 2241: 'tasimeter', 2242: 'involving', 2243: 'hats', 2244: 'stinger', 2245: 'voters', 2246: 'gator:', 2247: 'opens', 2248: 'i/you', 2249: 'hateful', 2250: 'admiring', 2251: 'certain', 2252: 'dã¼ffenbraus', 2253: 'interesting', 2254: 'andalay', 2255: 'dime', 2256: 'homer', 2257: 'chicken', 2258: 'presents', 2259: 'haikus', 2260: 'settled', 2261: 'iranian', 2262: 'energy', 2263: 'accidents', 2264: 'wally', 2265: 'recorded', 2266: 'burger', 2267: 'cats', 2268: 'wish-meat', 2269: 'roz:', 2270: \"town's\", 2271: 'old_jewish_man:', 2272: 'maitre', 2273: 'themselves', 2274: 'score', 2275: 'single', 2276: 'tuna', 2277: 'dimly', 2278: \"'til\", 2279: 'triumphantly', 2280: \"tinklin'\", 2281: 'rueful', 2282: 'underwear', 2283: 'wad', 2284: 'making', 2285: 'rash', 2286: 'poetry', 2287: 'belong', 2288: 'station', 2289: \"burnin'\", 2290: 'occupancy', 2291: 'turn', 2292: 'flanders:', 2293: 'moe-clone:', 2294: 'unjustly', 2295: 'sight-unseen', 2296: 'aziz', 2297: 'madonna', 2298: 'teenage_barney:', 2299: 'declare', 2300: 'couch', 2301: 'turlet', 2302: 'mahatma', 2303: 'flips', 2304: 'loved', 2305: 'skins', 2306: 'ways', 2307: 'reaction', 2308: 'ron', 2309: 'bellyaching', 2310: 'grains', 2311: 'writing', 2312: 'quickly', 2313: 'passes', 2314: 'shtick', 2315: 'dregs', 2316: 'madison', 2317: 'abolish', 2318: 'friendship', 2319: 'me', 2320: 'headhunters', 2321: 'inexorable', 2322: 'choice', 2323: 'pardon', 2324: 'masks', 2325: 'rusty', 2326: 'let', 2327: 'eyes', 2328: 'joy', 2329: 'mayor', 2330: 'gun', 2331: 'mathis', 2332: 'charter', 2333: 'vigilante', 2334: 'de-scramble', 2335: 'cotton', 2336: 'zack', 2337: 'plan', 2338: 'leans', 2339: 'dancing', 2340: 'sang', 2341: \"speakin'\", 2342: \"poundin'\", 2343: 'stooges', 2344: 'nachos', 2345: 'donut-shaped', 2346: 'court', 2347: 'clammy', 2348: 'chairman', 2349: 'live', 2350: 'goods', 2351: 'rag', 2352: 'moe-lennium', 2353: 'mural', 2354: 'butt', 2355: 'blob', 2356: 'fox', 2357: \"drawin'\", 2358: 'jewish', 2359: 'don', 2360: 'loneliness', 2361: 'dollar', 2362: 'giant', 2363: 'pity', 2364: 'bear', 2365: 'stillwater:', 2366: 'charlie', 2367: 'whoa', 2368: \"plaster's\", 2369: 'hearts', 2370: 'page', 2371: 'poison', 2372: \"now's\", 2373: 'championship', 2374: 'large', 2375: 'reporter:', 2376: 'wild', 2377: 'keeping', 2378: 'maintenance', 2379: 'sotto', 2380: 'hug', 2381: 'highest', 2382: 'remain', 2383: 'everywhere', 2384: 'yoink', 2385: 'hit', 2386: 'invisible', 2387: '_zander:', 2388: 'festival', 2389: 'frosty', 2390: 'ã€', 2391: 'whim', 2392: 'walther_hotenhoffer:', 2393: 'ballclub', 2394: 'shoo', 2395: 'magnanimous', 2396: '91', 2397: 'kearney_zzyzwicz:', 2398: 'exchange', 2399: 'anthony_kiedis:', 2400: 'changed', 2401: 'uncreeped-out', 2402: 'and-and', 2403: 'where', 2404: 'contractors', 2405: 'unrelated', 2406: 'room', 2407: 'scientific', 2408: 'tee', 2409: 'tie', 2410: 'macho', 2411: 'thanksgiving', 2412: 'wipes', 2413: 'shutup', 2414: 'thing', 2415: 'pursue', 2416: 'leftover', 2417: 're-al', 2418: 'jer', 2419: 'stalwart', 2420: 'chill', 2421: 'follow', 2422: 'cousin', 2423: 'laney_fontaine:', 2424: 'pointed', 2425: 'dry', 2426: 'cover', 2427: 'played', 2428: 'tow-joes', 2429: 'legally', 2430: 'heads', 2431: 'option', 2432: 'stomach', 2433: 'groan', 2434: 'evasive', 2435: 'combines', 2436: 'fountain', 2437: 'listened', 2438: 'browns', 2439: 'working', 2440: 'jubilation', 2441: 'strawberry', 2442: 'sing-song', 2443: \"tatum'll\", 2444: 'flush-town', 2445: 'warning', 2446: 'pathetic', 2447: 'two-thirds-empty', 2448: 'try', 2449: 'strongly', 2450: 'barflies', 2451: 'spirit', 2452: 'badly', 2453: 'hopeful', 2454: 'afloat', 2455: 'dying', 2456: 'brotherhood', 2457: 'methinks', 2458: 'reed', 2459: 'backward', 2460: 'dunno', 2461: 'tiger', 2462: 'and', 2463: 'burglary', 2464: 'various', 2465: 'sheepish', 2466: 'should', 2467: \"it'd\", 2468: 'unexplained', 2469: 'engraved', 2470: 'did', 2471: 'bon', 2472: 'puff', 2473: 'heading', 2474: 'necessary', 2475: 'outlook', 2476: 'ran', 2477: 'archaeologist', 2478: 'gibson', 2479: 'dollars', 2480: 'lumpa', 2481: 'presently', 2482: 'hostile', 2483: 'longer', 2484: 'learned', 2485: 'unsanitary', 2486: 'bums', 2487: 'prince', 2488: 'gas', 2489: 'swelling', 2490: 'hootie', 2491: \"aren'tcha\", 2492: 'hitler', 2493: 'fritz', 2494: 'cheaper', 2495: 'period', 2496: 'rivalry', 2497: 'lis', 2498: 'lard', 2499: 'edelbrock', 2500: 'stagy', 2501: 'rub', 2502: 'assistant', 2503: 'eva', 2504: 'unfamiliar', 2505: 'raccoons', 2506: 'computer', 2507: 'shark', 2508: 'clearing', 2509: 'atari', 2510: 'numbers', 2511: 'baloney', 2512: 'answered', 2513: 'thirty', 2514: 'wrapped', 2515: \"boy's\", 2516: 'ditched', 2517: 'neck', 2518: 'dum-dum', 2519: 'defiantly', 2520: 'must', 2521: 'mike', 2522: 'beyond', 2523: 'fine', 2524: 'conversations', 2525: 'barney_gumble:', 2526: 'wanted', 2527: 'doors', 2528: 'moonnnnnnnn', 2529: 'goodnight', 2530: 'thirty-three', 2531: 'blend', 2532: 'snide', 2533: 'assumed', 2534: 'farthest', 2535: 'reaches', 2536: 'metal', 2537: 'test-lady', 2538: 'deeper', 2539: 'results', 2540: 'man:', 2541: 'religious', 2542: 'cell-ee', 2543: 'walks', 2544: 'gonna', 2545: 'securities', 2546: 'girls', 2547: 'indigenous', 2548: 'grabs', 2549: 'dae', 2550: 'best', 2551: 'wienerschnitzel', 2552: 'bunion', 2553: 'frankly', 2554: 'world-class', 2555: 'accusing', 2556: 'secrets', 2557: 'rhyme', 2558: 'mel', 2559: \"chewin'\", 2560: 'good', 2561: 'serious', 2562: 'suspiciously', 2563: 'hers', 2564: 'pugilist', 2565: 'praise', 2566: 'unsafe', 2567: \"smokin'\", 2568: 'handing', 2569: 'friendly', 2570: 'flanders', 2571: 'helped', 2572: 'compels', 2573: 'libido', 2574: 'gums', 2575: \"smokin'_joe_frazier:\", 2576: 'bashir', 2577: \"jimbo's_dad:\", 2578: 'heatherton', 2579: 'hairs', 2580: 'amber_dempsey:', 2581: \"d'\", 2582: 'already', 2583: 'non-american', 2584: 'taunting', 2585: 'failure', 2586: 'palm', 2587: 'pack', 2588: 'wrap', 2589: 'oh', 2590: 'guy', 2591: 'right-handed', 2592: 'occurs', 2593: 'fragile', 2594: 'seven', 2595: \"b-52's:\", 2596: 'hank_williams_jr', 2597: 'releases', 2598: 'joke', 2599: 'hand', 2600: 'andy', 2601: 'yes', 2602: 'grim', 2603: 'betrayed', 2604: \"number's\", 2605: 'dealt', 2606: \"ridin'\", 2607: 'catch', 2608: 'awesome', 2609: 'continued', 2610: 'uninhibited', 2611: 'jay', 2612: 'edner', 2613: 'airport', 2614: 'village', 2615: 'rented', 2616: 'recreate', 2617: 'flea:', 2618: 'lookalikes', 2619: 'solely', 2620: 'firing', 2621: 'disdainful', 2622: 'nervously', 2623: 'fail', 2624: 'watt', 2625: 'devils:', 2626: 'invite', 2627: 'dejected', 2628: 'wrecking', 2629: 'hans:', 2630: 'chumbawamba', 2631: 'grampa', 2632: 'skydiving', 2633: 'house', 2634: 'sneeze', 2635: 'grrrreetings', 2636: 'slight', 2637: 'fourteen:', 2638: 'emotional', 2639: 'alky', 2640: 'cheer', 2641: 'refresh', 2642: 'generosity', 2643: 'badge', 2644: 'encores', 2645: 'slit', 2646: 'fall', 2647: \"she'd\", 2648: 'totalitarians', 2649: 'my', 2650: 'players', 2651: 'stationery', 2652: 'con', 2653: 'triangle', 2654: 'buttocks', 2655: 'flew', 2656: 'nelson', 2657: 'menace', 2658: \"someone's\", 2659: 'carmichael', 2660: 'fastest', 2661: 'market', 2662: 'tears', 2663: 'sports', 2664: 'pepper', 2665: 'dreamed', 2666: 'irishman', 2667: 'hello', 2668: 'forbids', 2669: 'locked', 2670: 'little_man:', 2671: 'legs:', 2672: 'present', 2673: 'ten', 2674: 'housewife', 2675: 'magazine', 2676: 'error', 2677: 'tenor:', 2678: 'samples', 2679: 'alcoholic', 2680: 'skinner', 2681: \"kiddin'\", 2682: 'sit', 2683: 'mcbain', 2684: 'quimby', 2685: 'oof', 2686: 'highway', 2687: 'decision', 2688: 'lady-free', 2689: 'pregnancy', 2690: 'own', 2691: 'insurance', 2692: 'ate', 2693: 'unbelievable', 2694: 'coach:', 2695: 'distance', 2696: 'syndicate', 2697: 'talking', 2698: 'radiation', 2699: 'service', 2700: 'between', 2701: 'cauliflower', 2702: 'ad', 2703: 'science', 2704: 'emporium', 2705: 'guest', 2706: 'top', 2707: 'wise', 2708: 'conditioners', 2709: 'pinchpenny', 2710: 'portentous', 2711: 'nein', 2712: 'written', 2713: 'widow', 2714: 'heaving', 2715: 'mustard', 2716: 'queen', 2717: 'white_rabbit:', 2718: 'prep', 2719: 'background', 2720: 'kodos:', 2721: 'artist', 2722: 'is:', 2723: 'nuclear', 2724: 'eighty-one', 2725: 'kisser', 2726: 'flash-fry', 2727: 'zone', 2728: 'encouraged', 2729: 'rummy', 2730: \"gettin'\", 2731: 'j', 2732: \"mcstagger's\", 2733: 'agreement', 2734: 'reasons', 2735: 'ahead', 2736: 'father', 2737: 'gentleman:', 2738: 'saga', 2739: 'tapestry', 2740: 'sec', 2741: 'jewelry', 2742: 'lighter', 2743: 'churchill', 2744: 'ninth', 2745: 'peanuts', 2746: 'simp-sonnnn', 2747: 'pro', 2748: 'bedroom', 2749: 'whip', 2750: 'rules', 2751: 'puzzle', 2752: 'seething', 2753: 'ehhhhhh', 2754: 'lighten', 2755: '6', 2756: 'ingested', 2757: 'seas', 2758: 'are', 2759: 'aer', 2760: 'dumbass', 2761: 'scratching', 2762: 'theatrical', 2763: 'fired', 2764: 'rom', 2765: 'pridesters:', 2766: 'daddy', 2767: 'painted', 2768: 'ya', 2769: 'maher', 2770: 'beef', 2771: 'threw', 2772: 'muhammad', 2773: 'soft', 2774: 'judgments', 2775: 'why', 2776: 'indifference', 2777: 'four', 2778: 'icy', 2779: 'curiosity', 2780: 'boston', 2781: 'multiple', 2782: 'bragging', 2783: 'corner', 2784: 'himself', 2785: 'brow', 2786: \"payin'\", 2787: 'sister-in-law', 2788: \"playin'\", 2789: 'knew', 2790: 'plants', 2791: 'fair', 2792: \"'ceptin'\", 2793: 'invented', 2794: 'using', 2795: \"tv's\", 2796: 'lindsay', 2797: 'traitors', 2798: 'nagurski', 2799: 'rumor', 2800: 'temporarily', 2801: 'asking', 2802: 'improv', 2803: 'clincher', 2804: 'baritone', 2805: 'joining', 2806: 'tv_father:', 2807: 'upset', 2808: 'blossoming', 2809: 'gesture', 2810: 'eco-fraud', 2811: 'offended', 2812: 'balls', 2813: 'unusually', 2814: 'mini-beret', 2815: 'deliberately', 2816: 'beer:', 2817: 'brown', 2818: 'happens', 2819: 'tall', 2820: 'railroad', 2821: 'gasoline', 2822: 'junebug', 2823: 'ahh', 2824: 'mop', 2825: 'sink', 2826: 'rough', 2827: 'craft', 2828: 'won', 2829: 'star', 2830: 'literary', 2831: 'dating', 2832: 'ew', 2833: 'mm', 2834: 'nucular', 2835: 'roller', 2836: 'indeed', 2837: 'meals', 2838: 'jovial', 2839: 'hunky', 2840: 'dna', 2841: 'vampires', 2842: 'snaps', 2843: 'state', 2844: 'bags', 2845: 'bottomless', 2846: 'stamps', 2847: 'out', 2848: 'christmas', 2849: 'tomahto', 2850: 'fatso', 2851: 'ali', 2852: 'swill', 2853: 'cranberry', 2854: 'home', 2855: 'tester', 2856: 'ancestors', 2857: 'harrowing', 2858: 'laughing', 2859: 'bender:', 2860: 'two', 2861: 'community', 2862: 'graves', 2863: 'reason', 2864: 'celebration', 2865: 'romantic', 2866: 'doooown', 2867: 'sweetie', 2868: 'haircuts', 2869: 'warranty', 2870: 'yellow', 2871: 'wolverines', 2872: 'boring', 2873: 'weirder', 2874: 'low-blow', 2875: 'wake', 2876: 'shriners', 2877: 'michael_stipe:', 2878: 'lookalike', 2879: 'depressant', 2880: 'pitcher', 2881: 'based', 2882: 'teenage', 2883: 'english', 2884: \"son's\", 2885: 'compare', 2886: 'lurleen', 2887: 'contact', 2888: 'lemme', 2889: 'perfunctory', 2890: 'gentlemen', 2891: 'feat', 2892: 'prime', 2893: 'sexy', 2894: 'remote', 2895: 'casting', 2896: 'rupert_murdoch:', 2897: \"tellin'\", 2898: 'dan', 2899: 'witty', 2900: 'hah', 2901: 'flaming', 2902: 'offshoot', 2903: \"somethin's\", 2904: 'bit', 2905: 'quick', 2906: 'ho', 2907: 'kang:', 2908: 'wonderful', 2909: 'ninety-seven', 2910: \"aristotle's\", 2911: 'jerk', 2912: 'island', 2913: 'supposed', 2914: 'gay', 2915: 'thanking', 2916: 'awake', 2917: 'broken:', 2918: 'joey_kramer:', 2919: 'purse', 2920: 'morning-after', 2921: \"i-i'm\", 2922: 'stage', 2923: 'minister', 2924: 'lodge', 2925: 'hawaii', 2926: 'repeated', 2927: 'crack', 2928: 'friends', 2929: 'testing', 2930: 'were', 2931: 'forty-seven', 2932: 'president', 2933: 'quimby_#2:', 2934: 'teddy', 2935: \"can't-believe-how-bald-he-is\", 2936: 'moon-bounce', 2937: 'frink-y', 2938: 'come', 2939: 'breaks', 2940: 'settles', 2941: 'overstressed', 2942: 'mt', 2943: 'dishonor', 2944: 'jerking', 2945: 'buying', 2946: 'sadistic_barfly:', 2947: 'cooking', 2948: 'following', 2949: 'got', 2950: 'clock', 2951: 'barflies:', 2952: 'intention', 2953: 'chow', 2954: 'sedaris', 2955: 'gotcha', 2956: 'ball', 2957: 'chauffeur:', 2958: 'toms', 2959: 'against', 2960: 'jailbird', 2961: 'huggenkiss', 2962: 'cosmetics', 2963: 'takeaway', 2964: 'rafters', 2965: 'interrupting', 2966: 'skinny', 2967: 'shells', 2968: 'whole', 2969: 'frazier', 2970: 'correction', 2971: 'predecessor', 2972: 'moonlight', 2973: 'damned', 2974: 'hangout', 2975: 'shores', 2976: 'neighborhood', 2977: 'king', 2978: 'anyone', 2979: 'p', 2980: 'sketch', 2981: \"shootin'\", 2982: 'doreen', 2983: 'tin', 2984: 'dress', 2985: 'parked', 2986: 'politicians', 2987: 'julienne', 2988: \"singin'\", 2989: 'design', 2990: 'debonair', 2991: \"raggin'\", 2992: 'founded', 2993: 'might', 2994: 'conversation', 2995: 'done:', 2996: 'trustworthy', 2997: \"i-i'll\", 2998: 'reading:', 2999: 'accent', 3000: 'position', 3001: 'deli', 3002: 'tail', 3003: 'something:', 3004: \"wouldn't-a\", 3005: 'arguing', 3006: 'represents', 3007: 'jumping', 3008: 'fl', 3009: \"department's\", 3010: 'principal', 3011: 'knife', 3012: 'bike', 3013: 'barkeeps', 3014: 'frankie', 3015: 'lise:', 3016: 'pigtown', 3017: \"won't\", 3018: 'binoculars', 3019: \"cheerin'\", 3020: 'prices', 3021: 'burg', 3022: 'online', 3023: 'could', 3024: 'har', 3025: 'thirsty', 3026: 'safety', 3027: 'million', 3028: 'original', 3029: 'bidet', 3030: 'hold', 3031: 'bride', 3032: 'sobs', 3033: 'sternly', 3034: 'duffman:', 3035: 'cocks', 3036: 'rug', 3037: 'ridiculous', 3038: 'just', 3039: \"makin'\", 3040: 'her', 3041: 'history', 3042: 'elaborate', 3043: 'badmouth', 3044: 'illegally', 3045: 'dank', 3046: 'jacks', 3047: 'fustigation', 3048: 'deadly', 3049: 'apu_nahasapeemapetilon:', 3050: 'bread', 3051: 'harvard', 3052: 'feed', 3053: 'unlocked', 3054: 'geez', 3055: 'gumbel', 3056: 'suck', 3057: 'solo', 3058: 'fight', 3059: 'only', 3060: 'remember', 3061: 'pub', 3062: 'phone', 3063: 'beat', 3064: 'column', 3065: 'i-i', 3066: 'sec_agent_#2:', 3067: 'hate-hugs', 3068: 'friend', 3069: 'brunch', 3070: 'comic_book_guy:', 3071: 'winston', 3072: 'nightmares', 3073: 'catty', 3074: 'yourselves', 3075: 'disturbance', 3076: 'inspire', 3077: 'realized', 3078: 'hilton', 3079: 'sangre', 3080: \"ma'am\", 3081: 'having', 3082: 'ambrose', 3083: 'almond', 3084: 'picky', 3085: 'celebrities', 3086: 'noise', 3087: 'feast', 3088: 'innocent', 3089: 'groveling', 3090: 'eighty-six', 3091: 'depressed', 3092: 'confused', 3093: 'bachelorette', 3094: 'speech', 3095: 'selma', 3096: 'dentist', 3097: 'potato', 3098: 'sandwich', 3099: 'son', 3100: 'lap', 3101: 'shutting', 3102: 'signal', 3103: 'focus', 3104: \"renee's\", 3105: 'but', 3106: 'hanging', 3107: 'investor', 3108: 'lenny_leonard:', 3109: 'shoulda', 3110: 'per', 3111: 'spare', 3112: 'spite', 3113: 'mac-who', 3114: 'smoker', 3115: 'snatch', 3116: 'schabadoo', 3117: 'ironed', 3118: 'being', 3119: 'celebrity', 3120: 'heartily', 3121: 'evils', 3122: 'pee', 3123: 'african', 3124: 'one-hour', 3125: 'tender', 3126: 'pasta', 3127: 'boo', 3128: 'malfeasance', 3129: 'ease', 3130: 'lover', 3131: 'quitcher', 3132: 'modestly', 3133: 'spamming', 3134: 'practically', 3135: 'ton', 3136: 'catch-phrase', 3137: 'stewart', 3138: 'right', 3139: \"'\", 3140: \"fishin'\", 3141: 'investigating', 3142: 'roses', 3143: 'haiti', 3144: 'hollye', 3145: 'stop', 3146: 'dazed', 3147: 'patron_#2:', 3148: 'fondest', 3149: 'musical', 3150: 'expense', 3151: 'bupkus', 3152: 'neighbors', 3153: 'stopped', 3154: 'nonchalantly', 3155: 'nation', 3156: 'brockelstein', 3157: 'chinua', 3158: 'show-off', 3159: 'thomas', 3160: 'huddle', 3161: 'worldview', 3162: 'barn', 3163: 'win', 3164: 'impatient', 3165: 'excitement', 3166: 'possibly', 3167: 'inspector', 3168: 'stickers', 3169: 'glen:', 3170: \"treatin'\", 3171: 'glen', 3172: 'older', 3173: 'surgeonnn', 3174: 'universe', 3175: 'still', 3176: 'bible', 3177: 'cleaned', 3178: 'asleep', 3179: 'peeping', 3180: 'carey', 3181: 'black', 3182: 'religion', 3183: 'insults', 3184: 'night-crawlers', 3185: 'throws', 3186: \"we'd\", 3187: 'watered', 3188: 'shelf', 3189: 'it:', 3190: 'flowers', 3191: 'volunteer', 3192: 'ivanna', 3193: 'vestigial', 3194: 'attractive_woman_#1:', 3195: 'enough', 3196: 'due', 3197: 'darts', 3198: 'lenford', 3199: 'ruuuule', 3200: 'studio', 3201: 'mcclure', 3202: 'otherwise', 3203: 'threatening', 3204: 'pizza', 3205: 'surgery', 3206: \"cuckold's\", 3207: 'on', 3208: 'risquã©', 3209: 'distract', 3210: 'frustrated', 3211: 'form', 3212: 'cool', 3213: 'phase', 3214: 'driveability', 3215: 'fustigate', 3216: 'associate', 3217: 'practice', 3218: 'aiden', 3219: 'drunkening', 3220: 'eager', 3221: 'fat', 3222: 'martini', 3223: 'shakespeare', 3224: 'bail', 3225: 'poured', 3226: 'may', 3227: 'attack', 3228: 'moving', 3229: 'sat-is-fac-tion', 3230: 'knuckle-dragging', 3231: 'pays', 3232: 'woo', 3233: 'joined', 3234: 'fayed', 3235: 'technical', 3236: 'lungs', 3237: 'memories', 3238: 'traditions', 3239: 'distinct', 3240: 'teriyaki', 3241: 'slaves', 3242: 'god', 3243: 'bumblebee_man:', 3244: 'forgiven', 3245: 'pulling', 3246: 'extremely', 3247: \"you'll\", 3248: 'super-genius', 3249: 'hockey-fight', 3250: 'dollface', 3251: 'piano', 3252: 'sucked', 3253: 'disappointing', 3254: 'van', 3255: \"people's\", 3256: 'territorial', 3257: 'richard', 3258: 'far', 3259: 'mafia', 3260: 'lurleen_lumpkin:', 3261: 'hellhole', 3262: 'patrons', 3263: \"yieldin'\", 3264: 'al_gore:', 3265: 'cable', 3266: 'young_barfly:', 3267: 'hm', 3268: 'sign', 3269: 'obsessive-compulsive', 3270: 'schemes', 3271: 'incredible', 3272: 'seats', 3273: 'change', 3274: 'law-abiding', 3275: 'fools', 3276: 'wade_boggs:', 3277: 'trees', 3278: 'female_inspector:', 3279: \"tree's\", 3280: 'yelling', 3281: 'sings', 3282: 'caper', 3283: 'ons', 3284: 'therapy', 3285: 'lighting', 3286: 'hustle', 3287: 'george', 3288: 'diablo', 3289: 'overhearing', 3290: 'shaky', 3291: 'washouts', 3292: 'danny', 3293: 'augustus', 3294: 'yew', 3295: 'church', 3296: 'lucinda', 3297: 'ratio', 3298: 'kicked', 3299: 'comfortable', 3300: 'smooth', 3301: 'him', 3302: 'fad', 3303: 'champ', 3304: 'ore', 3305: 'scrape', 3306: 'margarita', 3307: 'micronesian', 3308: 'together', 3309: 'effigy', 3310: 'unforgettable', 3311: 'fuhgetaboutit', 3312: 'watched', 3313: 'shame', 3314: 'young_homer:', 3315: \"breakin'\", 3316: 'listening', 3317: 'fink', 3318: 'breath', 3319: 'plotz', 3320: 'handle', 3321: 'captain', 3322: 'dog', 3323: 'slaps', 3324: 'violations', 3325: 'cecil', 3326: 'harvey', 3327: 'nothing', 3328: 'many', 3329: 'email', 3330: 'loves', 3331: 'mock', 3332: 'smell', 3333: \"i'd\", 3334: 'pajamas', 3335: 'sanctuary', 3336: 'du', 3337: 'in-ground', 3338: 'quick-like', 3339: \"dog's\", 3340: 'experiments', 3341: 'jerk-ass', 3342: 'coat', 3343: 'from', 3344: 'stumble', 3345: 'nine', 3346: 'disillusioned', 3347: 'tow-talitarian', 3348: 'nicer', 3349: 'slip', 3350: 'sometimes', 3351: 'vacuum', 3352: 'punching', 3353: 'cheapskates', 3354: 'k-zug', 3355: 'ads', 3356: 'radical', 3357: 'eurotrash', 3358: 'wishing', 3359: 'we-we-we', 3360: 'regret', 3361: 'pennies', 3362: 'round', 3363: 'regretful', 3364: 'tigers', 3365: 'comic', 3366: 'treasure', 3367: 'sponge', 3368: 'knit', 3369: 'through', 3370: 'vomit', 3371: 'scrutinizing', 3372: 'swimming', 3373: 'everything', 3374: 'chuckling', 3375: 'bonfire', 3376: 'ralphie', 3377: 'rounds', 3378: 'shock', 3379: 'dressed', 3380: 'exploiter', 3381: 'politics', 3382: 'luckily', 3383: 'hmmmm', 3384: 'color', 3385: 'horrors', 3386: 'dealie', 3387: 'government', 3388: 'feedbag', 3389: 'arts', 3390: 'enterprising', 3391: 'holds', 3392: 'street', 3393: 'correcting', 3394: 'privacy', 3395: 'twenty-two', 3396: 'infestation', 3397: 'flashbacks', 3398: 'country', 3399: 'extra', 3400: 'smugglers', 3401: 'mckinley', 3402: 'anywhere', 3403: 'pharmaceutical', 3404: 'dory', 3405: 'very', 3406: 'racially-diverse', 3407: 'age', 3408: 'band', 3409: 'smoothly', 3410: 'place', 3411: 'election', 3412: 'stiffening', 3413: 'stools', 3414: 'stripe', 3415: 'pickle', 3416: 'dash', 3417: 'missed', 3418: 'terminated', 3419: 'beneath', 3420: 'kemi', 3421: 'kidneys', 3422: 'vance', 3423: 'polls', 3424: 'toledo', 3425: 'effervescence', 3426: 'mostrar', 3427: 'singing/pushing', 3428: 'intervention', 3429: 'middle', 3430: 'theater', 3431: 'reasonable', 3432: \"buffalo's\", 3433: 'raise', 3434: 'woodchucks', 3435: 'dammit', 3436: 'lifts', 3437: 'keep', 3438: 'bull', 3439: 'month', 3440: 'sinister', 3441: 'bid', 3442: \"president's\", 3443: 'donate', 3444: 'runners', 3445: 'days', 3446: 'eighteen', 3447: 'additional-seating-capacity', 3448: 'death', 3449: 'ma', 3450: 'gasps', 3451: 'grinch', 3452: \"lefty's\", 3453: \"somebody's\", 3454: 'fuss', 3455: 'california', 3456: 'patterns', 3457: 'lloyd', 3458: 'wall', 3459: 'that', 3460: 'tonic', 3461: 'moron', 3462: 'closes', 3463: 'detail', 3464: 'bouquet', 3465: 'slyly', 3466: 'peeved', 3467: 'tank', 3468: 'foot', 3469: 'betcha', 3470: 'west', 3471: 'enjoyed', 3472: 'thorough', 3473: 'regretted', 3474: 'christian', 3475: 'drinker', 3476: 'warren', 3477: 'teams', 3478: 'lennyy', 3479: 'taxi', 3480: 'tenuous', 3481: 'write', 3482: 'fat_tony:', 3483: 'nfl_narrator:', 3484: 'ginger', 3485: 'toilet', 3486: 'happily:', 3487: 'fish', 3488: 'oblongata', 3489: 'bart', 3490: 'action', 3491: \"c'mere\", 3492: 'prettiest', 3493: 'salvation', 3494: 'gruff', 3495: 'figures', 3496: 'fell', 3497: 'damn', 3498: 'glad', 3499: 'laid', 3500: 'frescas', 3501: 'until', 3502: 'hall', 3503: 'takes', 3504: 'cracked', 3505: 'fast-paced', 3506: 'eyeing', 3507: 'bank', 3508: 'cheese', 3509: 'lemonade', 3510: 'sneak', 3511: 'sad', 3512: 'says', 3513: 'extinguishers', 3514: 'medical', 3515: \"countin'\", 3516: 'cola', 3517: 'pen', 3518: 'moonshine', 3519: 'scream', 3520: 'understand', 3521: 'deeply', 3522: 'twins', 3523: 'thighs', 3524: 'wistful', 3525: 'doug:', 3526: 'credit', 3527: 'bucket', 3528: 'adrift', 3529: 'dance', 3530: 'trash', 3531: 'more', 3532: 'took', 3533: \"man'd\", 3534: 'chapter', 3535: 'penny', 3536: 'mmmm', 3537: 'ready', 3538: 'fellas', 3539: 'crow', 3540: 'chinese', 3541: 'diapers', 3542: 'carl', 3543: 'suru', 3544: 'ura', 3545: 'attend', 3546: 'seminar', 3547: 'thought_bubble_lenny:', 3548: 'iddilies', 3549: 'over', 3550: 'wacky', 3551: \"valentine's\", 3552: 'semi-imported', 3553: 'rugged', 3554: 'mindless', 3555: 'watashi', 3556: 'cares', 3557: 'tradition', 3558: 'whose', 3559: 'phony', 3560: 'janette', 3561: 'eternity', 3562: 'booger', 3563: 'massage', 3564: 'soaking', 3565: 'meant', 3566: 'candles', 3567: 'dreams', 3568: 'stepped', 3569: 'doof', 3570: 'looked', 3571: 'fainted', 3572: \"y'money's\", 3573: 'earlier', 3574: 'also', 3575: 'ling', 3576: 'moe', 3577: 'delightful', 3578: 'orgasmville', 3579: \"year's\", 3580: 'ripcord', 3581: 'commission', 3582: 'loaded', 3583: 'wants', 3584: 'sitar', 3585: 'website', 3586: 'priest', 3587: 'stories', 3588: 'steel', 3589: 'ã', 3590: 'whee', 3591: 'salvador', 3592: 'things', 3593: 'shall', 3594: 'hotel', 3595: 'honey', 3596: '||return||', 3597: \"we've\", 3598: 'team', 3599: 'thanks', 3600: 'parents', 3601: 'vacation', 3602: 'wounds', 3603: 'offense', 3604: 'slogan', 3605: 'goldarnit', 3606: 'mis-statement', 3607: 'dropping', 3608: 'two-drink', 3609: 'appalled', 3610: 'life-sized', 3611: 'disgusted', 3612: 'raggie', 3613: 'barney-shaped_form:', 3614: 'donuts', 3615: 'buyer', 3616: 'putty', 3617: 'pats', 3618: 'crowned', 3619: 'dropped', 3620: 'aims', 3621: 'yourself', 3622: 'kemi:', 3623: 'plow', 3624: 'full-blooded', 3625: 'fireball', 3626: 'twenty-four', 3627: 'moustache', 3628: 'chinese_restaurateur:', 3629: 'videotaped', 3630: 'random', 3631: 'hugh:', 3632: \"guy's\", 3633: 'uh', 3634: 'leprechaun', 3635: 'brother', 3636: \"bringin'\", 3637: 'pulitzer', 3638: 'prepared', 3639: 'then:', 3640: 'spender', 3641: 'bumpy-like', 3642: 'fund', 3643: 'wiener', 3644: 'pep', 3645: 'mccarthy', 3646: 'looooooooooooooooooong', 3647: 'information', 3648: 'facebook', 3649: \"what're\", 3650: 'bake', 3651: 'group', 3652: 'pit', 3653: 'vehicle', 3654: 'store', 3655: 'crooks', 3656: \"beggin'\", 3657: 'chip', 3658: 'toe', 3659: 'nigerian', 3660: 'togetherness', 3661: 'nursemaid', 3662: 'delete', 3663: 'with', 3664: 'majority', 3665: 'worthless', 3666: 'whiny', 3667: 'insist', 3668: 'matter-of-fact', 3669: 'creeps', 3670: 'britannia', 3671: 'totally', 3672: 'compromise:', 3673: 'sometime', 3674: 'prints', 3675: \"'cause\", 3676: 'leg', 3677: 'pinball', 3678: 'ze-ro', 3679: 'came', 3680: 'automobiles', 3681: 'incapable', 3682: \"dad's\", 3683: 'lay', 3684: \"lenny's\", 3685: 'formico:', 3686: 'inquiries', 3687: 'whaddya', 3688: \"rentin'\", 3689: 'distributor', 3690: 'swell', 3691: 'proper', 3692: 'swings', 3693: 'mint', 3694: 'noggin', 3695: 'recall', 3696: 'boozebag', 3697: 'limits', 3698: 'einstein', 3699: 'edna_krabappel-flanders:', 3700: \"something's\", 3701: 'shag', 3702: 'nearly', 3703: 'poking', 3704: 'colorado', 3705: 'tapered', 3706: \"foolin'\", 3707: 'wishes', 3708: 'professional', 3709: 'stores', 3710: 'guff', 3711: 'frankenstein', 3712: 'forty-five', 3713: 'brunswick', 3714: 'avec', 3715: 'journey', 3716: 'advice', 3717: 'fraud', 3718: 'curious', 3719: 'western', 3720: 'swamp', 3721: 'referee', 3722: 'stranger:', 3723: 'germs', 3724: 'dallas', 3725: 'alma', 3726: 'record', 3727: 'shoes', 3728: 'does', 3729: 'throats', 3730: \"o'reilly\", 3731: 'runaway', 3732: 'line', 3733: 'relative', 3734: 'woman_bystander:', 3735: 'mm-hmm', 3736: 'indeedy', 3737: \"isn't\", 3738: 'orphan', 3739: 'order', 3740: 'five-fifteen', 3741: 'publish', 3742: 'oblivious', 3743: 'swimmers', 3744: 'startup', 3745: 'billingsley', 3746: \"professor's\", 3747: 'parking', 3748: \"comin'\", 3749: 'you-need-man', 3750: 'prettied', 3751: 'harmony', 3752: 'lessee', 3753: 'book_club_member:', 3754: 'cobra', 3755: 'mailbox', 3756: 'speak', 3757: 'urine', 3758: 'skirt', 3759: 'mike_mills:', 3760: 'looks', 3761: 'helping', 3762: 'annoyed', 3763: 'press', 3764: 'yee-haw', 3765: 'investment', 3766: 'shaker', 3767: 'donut', 3768: 'paramedic:', 3769: 'moment', 3770: 'ripped', 3771: 'slugger', 3772: 'divorced', 3773: 'full', 3774: 'hearing', 3775: 'boneheaded', 3776: 'tough', 3777: 'tried', 3778: \"'pu\", 3779: 'they', 3780: 'whining', 3781: 'teenage_homer:', 3782: 'un-sults', 3783: 'suddenly', 3784: 'memory', 3785: 'bitterly', 3786: \"must've\", 3787: 'diet', 3788: 'platinum', 3789: 'meal', 3790: 'getting', 3791: 'sleep', 3792: 'uncomfortable', 3793: 'rump', 3794: 'enveloped', 3795: 'parrot', 3796: 'jackpot-thief', 3797: 'jeter', 3798: 'burp', 3799: 'each', 3800: 'plain', 3801: 'argue', 3802: 'e', 3803: 'relationship', 3804: 'agh', 3805: 'painless', 3806: 'grey', 3807: 'rotten', 3808: 'twelve', 3809: 'fifth', 3810: 'future', 3811: 'amount', 3812: 'british', 3813: 'brooklyn', 3814: \"challengin'\", 3815: 'winch', 3816: 'punch', 3817: 'he', 3818: \"mtv's\", 3819: 'unintelligent', 3820: \"getting'\", 3821: 'rancid', 3822: 'greetings', 3823: 'cockroaches', 3824: 'european', 3825: 'play/', 3826: 'ruled', 3827: 'fears', 3828: 'afterglow', 3829: 'yelp', 3830: 'klingon', 3831: 'karaoke_machine:', 3832: 'enjoys', 3833: 'clothespins', 3834: 'ron_howard:', 3835: 'selma_bouvier:', 3836: 'wrestling', 3837: 'jump', 3838: 'woooooo', 3839: 'mother', 3840: 'arrested:', 3841: 'aunt', 3842: \"c'mom\", 3843: 'mirror', 3844: 'astronaut', 3845: 'matter', 3846: 'leonard', 3847: 'permitting', 3848: 'grand', 3849: 'total', 3850: 'lord', 3851: \"pressure's\", 3852: 'disappear', 3853: 'mediterranean', 3854: 'hops', 3855: 'nah', 3856: 'ashamed', 3857: 'stand', 3858: 'morning', 3859: 'massachusetts', 3860: 'amber', 3861: \"'im\", 3862: 'meet', 3863: 'sanitary', 3864: '||exclamation_mark||', 3865: 'yell', 3866: 'arse', 3867: 'tobacky', 3868: 'x', 3869: 'wine', 3870: 'video', 3871: 'badges', 3872: 'kick-ass', 3873: 'rem', 3874: \"aren't\", 3875: 'professor_jonathan_frink:', 3876: 'shopping', 3877: 'moon', 3878: 'else', 3879: 'youuu', 3880: 'vengeance', 3881: 'shyly', 3882: 'nos', 3883: '1979', 3884: 'squirrel', 3885: 'cigarettes', 3886: 'sticking-place', 3887: 'compliment', 3888: 'shoulders', 3889: 'label', 3890: 'progress', 3891: 'sleeping', 3892: 'reaching', 3893: 'bowling', 3894: 'schizophrenia', 3895: 'wood', 3896: 'wenceslas', 3897: 'cherry', 3898: 'sale', 3899: 'c', 3900: \"nick's\", 3901: 'app', 3902: 'senator', 3903: \"kid's\", 3904: 'jamaican', 3905: 'under', 3906: 'plastered', 3907: 'handling', 3908: 'legend', 3909: 'sour', 3910: 'duffed', 3911: 'side:', 3912: 'elmer', 3913: 'smells', 3914: 'exciting', 3915: 'feels', 3916: 'hostages', 3917: 'shotgun', 3918: 'rotch', 3919: 'grants', 3920: 'stars', 3921: 'housing', 3922: 'springfield', 3923: 'hmf', 3924: 'ned', 3925: 'blessing', 3926: 'playhouse', 3927: 'to', 3928: 'tons', 3929: 'gunter', 3930: 'corn', 3931: 'wind', 3932: 'cologne', 3933: 'carlson', 3934: 'nobody', 3935: 'chuck', 3936: 'midnight', 3937: \"nixon's\", 3938: 'singing', 3939: 'mill', 3940: 'boxer', 3941: 'helpless', 3942: 'popping', 3943: 'donation', 3944: 'lotta', 3945: 'rebuttal', 3946: 'remembered', 3947: 'joint', 3948: 'music', 3949: 'fleabag', 3950: 'important', 3951: 'sobbing', 3952: 'l', 3953: 'destroyed', 3954: 'view', 3955: 'fabulous', 3956: 'defected', 3957: \"enjoyin'\", 3958: 'disgrace', 3959: \"somethin':\", 3960: 'poulet', 3961: 'scornful', 3962: 'cobbling', 3963: 'stairs', 3964: 'born', 3965: 'holy', 3966: \"how're\", 3967: 'beings', 3968: 'veteran', 3969: 'annual', 3970: 'built', 3971: 'formico', 3972: 'sighs', 3973: 'derek', 3974: 'prayers', 3975: 'streetlights', 3976: 'slurps', 3977: 'nash', 3978: 'trashed', 3979: 'stupid', 3980: 'counter', 3981: 'troubles', 3982: 'nã£o', 3983: 'go-near-', 3984: 'rule', 3985: 'showered', 3986: 'considering', 3987: 'please', 3988: 'oils', 3989: 'retired', 3990: 'sagely', 3991: 'incarcerated', 3992: 'brainiac', 3993: 'wolfcastle', 3994: 'jumps', 3995: 'injury', 3996: 'unhook', 3997: \"man's_voice:\", 3998: 'stagey', 3999: 'gift:', 4000: 'spits', 4001: 'grind', 4002: 'safe', 4003: 'allowed', 4004: 'photo', 4005: 'andrew', 4006: 'finest', 4007: 'canoodling', 4008: 'spooky', 4009: 'usually', 4010: 'bono:', 4011: 'ventriloquism', 4012: \"cupid's\", 4013: 'picnic', 4014: 'leak', 4015: 'slender', 4016: \"'kay-zugg'\", 4017: 'ballot', 4018: 'tentative', 4019: 'buddy', 4020: 'floor', 4021: 'mixed', 4022: 'straining', 4023: 'recipe', 4024: 'hail', 4025: 'recent', 4026: 'expensive', 4027: 'souped', 4028: 'joking', 4029: 'wordloaf', 4030: \"seein'\", 4031: 'nineteen', 4032: 'photos', 4033: 'carlotta:', 4034: 'traitor', 4035: 'is', 4036: 'grandiose', 4037: 'helicopter', 4038: 'umm', 4039: 'tavern', 4040: 'bonding', 4041: 'merchants', 4042: 'test', 4043: 'naively', 4044: 'betty:', 4045: 'and/or', 4046: 'gr-aargh', 4047: 'size', 4048: 'forget', 4049: 'alone', 4050: 'today/', 4051: 'holidays', 4052: 'neighboreeno', 4053: 'pretend', 4054: 'lager', 4055: 'tying', 4056: 'charity', 4057: 'cajun', 4058: 'bar_rag:', 4059: 'incognito', 4060: 'punishment', 4061: 'banquet', 4062: 'jesus', 4063: \"this'll\", 4064: 'sick', 4065: 'moe-near-now', 4066: 'korea', 4067: 'gloop', 4068: 'faulkner', 4069: 'agnes_skinner:', 4070: 'crystal', 4071: 'clubs', 4072: 'awww', 4073: 'designer', 4074: 'giving', 4075: 'castle', 4076: 'melodramatic', 4077: 'forgotten', 4078: 'asks', 4079: 'arrest', 4080: 'great', 4081: 'square', 4082: 'gangrene', 4083: 'dads', 4084: 'murmur', 4085: 'designated', 4086: 'militia', 4087: 'heh', 4088: 'cutting', 4089: 'strangles', 4090: 're:', 4091: 'ignoring', 4092: 'cold', 4093: 'authorized', 4094: 'vengeful', 4095: 'crushed', 4096: 'seemed', 4097: 'tabooger', 4098: 'plastic', 4099: 'ladies', 4100: 'in-in-in', 4101: 'marshmallow', 4102: 'bushes', 4103: 'funny', 4104: 'popular', 4105: 'hare-brained', 4106: 'unattended', 4107: 'clenched', 4108: 'befouled', 4109: 'stern', 4110: \"car's\", 4111: 'telephone', 4112: 'lotsa', 4113: 'lorre', 4114: 'international', 4115: 'slobs', 4116: 'grease', 4117: 'slap', 4118: 'young_marge:', 4119: 'bottle', 4120: 'pusillanimous', 4121: 'raking', 4122: 'dan_gillick:', 4123: 'shrugs', 4124: 'gabriel', 4125: 'rig', 4126: 'shipment', 4127: 'pants', 4128: \"that'll\", 4129: 'comment', 4130: 'locklear', 4131: 'ones', 4132: 'fontaine', 4133: 'gary:', 4134: \"he'll\", 4135: 'othello', 4136: 'hammock', 4137: 'full-bodied', 4138: 'husband', 4139: 'divine', 4140: 'jay_leno:', 4141: 'fica', 4142: 'toxins', 4143: 'flexible', 4144: \"dimwit's\", 4145: 'lush', 4146: 'krusty', 4147: \"duff's\", 4148: 'blue', 4149: 'finance', 4150: 'cowardly', 4151: 'drivers', 4152: 'once', 4153: 'use', 4154: 'tries', 4155: 'remembers', 4156: 'jeers', 4157: 'devastated', 4158: 'persia', 4159: 'mole', 4160: 'close', 4161: 'probably', 4162: 'bret:', 4163: 'sustain', 4164: 'mmmmm', 4165: 'result', 4166: 'as', 4167: 'valley', 4168: 'lend', 4169: 'tips', 4170: 'moxie', 4171: 'disguise', 4172: 'thrilled', 4173: 'door', 4174: 'forget-me-drinks', 4175: 'wizard', 4176: 'a-b-', 4177: 'wigs', 4178: 'corpses', 4179: 'brewed', 4180: 'coin', 4181: 'show', 4182: 'sports_announcer:', 4183: 'dr', 4184: 'winner', 4185: \"knockin'\", 4186: \"ain't\", 4187: 'whale', 4188: 'shortcomings', 4189: 'ruined', 4190: 'nail', 4191: 'freaking', 4192: 'ground', 4193: 'nightmare', 4194: 'started', 4195: 'ahhhh', 4196: 'loyal', 4197: 'south', 4198: 'knives', 4199: 'juan', 4200: 'crab', 4201: 'choking', 4202: 'puke', 4203: 'accident', 4204: 'release', 4205: 'bannister', 4206: 'noooooooooo', 4207: 'patting', 4208: 'burns', 4209: \"moe's_thoughts:\", 4210: 'dies', 4211: 'goodbye', 4212: 'spitting', 4213: 'hurts', 4214: 'ominous', 4215: 'caricature', 4216: 'all', 4217: 'hillbillies', 4218: 'anti-crime', 4219: 'toys', 4220: \"school's\", 4221: 'dead', 4222: 'neon', 4223: \"you've\", 4224: 'mob', 4225: 'churchy', 4226: 'well', 4227: 'real', 4228: 'bigger', 4229: 'clientele', 4230: 'abandon', 4231: 'costume', 4232: 'jasper_beardly:', 4233: 'burps', 4234: 'issuing', 4235: 'frat', 4236: 'drunks', 4237: 'folk', 4238: 'wooden', 4239: 'sesame', 4240: 'enthusiasm', 4241: 'drederick', 4242: \"it'll\", 4243: \"homer's_brain:\", 4244: 'radio', 4245: 'arise', 4246: 'buttons', 4247: 'ummmmmmmmm', 4248: 'manage', 4249: \"idea's\", 4250: 'onto', 4251: 'red', 4252: 'blubberino', 4253: 'grain', 4254: 'calmly', 4255: 'quiet', 4256: 'beatings', 4257: '$42', 4258: 'reunion', 4259: 'walked', 4260: 'product', 4261: \"wino's\", 4262: 'smoke', 4263: 'decent', 4264: 'zeal', 4265: 'closing', 4266: 'colossal', 4267: 'civilization', 4268: 'blamed', 4269: \"nothin'\", 4270: 'urban', 4271: 'limber', 4272: 'whaaaa', 4273: 'jane', 4274: 'fledgling', 4275: 'imagine', 4276: 'teacher', 4277: 'gave', 4278: 'villanova', 4279: 'menlo', 4280: 'absolut', 4281: 'depressing', 4282: 'positive', 4283: 'kent_brockman:', 4284: 'three-man', 4285: 'drunkenly', 4286: 'forty', 4287: 'homeless', 4288: 'kenny', 4289: 'helps', 4290: 'shareholder', 4291: 'telegraph', 4292: 'survive', 4293: 'eddie', 4294: 'bum:', 4295: 'fire', 4296: \"stabbin'\", 4297: 'runt', 4298: 'woman:', 4299: 'level', 4300: 'simon', 4301: 'honeys', 4302: 'poster', 4303: 'told', 4304: 'tracks', 4305: 'liven', 4306: \"bettin'\", 4307: 'cooker', 4308: 'nbc', 4309: 'biggest', 4310: 'nooo', 4311: 'camp', 4312: 'felony', 4313: 'eyesore', 4314: 'trucks', 4315: 'examples', 4316: 'sing', 4317: 'lost', 4318: 'filed', 4319: 'coaster', 4320: 'imitating', 4321: 'nickel', 4322: \"carl's\", 4323: 'mexicans', 4324: 'hook', 4325: 'pronto', 4326: 'supermarket', 4327: 'conditioning', 4328: 'including', 4329: 'jail', 4330: 'warm_female_voice:', 4331: 'hoped', 4332: 'please/', 4333: 'newsletter', 4334: 'rolling', 4335: 'clipped', 4336: '||quotation_mark||', 4337: 'humiliation', 4338: 'circus', 4339: 'involved', 4340: 'radishes', 4341: 'snitch', 4342: 'course', 4343: 'gossipy', 4344: 'padre', 4345: 'species', 4346: 'doing', 4347: 'literature', 4348: 'fold', 4349: 'touchdown', 4350: 'prizefighters', 4351: 'tatum', 4352: 'price', 4353: 'wally:', 4354: \"'ere\", 4355: \"toot's\", 4356: 'women', 4357: 'permanent', 4358: 'barf', 4359: \"don't\", 4360: 'cecil_terwilliger:', 4361: 'paris', 4362: 'coast', 4363: 'pipe', 4364: 'lenses', 4365: 'cheered', 4366: 'rosey', 4367: 'mount', 4368: 'hunger', 4369: 'we', 4370: 'drinking', 4371: 'fellow', 4372: 'loudly', 4373: 'way', 4374: 'owns', 4375: 'vampire', 4376: 'sells', 4377: 'hour', 4378: 'cronies', 4379: 'shape', 4380: \"clancy's\", 4381: 'thawing', 4382: 'punches', 4383: 'notch', 4384: 'sales', 4385: \"washin'\", 4386: 'frightened', 4387: 'amazing', 4388: 'material', 4389: 'starving', 4390: 'buzz', 4391: 'roach', 4392: 'lily-pond', 4393: 'synthesize', 4394: 'completing', 4395: 'multi-national', 4396: 'furniture', 4397: 'theory', 4398: 'perã³n', 4399: 'mice', 4400: 'connor', 4401: \"sittin'\", 4402: 'seen', 4403: 'intense', 4404: 'ripper', 4405: 'chest', 4406: 'glitz', 4407: 'address', 4408: 'land', 4409: 'wiping', 4410: 'pian-ee', 4411: 'dislike', 4412: 'transmission', 4413: 'aerospace', 4414: 'noble', 4415: 'maxed', 4416: \"smackin'\", 4417: 'schnapps', 4418: 'continuum', 4419: 'about', 4420: 'quarry', 4421: 'patient', 4422: 'dames', 4423: 'smiled', 4424: 'oopsie', 4425: 'sadder', 4426: \"calf's\", 4427: 'steampunk', 4428: 'italian', 4429: 'jury', 4430: 'valuable', 4431: 'gore', 4432: 'cigarette', 4433: 'mines', 4434: 'pews', 4435: 'dignity', 4436: 'granted', 4437: 'enjoy', 4438: 'mirthless', 4439: 'lied', 4440: 'complicated', 4441: 'faiths', 4442: 'non-losers', 4443: 'steinbrenner', 4444: 'happy', 4445: 'undated', 4446: 'detecting', 4447: 'monroe', 4448: 'tune', 4449: 'fireworks', 4450: 'savings', 4451: 'whistling', 4452: 'plums', 4453: 'needed', 4454: 'thru', 4455: 'chick', 4456: '100', 4457: 'bridges', 4458: 'produce', 4459: 'cheerleaders:', 4460: 'saget', 4461: 'bartenders', 4462: 'possessions', 4463: 'wakede', 4464: 'indifferent', 4465: 'couple', 4466: 'decide', 4467: \"larry's\", 4468: 'worst', 4469: 'arabs', 4470: 'easter', 4471: 'bar:', 4472: 'culkin', 4473: 'nurse', 4474: 'businessman_#1:', 4475: 'plenty', 4476: 'kept', 4477: 'annie', 4478: 'drinking:', 4479: 'hide', 4480: 'endorsement', 4481: 'bitter', 4482: 'despite', 4483: 'mock-up', 4484: 'closer', 4485: 'sacajawea', 4486: \"phone's\", 4487: \"sat's\", 4488: 'curds', 4489: 'dizer', 4490: 'wish', 4491: 'boxers', 4492: 'shrieks', 4493: 'hiding', 4494: 'hottest', 4495: 'think', 4496: 'relieved', 4497: 'starla', 4498: 'glamour', 4499: 'powerful', 4500: 'tar-paper', 4501: 'gulliver_dark:', 4502: 'inning', 4503: 'bumped', 4504: 'clothespins:', 4505: 'theatah', 4506: '_powers:', 4507: 'marvelous', 4508: 'feminine', 4509: 'office', 4510: 'th', 4511: 'covering', 4512: 'horrified', 4513: 'hunka', 4514: 'was', 4515: 'used', 4516: 'angry', 4517: 'twenty-nine', 4518: 'spreads', 4519: 'normals', 4520: 'donated', 4521: 'grace', 4522: 'old-time', 4523: 'sidelines', 4524: 'rookie', 4525: 'spectacular', 4526: \"games'd\", 4527: 'ram', 4528: 'lofty', 4529: 'entertainer', 4530: 'griffith', 4531: 'shot', 4532: 'town', 4533: 'kidding', 4534: 'freak', 4535: \"how's\", 4536: 'inanely', 4537: 'marjorie', 4538: 'getcha', 4539: 'sucker', 4540: 'makes', 4541: 'anymore', 4542: 'mine', 4543: 'hurt', 4544: 'assent', 4545: 'inserted', 4546: 'generally', 4547: 'bites', 4548: 'pointless', 4549: \"starla's\", 4550: 'moolah-stealing', 4551: 'director:', 4552: 'chug-a-lug', 4553: 'sponge:', 4554: 'control', 4555: 'except', 4556: 'flynt', 4557: 'nervous', 4558: 'strokkur', 4559: 'diets', 4560: 'ideas', 4561: 'zoomed', 4562: 'blokes', 4563: 'neanderthal', 4564: '1-800-555-hugs', 4565: 'raises', 4566: \"edna's\", 4567: 'bam', 4568: '||right_parentheses||', 4569: 'lease', 4570: 'hate', 4571: 'when', 4572: 'foil', 4573: 'lance', 4574: 'walk', 4575: 'moe-ron', 4576: 'beards', 4577: 'glee', 4578: 'weight', 4579: 'lifetime', 4580: 'genuinely', 4581: 'judges', 4582: 'staying', 4583: 'lanes', 4584: 'microphone', 4585: 'open-casket', 4586: 'casual', 4587: 'fires', 4588: 'when-i-get-a-hold-of-you', 4589: 'worldly', 4590: 'crappy', 4591: 'fit', 4592: 'games', 4593: 'waitress', 4594: \"we'll\", 4595: 'trapped', 4596: \"rasputin's\", 4597: 'life', 4598: 'solved', 4599: 'glorious', 4600: 'and:', 4601: 'doreen:', 4602: 'presidential', 4603: 'kucinich', 4604: 'hi', 4605: 'sat', 4606: 'cruiser', 4607: 'leno', 4608: 'burt', 4609: 'princesses', 4610: 'shoulder', 4611: 'handsome', 4612: 'body', 4613: 'timbuk-tee', 4614: 'away', 4615: 'feld', 4616: 'sky', 4617: 'chocolate', 4618: 'strips', 4619: 'wazoo', 4620: 'everyone', 4621: 'went', 4622: 'letters', 4623: 'mini-dumpsters', 4624: 'pawed', 4625: 'replace', 4626: \"we're\", 4627: 'steely-eyed', 4628: 'chuckle', 4629: 'lenny', 4630: 'fence', 4631: 'allegiance', 4632: 'rage', 4633: 'ruint', 4634: 'alley', 4635: 'toasting', 4636: \"kids'\", 4637: 'refinanced', 4638: 'prank', 4639: 'notice', 4640: 'horribilis', 4641: 'stripes', 4642: 'physical', 4643: 'copy', 4644: 'this:', 4645: 'sunday', 4646: 'larry:', 4647: 'exchanged', 4648: 'bret', 4649: 'fighter', 4650: 'enforced', 4651: 'bachelorhood', 4652: 'sharity', 4653: 'us', 4654: 'drive', 4655: 'excuses', 4656: 'caused', 4657: 'fans', 4658: 'gregor', 4659: 'scully', 4660: 'squad', 4661: 'cuz', 4662: 'according', 4663: 'wednesday', 4664: 'suicide', 4665: 'scornfully', 4666: 'mimes', 4667: 'suits', 4668: 'not', 4669: 'ahem', 4670: 'absolutely', 4671: 'cocktail', 4672: 'reckless', 4673: 'gorgeous', 4674: 'hope', 4675: 'anything', 4676: 'admit', 4677: '8', 4678: 'arrived', 4679: 'panicked', 4680: 'hmmm', 4681: 'side', 4682: 'needy', 4683: 'smiling', 4684: 'egg', 4685: 'your', 4686: 'kiss', 4687: \"tomorrow's\", 4688: 'loboto-moth', 4689: 'uh-huh', 4690: 'gig', 4691: 'cleaner', 4692: 'catching', 4693: 'steamed', 4694: 'beanbag', 4695: 'mushy', 4696: 'neither', 4697: 'disposal', 4698: 'xanders', 4699: 'sickly', 4700: 'wildest', 4701: 'contest', 4702: 'a', 4703: 'products', 4704: 'donor', 4705: 'justify', 4706: 'free', 4707: 'anyhow', 4708: \"feelin's\", 4709: 'forget-me-shot', 4710: 'heart-broken', 4711: 'hoax', 4712: 'princess', 4713: 'uniforms', 4714: 'seem', 4715: 'make:', 4716: 'spend', 4717: 'finding', 4718: 'dude', 4719: 'presided', 4720: 'north', 4721: 'coffee', 4722: 'intakes', 4723: 'sturdy', 4724: 'dark', 4725: 'ungrateful', 4726: 'waterfront', 4727: 'libraries', 4728: 'kneeling', 4729: 'allow', 4730: 'halloween', 4731: 'beans', 4732: 'exception:', 4733: 'rats', 4734: 'hot', 4735: \"bein'\", 4736: 'roz', 4737: 'spilled', 4738: 'tones', 4739: 'ashtray', 4740: 'buddha', 4741: 'disturbing', 4742: 'lessons', 4743: 'lie', 4744: \"livin'\", 4745: 'awed', 4746: 'officer', 4747: 'newest', 4748: 'ow', 4749: 'freedom', 4750: 'connection', 4751: 'ninety-eight', 4752: 'believe', 4753: 'koholic', 4754: 'peter', 4755: 'life-extension', 4756: 'spine', 4757: 'johnny', 4758: 'erasers', 4759: 'advance', 4760: 'heard', 4761: 'increasingly', 4762: 'sue', 4763: 'all:', 4764: \"summer's\", 4765: 'dismissive', 4766: 'shut', 4767: 'specialists', 4768: 'smitty:', 4769: 'partly', 4770: 'wide', 4771: 'touched', 4772: 'omit', 4773: 'thinks', 4774: 'microwave', 4775: 'screws', 4776: 'normal', 4777: 'underpants', 4778: 'coal', 4779: 'socratic', 4780: 'alright', 4781: 'drapes', 4782: \"daughter's\", 4783: 'annoying', 4784: 'kidnaps', 4785: 'chunk', 4786: \"duelin'\", 4787: 'wedding', 4788: 'soup', 4789: 'padres', 4790: 'keeps', 4791: 'combination', 4792: 'crisis', 4793: 'juice', 4794: 'powers', 4795: 'activity', 4796: 'dennis', 4797: 'eat', 4798: 'proof', 4799: 'funds', 4800: 'sweetest', 4801: ':', 4802: \"somethin'\", 4803: 'railroads', 4804: 'counterfeit', 4805: 'knocked', 4806: 'noosey', 4807: 'gargoyles', 4808: 'game', 4809: 'venture', 4810: 'compete', 4811: 'terrorizing', 4812: 'collapse', 4813: 'blackjack', 4814: \"who'da\", 4815: 'y-you', 4816: 'larry', 4817: 'freely', 4818: 'fault', 4819: 'crumble', 4820: 'half-beer', 4821: \"soundin'\", 4822: 'whispered', 4823: 'packets', 4824: 'wobbly', 4825: 'alive', 4826: 'rebuilt', 4827: 'barstools', 4828: 'reviews', 4829: 'name:', 4830: 'seems', 4831: 'zinged', 4832: 'nigel_bakerbutcher:', 4833: 'fan', 4834: 'sticker', 4835: 'honest', 4836: 'wheeeee', 4837: 'cage', 4838: 'derisive', 4839: 'shush', 4840: 'especially', 4841: 'unearth', 4842: 'act', 4843: 'announcer:', 4844: 'nerve', 4845: 'aged_moe:', 4846: 'sledge-hammer', 4847: 'stay-puft', 4848: 'bleeding', 4849: 'gees', 4850: 'someone', 4851: 'rip', 4852: 'sauce', 4853: 'fat-free', 4854: 'rekindle', 4855: \"betsy'll\", 4856: 'steam', 4857: \"monroe's\", 4858: 'au', 4859: 'nor', 4860: 'muertos', 4861: 'which', 4862: 'without', 4863: 'idea', 4864: 'switched', 4865: 'congratulations', 4866: 'jackson', 4867: 'gallon', 4868: 'draw', 4869: 'pumping', 4870: 'triple-sec', 4871: 'type', 4872: 'droning', 4873: 'cat', 4874: 'stops', 4875: 'owes', 4876: 'porn', 4877: 'waste', 4878: 'yak', 4879: 'x-men', 4880: 'crinkly', 4881: 'clapping', 4882: 'reliable', 4883: 'wow', 4884: 'turned', 4885: 'rocks', 4886: 'statesmanlike', 4887: 'rasputin', 4888: 'represent', 4889: 'jerks', 4890: 'aisle', 4891: 'nuked', 4892: 'homer_doubles:', 4893: 'jukebox_record:', 4894: 'squadron', 4895: \"battin'\", 4896: 'sued', 4897: 'icelandic', 4898: 'severe', 4899: 'nominated', 4900: 'ehhhhhhhhh', 4901: 'five', 4902: 'fun', 4903: \"i've\", 4904: 'immiggants', 4905: 'deny', 4906: 'addiction', 4907: 'word', 4908: 'rent', 4909: 'drop', 4910: 'arrange', 4911: 'sideshow_bob:', 4912: 'official', 4913: 'weirded-out', 4914: 'six', 4915: 'bathed', 4916: 'finger', 4917: 'lame', 4918: 'dramatically', 4919: \"what's\", 4920: 'of', 4921: 'barely', 4922: 'collateral', 4923: 'earpiece', 4924: 'canyoner-oooo', 4925: 'beard', 4926: 'celeste', 4927: 'plus', 4928: 'desperate', 4929: 'become', 4930: 'sweden', 4931: 'whisper', 4932: 'skinheads', 4933: 'compressions', 4934: 'truck', 4935: 'understood', 4936: 'simple', 4937: 'time', 4938: 'yap', 4939: 'para', 4940: 'apartment', 4941: 'few', 4942: 'feelings', 4943: 'meaning', 4944: \"crawlin'\", 4945: 'cars', 4946: 'chew', 4947: 'rainforest', 4948: 'whatchamacallit', 4949: 'said:', 4950: 'wings', 4951: 'trust', 4952: 'short_man:', 4953: 'bad-mouth', 4954: 'afternoon', 4955: \"y'know\", 4956: 'shoot', 4957: 'lowest', 4958: 'congoleum', 4959: 'bon-bons', 4960: 'jobs', 4961: 'disco', 4962: 'rife', 4963: 'sadly', 4964: 'money', 4965: \"'round\", 4966: 'hoagie', 4967: 'passion', 4968: 'plum', 4969: 'temp', 4970: 'invulnerable', 4971: 'tommy', 4972: 'clips', 4973: 'scarf', 4974: 'menacing', 4975: 'feisty', 4976: \"doin'\", 4977: 'exhibit', 4978: 'troy:', 4979: 'sixty-nine', 4980: 'linda', 4981: 'freeze', 4982: 'buzziness', 4983: 'rolled', 4984: 'bully', 4985: 'blow', 4986: 'blinds', 4987: 'tick', 4988: 'sideshow_mel:', 4989: 'know', 4990: 'declan', 4991: 'alien', 4992: 'ignorant', 4993: 'true', 4994: 'cushion', 4995: 'local', 4996: 'at', 4997: 'fills', 4998: 'depository', 4999: 'gang', 5000: 'booth', 5001: \"kearney's_dad:\", 5002: 'achem', 5003: 'idioms', 5004: 'mix', 5005: 'indignant', 5006: 'iran', 5007: 'instantly', 5008: 'failed', 5009: 'studied', 5010: 'borrow', 5011: 'bill', 5012: 'squeal', 5013: 'strain', 5014: 'preparation', 5015: 'fat_in_the_hat:', 5016: 'angrily', 5017: 'towed', 5018: 'statistician', 5019: 'pontiff', 5020: 'swishkabobs', 5021: 'all-american', 5022: 'created', 5023: \"talkin'\", 5024: 'upsetting', 5025: 'riding', 5026: 'oughta', 5027: 'yuh-huh', 5028: 'decide:', 5029: 'forgot', 5030: \"santa's\", 5031: 'priority', 5032: 'call', 5033: 'odor', 5034: \"y'see\", 5035: 'code', 5036: 'tempting', 5037: 'installed', 5038: 'occupation', 5039: 'deep', 5040: 'bets', 5041: 'voodoo', 5042: 'voicemail', 5043: 'latour', 5044: 'eu', 5045: 'innocence', 5046: 'scent', 5047: 'skills', 5048: 'victim', 5049: 'network', 5050: 'polishing', 5051: \"scammin'\", 5052: 'front', 5053: 'harder', 5054: 'snotty', 5055: 'nahasapeemapetilon', 5056: 'directions', 5057: 'depression', 5058: 'waylon', 5059: 'hangover', 5060: 'tv-station_announcer:', 5061: 'remaining', 5062: 'hooky', 5063: \"money's\", 5064: 'geysir', 5065: 'grienke', 5066: 'agent_johnson:', 5067: \"marge's\", 5068: 'grammys', 5069: 'yammering', 5070: 'der', 5071: 'cockroach', 5072: 'tickets', 5073: 'spread', 5074: 'tokens', 5075: 'wishful', 5076: 'jogging', 5077: 'discriminate', 5078: 'connor-politan', 5079: 'pantry', 5080: 'bugging', 5081: 'knock-up', 5082: 'pickles', 5083: 'fuzzlepitch', 5084: 'luv', 5085: 'thoughtful', 5086: 'continuing', 5087: 'pickled', 5088: 'manchego', 5089: 'loud', 5090: 'without:', 5091: 'lurks', 5092: 'flayvin', 5093: 'bumbling', 5094: 'outta', 5095: 'application', 5096: 'sexual', 5097: 'arimasen', 5098: 'humanity', 5099: 'contract', 5100: 'famous', 5101: 'strap', 5102: 'obama', 5103: 'ivy-covered', 5104: 'complete', 5105: 'greatly', 5106: 'dials', 5107: 'declared', 5108: 'power', 5109: 'terrific', 5110: 'explanation', 5111: 'wittgenstein', 5112: 'pre-recorded', 5113: 'habitrail', 5114: 'ancient', 5115: 'scram', 5116: 'pockets', 5117: 'soon', 5118: 'film', 5119: 'dyspeptic', 5120: 'cleaning', 5121: 'bucks', 5122: 'richer', 5123: 'glove', 5124: 'cruise', 5125: 'ah', 5126: 'nap', 5127: 'urinal', 5128: 'unable', 5129: 'mind-numbing', 5130: 'hyahh', 5131: 'wiggle-frowns', 5132: 'pressure', 5133: 'comes', 5134: 'carl:', 5135: 'cooler', 5136: 'tablecloth', 5137: 'prove', 5138: 'basement', 5139: 'sack', 5140: 'juke', 5141: \"tryin'\", 5142: 'cozies', 5143: 'tanking', 5144: 'guard', 5145: 'publishers', 5146: 'golden', 5147: 'blood-thirsty', 5148: 'grub', 5149: \"friend's\", 5150: 'michael', 5151: 'guns', 5152: 'tony', 5153: 'hell', 5154: 'wagering', 5155: 'reluctant', 5156: 'shred', 5157: 'extended', 5158: 'any', 5159: \"weren't\", 5160: 'repressed', 5161: 'mic', 5162: 'remembering', 5163: 'convinced', 5164: 'soot', 5165: 'unlucky', 5166: 'mind', 5167: 'michelin', 5168: 'foam', 5169: 'alpha-crow', 5170: 'olive', 5171: 'either', 5172: 'half-day', 5173: 'planet', 5174: 'rid', 5175: \"hadn't\", 5176: \"lovers'\", 5177: 'splattered', 5178: 'gordon', 5179: 'maude', 5180: 'glitterati', 5181: 'lachrymose', 5182: 'underbridge', 5183: 'bide', 5184: 'africa', 5185: 'hygienically', 5186: 'leave', 5187: 'righ', 5188: 'fix', 5189: 'absentminded', 5190: 'breathtaking', 5191: 'dreamily', 5192: 'homunculus', 5193: 'sex', 5194: \"what'll\", 5195: 'tactful', 5196: 'lately', 5197: 'fausto', 5198: 'rub-a-dub', 5199: 'charge', 5200: 'cruel', 5201: 'endorse', 5202: 'east', 5203: \"table's\", 5204: 'take-back', 5205: 'tolerance', 5206: 'belch', 5207: 'toss', 5208: 'manatee', 5209: 'hotline', 5210: 'comedy', 5211: 'lugs', 5212: 'double', 5213: \"d'ya\", 5214: '250', 5215: 'bridge', 5216: \"tony's\", 5217: 'reach', 5218: 'vulgar', 5219: 'opening', 5220: 'favorite', 5221: 'twelve-step', 5222: 'natural', 5223: 'behind', 5224: 'bush', 5225: 'available', 5226: 'blimp', 5227: 'miss_lois_pennycandy:', 5228: \"wonderin'\", 5229: 'reluctantly', 5230: 'safely', 5231: 'backwards', 5232: 'virtual', 5233: 'aid', 5234: 'kirk_van_houten:', 5235: 'idiots', 5236: 'peach', 5237: 'wolveriskey', 5238: 'ripping', 5239: 'karaoke', 5240: 'willy', 5241: 'vote', 5242: 'snackie', 5243: 'lee', 5244: 'nailed', 5245: 'dutch', 5246: 'clone', 5247: 'actors', 5248: \"fine-lookin'\", 5249: 'cock', 5250: 'professor', 5251: 'twelveball', 5252: 'recorder', 5253: 'foundation', 5254: 'sneering', 5255: 'squishee', 5256: \"they've\", 5257: 'prefer', 5258: 'getup', 5259: 'forever', 5260: 'roll', 5261: 'nonchalant', 5262: 'twentieth', 5263: 'bedbugs', 5264: \"snappin'\", 5265: 'mouth', 5266: 'lots', 5267: 'huge', 5268: 'food', 5269: 'remodel', 5270: 'aside', 5271: 'jigger', 5272: 'champion', 5273: 'moments', 5274: 'tsking', 5275: 'selling', 5276: 'whoopi', 5277: 'maman', 5278: 'oh-ho', 5279: 'therefore', 5280: 'bras', 5281: 'mr', 5282: \"drinkin'\", 5283: 'naked', 5284: 'youth', 5285: '/mr', 5286: 'hop', 5287: 'sequel', 5288: 'neil_gaiman:', 5289: 'macbeth', 5290: 'warmly', 5291: 'kako:', 5292: \"g'night\", 5293: 'knock', 5294: 'clothes', 5295: 'dint', 5296: 'eww', 5297: 'watered-down', 5298: 'treats', 5299: 'stunned', 5300: 'fifteen', 5301: 'followed', 5302: 'handshake', 5303: 'ingrates', 5304: 'crayola', 5305: 'correct', 5306: 'roomy', 5307: 'mistakes', 5308: 'yup', 5309: 'splendid', 5310: 'ooo', 5311: 'k', 5312: 'pick', 5313: 'share', 5314: 'weak', 5315: 'partner', 5316: 'hike', 5317: 'm', 5318: 'taking', 5319: 'began', 5320: 'manuel', 5321: 'race', 5322: 'foodie', 5323: 'secret', 5324: 'applicant', 5325: 'match', 5326: 'doy', 5327: 'experienced', 5328: 'narrator:', 5329: 'flower', 5330: 'during', 5331: 'head-gunk', 5332: 'run', 5333: 'horns', 5334: 'trouble', 5335: 'perfected', 5336: 'states', 5337: 'bird', 5338: 'grocery', 5339: 'bye', 5340: 'typed', 5341: 'soothing', 5342: 'horses', 5343: 'head', 5344: 'gel', 5345: 'decency', 5346: 'octa-', 5347: 'anonymous', 5348: 'milks', 5349: 'drollery', 5350: 'unfortunately', 5351: 'retain', 5352: 'wiggum', 5353: 'fist', 5354: 'malted', 5355: 'pleased', 5356: 'junkyard', 5357: 'eddie:', 5358: 'deliberate', 5359: 'restless', 5360: 'winces', 5361: 'banned', 5362: 'self-centered', 5363: 'pictured', 5364: 'hiring', 5365: 'duff', 5366: 'chain', 5367: '/', 5368: 'whatever', 5369: 'bugs', 5370: 'carl_carlson:', 5371: 'piling', 5372: 'tomatoes', 5373: 'machine', 5374: 'stock', 5375: 'haws', 5376: 'magic', 5377: 'jeez', 5378: 'explaining', 5379: 'goal', 5380: 'dogs', 5381: 'kissingher', 5382: 'has', 5383: 'danish', 5384: 'chanting', 5385: 'writer:', 5386: 'monkeyshines', 5387: 'pool', 5388: 'disapproving', 5389: 'anybody', 5390: 'pillows', 5391: 'pepto-bismol', 5392: 'heavens', 5393: 'attitude', 5394: 'bourbon', 5395: 'gasp', 5396: 'sap', 5397: 'scrubbing', 5398: 'champignons', 5399: 'friday', 5400: 'flat', 5401: 'forty-two', 5402: 'cliff', 5403: 'sen', 5404: 'turns', 5405: 'mobile', 5406: 'cross-country', 5407: 'party', 5408: 'emphasis', 5409: 'answer', 5410: 'chair', 5411: 'profiling', 5412: 'escort', 5413: 'delicately', 5414: 'sucks', 5415: 'amends', 5416: 'limited', 5417: 'excellent', 5418: 'collette:', 5419: 'breakfast', 5420: 'his', 5421: 'scam', 5422: 'bliss', 5423: 'question', 5424: 'raising', 5425: 'majesty', 5426: 'presto:', 5427: 'goo', 5428: 'senators', 5429: 'stays', 5430: 'corkscrew', 5431: 'steal', 5432: 'light', 5433: 'touch', 5434: 'dateline:', 5435: 'nick', 5436: 'freaky', 5437: 'starlets', 5438: 'company', 5439: 'buddies', 5440: 'boys', 5441: 'manboobs', 5442: 'thunder', 5443: 'ordered', 5444: 'penmanship', 5445: 'suburban', 5446: 'pushes', 5447: 'sea', 5448: 'intriguing', 5449: '1895', 5450: 'hotenhoffer', 5451: 'personal', 5452: 'psst', 5453: 'liability', 5454: 'awwww', 5455: 'crapmore', 5456: \"hobo's\", 5457: 'intoxicated', 5458: 'cheaped', 5459: 'bulletin', 5460: \"moe's\", 5461: 'producers', 5462: 'flophouse', 5463: 'strictly', 5464: 'interested', 5465: 'lying', 5466: 'frozen', 5467: 'moe-clone', 5468: 'vicious', 5469: \"they'd\", 5470: 'less', 5471: 'uhhhh', 5472: 'shelbyville', 5473: 'tofu', 5474: 'sympathy', 5475: 'broad', 5476: 'dennis_kucinich:', 5477: 'birthday', 5478: 'lear', 5479: 'beer-jerks', 5480: 'quero', 5481: 'yawns', 5482: 'darjeeling', 5483: 'abercrombie', 5484: 'attempting', 5485: 'ticks', 5486: \"fightin'\", 5487: 'moans', 5488: 'clown-like', 5489: 'slightly', 5490: 'golf', 5491: 'chained', 5492: 'items', 5493: 'museum', 5494: 'quadruple-sec', 5495: 'shrugging', 5496: 'skin', 5497: 'pronounce', 5498: 'birthplace', 5499: '4x4', 5500: 'answers', 5501: 'nuts', 5502: 'fevered', 5503: 'passenger', 5504: 'victorious', 5505: 'suspended', 5506: 'windelle', 5507: 'rice', 5508: 'conclusions', 5509: 'affectations', 5510: 'rubs', 5511: 'amanda', 5512: 'seek', 5513: 'mad', 5514: 'crew', 5515: 'sneaky', 5516: 'furry', 5517: 'searching', 5518: 'admitting', 5519: 'links', 5520: 'enemies', 5521: 'hosting', 5522: 'end', 5523: 'acronyms', 5524: 'card', 5525: 'supervising', 5526: \"what'd\", 5527: \"don'tcha\", 5528: 'greystash', 5529: 'sharps', 5530: 'laugh', 5531: 'common', 5532: 'sanitation', 5533: 'ab', 5534: 'kay', 5535: 'kind', 5536: 'salary', 5537: 'captain:', 5538: 'halvsies', 5539: 'worried', 5540: 'estranged', 5541: 'meeting', 5542: 'jack', 5543: \"callin'\", 5544: 'badmouths', 5545: 'ducked', 5546: 'cupid', 5547: 'yesterday', 5548: 'mozzarella', 5549: \"showin'\", 5550: 'proud', 5551: 'bought', 5552: 'lou', 5553: 'cases', 5554: 'book', 5555: 'labor', 5556: 'premiering', 5557: 'milk', 5558: 'mitts', 5559: 'partners', 5560: 'gimmicks', 5561: 'pilsner-pusher', 5562: 'edna-lover-one-seventy-two', 5563: 'administration', 5564: 'killarney', 5565: 'start', 5566: 'model', 5567: 'jukebox', 5568: 'fritz:', 5569: 'canyonero', 5570: 'meaningfully', 5571: 'stares', 5572: 'appropriate', 5573: 'demo', 5574: 'done', 5575: 'kennedy', 5576: 'load', 5577: 'tip', 5578: 'nordiques', 5579: 'rolls', 5580: 'helpful', 5581: \"renovatin'\", 5582: 'garbage', 5583: 'guide', 5584: 'salad', 5585: 'self', 5586: 'gee', 5587: 'meyerhof', 5588: 'complaining', 5589: 'charming', 5590: 'williams', 5591: 'fresco', 5592: 'capitalists', 5593: 'almost', 5594: 'country-fried', 5595: 'oughtta', 5596: 'fox_mulder:', 5597: 'jerky', 5598: \"who'll\", 5599: 'dinner', 5600: 'ever', 5601: 'spit', 5602: 'break-up', 5603: 'womb', 5604: 'hammer', 5605: 'boxing_announcer:', 5606: 'restaurants', 5607: 'peppers', 5608: 'pointy', 5609: 'tribute', 5610: 'eighty-three', 5611: 'artie_ziff:', 5612: 'aboard', 5613: 'smelly', 5614: 'gear-head', 5615: 'cheat', 5616: 'dea-d-d-dead', 5617: 'habit', 5618: 'text', 5619: \"high-falutin'\", 5620: '3rd_voice:', 5621: \"hawkin'\", 5622: 'approval', 5623: 'increased', 5624: 'crawl', 5625: 'guts', 5626: 'nigeria', 5627: 'babies', 5628: \"disrobin'\", 5629: 'smile:', 5630: 'baseball', 5631: 'ineffective', 5632: 'choices', 5633: 'cakes', 5634: 'example', 5635: 'lazy', 5636: 'thousand-year', 5637: 'driving', 5638: 'maiden', 5639: 'bart_simpson:', 5640: 'polite', 5641: \"today's\", 5642: \"city's\", 5643: 'butterball', 5644: 'customers-slash-only', 5645: 'harv:', 5646: \"bartender's\", 5647: 'novelty', 5648: 'trolls', 5649: 'earth', 5650: 'attractive', 5651: 'advertise', 5652: 'meaningless', 5653: 'precious', 5654: 'reactions', 5655: 'hispanic_crowd:', 5656: 'angel', 5657: \"stayin'\", 5658: 'noose', 5659: 'wallet', 5660: 'subscriptions', 5661: 'whup', 5662: 'alfred', 5663: 'shifty', 5664: 'versus', 5665: 'owner', 5666: 'single-mindedness', 5667: 'scary', 5668: 'smuggled', 5669: 'mocking', 5670: 'slow', 5671: 'handler', 5672: 'syrup', 5673: 'dangerous', 5674: 'chilly', 5675: 'dad', 5676: 'pause', 5677: \"'n'\", 5678: 'ronstadt', 5679: 'average-looking', 5680: 'fridge', 5681: 'damage', 5682: 'inspiring', 5683: 'ees', 5684: \"startin'\", 5685: 'sips', 5686: 'helen', 5687: 'ohhhh', 5688: 'same', 5689: 'butts', 5690: 'undies', 5691: 'democrats', 5692: 'criminal', 5693: 'easier', 5694: 'pipes', 5695: 'hollowed-out', 5696: 'faded', 5697: 'sigh', 5698: 'jackass', 5699: 'chastity', 5700: 'undermine', 5701: 'mention', 5702: 'malibu', 5703: 'shoe', 5704: 'falsetto', 5705: 'ticket', 5706: 'chapel', 5707: 'dough', 5708: 'transylvania', 5709: 'specializes', 5710: 'rationalizing', 5711: 'eleven', 5712: 'roy', 5713: 'all-star', 5714: 'crime', 5715: 'exit', 5716: 'burning', 5717: 'behavior', 5718: 'bathroom', 5719: 'broke', 5720: 'sarcastic', 5721: 'scrutinizes', 5722: 'poin-dexterous', 5723: 'ruby-studded', 5724: 'snap', 5725: 'pretzels', 5726: 'winded', 5727: 'equivalent', 5728: 'new', 5729: 'wa', 5730: 'back', 5731: 'nice', 5732: 'figure', 5733: 'strains', 5734: 'bell', 5735: 'career', 5736: \"plank's\", 5737: 'chubby', 5738: 'federal', 5739: 'simpsons', 5740: 'troll', 5741: 'people', 5742: 'afford', 5743: 'deer', 5744: 'ninety-nine', 5745: 'expect', 5746: 'crowd', 5747: 'while', 5748: 'kindly', 5749: 'wowww', 5750: 'now', 5751: 'wire', 5752: 'presses', 5753: 'nelson_muntz:', 5754: 'fighting', 5755: 'utensils', 5756: 'yells', 5757: 'inclination', 5758: 'hibbert', 5759: 'notorious', 5760: 'dizzy', 5761: 'force', 5762: 'modest', 5763: 'kazoo', 5764: \"sayin'\", 5765: 'yellow-belly', 5766: 'corkscrews', 5767: 'dryer', 5768: 'spy', 5769: 'pad', 5770: 'pure', 5771: 'wok', 5772: 'figured', 5773: \"meanin'\", 5774: 'bones', 5775: \"listenin'\", 5776: \"tramp's\", 5777: 'better', 5778: 'coins', 5779: 'snotball', 5780: 'completely', 5781: 'sassy', 5782: 'romance', 5783: 'audience', 5784: 'solid', 5785: 'manjula', 5786: 'rest', 5787: 'mugs', 5788: 'eminence', 5789: 'man_with_tree_hat:', 5790: 'minute', 5791: 'swan', 5792: 'compliments', 5793: 'latin', 5794: 'terrified', 5795: 'horrible', 5796: 'mom', 5797: 'owe', 5798: 'outrageous', 5799: 'whoops', 5800: 'kickoff', 5801: 'moan', 5802: 'officials', 5803: 'seymour_skinner:', 5804: 'remorseful', 5805: 'gentle', 5806: 'joe', 5807: 'elephants', 5808: 'swallowed', 5809: 'super-nice', 5810: 'fistiana', 5811: 'bleak', 5812: \"g'on\", 5813: 'smile', 5814: \"swishifyin'\", 5815: 'doom', 5816: 'considers', 5817: 'rims', 5818: 'commit', 5819: 'seeing', 5820: 'beating', 5821: 'ass', 5822: 'too', 5823: 'boggs', 5824: 'thought_bubble_homer:', 5825: 'conclude', 5826: 'project', 5827: 'mona_simpson:', 5828: 'spent', 5829: 'teach', 5830: 'dejected_barfly:', 5831: 'carefully', 5832: 'wealthy', 5833: 'slim', 5834: 'fudd', 5835: 'wasted', 5836: 'kansas', 5837: 'busy', 5838: 'easily', 5839: 'sport', 5840: 'hub', 5841: 'understanding', 5842: 'paints', 5843: 'vin', 5844: 'hey', 5845: 'tear', 5846: 'texas', 5847: \"takin'\", 5848: 'cleveland', 5849: 'carny:', 5850: 'insulin', 5851: 'wieners', 5852: 'dilemma', 5853: 'aristotle:', 5854: 'unkempt', 5855: 'play', 5856: 'someday', 5857: 'wudgy', 5858: 'military', 5859: 'cash', 5860: \"can't\", 5861: 'elocution', 5862: 'squeezed', 5863: 'composite', 5864: 'silent', 5865: 'incriminating', 5866: 'friend:', 5867: 'mouths', 5868: 'f-l-a-n-r-d-s', 5869: 'choice:', 5870: 'delivery_boy:', 5871: 'choke', 5872: 'st', 5873: 'forty-nine', 5874: 'arab_man:', 5875: 'placed', 5876: 'moe_szyslak:', 5877: 'sharing', 5878: 'had', 5879: 'surprising', 5880: \"mecca's\", 5881: 'realize', 5882: 'hundreds', 5883: 'hardhat', 5884: 'boozy', 5885: 'switch', 5886: 'brassiest', 5887: 'whoa-ho', 5888: 'training', 5889: 'heavyset', 5890: 'brief', 5891: 'lowering', 5892: 'steak', 5893: 'really', 5894: 'even', 5895: 'bartender', 5896: 'girl', 5897: 'nectar', 5898: 'terrifying', 5899: 'give', 5900: 'trainers', 5901: 'wayne:', 5902: 'duffman', 5903: 'mission', 5904: 'turning', 5905: 'billy_the_kid:', 5906: \"squeezin'\", 5907: 'comeback', 5908: 'cheap', 5909: 'taxes', 5910: 'customer', 5911: 'sketching', 5912: 'hooked', 5913: 'cell', 5914: 'hillary', 5915: 'ref', 5916: 's-a-u-r-c-e', 5917: 'the', 5918: 'device', 5919: 'sincerely', 5920: 'cheesecake', 5921: 'war', 5922: 'gutenberg', 5923: 'telling', 5924: 'marmaduke', 5925: 'gabriel:', 5926: 'babar', 5927: 'grandã©', 5928: 'throwing', 5929: 'yards', 5930: 'small_boy:', 5931: 'encore', 5932: 'hired', 5933: 'clandestine', 5934: 'muttering', 5935: 'competing', 5936: 'piece', 5937: 'near', 5938: 'y', 5939: 'birth', 5940: 'mortal', 5941: 'cricket', 5942: 'boxing', 5943: 'proves', 5944: 'society_matron:', 5945: 'crayon', 5946: 'saturday', 5947: 'case', 5948: 'suspenders', 5949: 'times', 5950: 'eighty-seven', 5951: 'died', 5952: 'co-sign', 5953: 'voice', 5954: 'you', 5955: 'go', 5956: \"world's\", 5957: 'neat', 5958: 'researching', 5959: 'excited', 5960: 'seymour', 5961: 'smiles', 5962: 'march', 5963: \"yesterday's\", 5964: 'dipping', 5965: 'effect', 5966: 'carb', 5967: 'elder', 5968: \"can'tcha\", 5969: 'handed', 5970: 'butter', 5971: 'calendars', 5972: 'spews', 5973: \"patrick's\", 5974: 'boned', 5975: 'pledge', 5976: 'santeria', 5977: 'second', 5978: 'stinky', 5979: 'colonel:', 5980: 'quarterback', 5981: 'smelling', 5982: 'artie', 5983: 'bump', 5984: \"drivin'\", 5985: 'saint', 5986: 'tomorrow', 5987: 'hands', 5988: 'upon', 5989: 'kill', 5990: 'conversion', 5991: 'regulations', 5992: 'sixty', 5993: 'break', 5994: 'sizes', 5995: 'upgrade', 5996: 'elves:', 5997: 'further', 5998: 'ehhh', 5999: 'months', 6000: 'slab', 6001: 'flown', 6002: 'cute', 6003: 'do', 6004: 'tense', 6005: 'sits', 6006: 'opportunity', 6007: 'tells', 6008: 'till', 6009: 'tearfully', 6010: 'palmerston', 6011: 'somehow', 6012: 'hitchhike', 6013: 'stirrers', 6014: '&', 6015: 'consciousness', 6016: 'peaked', 6017: 'charlie:', 6018: 'creme', 6019: 'languages', 6020: 'twenty', 6021: 'coward', 6022: 'forced', 6023: 'heck', 6024: 'faith', 6025: 'supply', 6026: 'gol-dangit', 6027: 'all-all-all', 6028: 'beautiful', 6029: 'love', 6030: 'ugh', 6031: 'missing', 6032: 'bobo', 6033: 'blissful', 6034: 'factor', 6035: 'evergreen', 6036: 'terror', 6037: 'las', 6038: 'sloe', 6039: 'kinds', 6040: 'space-time', 6041: 'kinderhook', 6042: 'choked', 6043: '7-year-old_brockman:', 6044: 'log', 6045: 'other', 6046: 'gary_chalmers:', 6047: 'string', 6048: 'frogs', 6049: 'hoo', 6050: 'most:', 6051: 'hooch', 6052: 'traffic', 6053: 'anyway', 6054: 'cartoons', 6055: 'rabbits', 6056: 'knowing', 6057: \"bart's\", 6058: 'nature', 6059: 'higher', 6060: 'called', 6061: 'recommend', 6062: 'wheel', 6063: 'oak', 6064: 'over-pronouncing', 6065: 'wearing', 6066: \"man's\", 6067: 'mostly', 6068: 'early', 6069: '530', 6070: 'darkest', 6071: 'wonder', 6072: 'landfill', 6073: 'snorts', 6074: 'kids', 6075: 'socialize', 6076: 'chance', 6077: 'stained-glass', 6078: 'swe-ee-ee-ee-eet', 6079: 'comedies', 6080: 'jaegermeister', 6081: 'weapon', 6082: 'filled', 6083: 'concentrate', 6084: \"hasn't\", 6085: 'dingy', 6086: 'compadre', 6087: 'saucy', 6088: 'wife-swapping', 6089: 'mansions', 6090: 'repeating', 6091: 'homer_', 6092: 'tragedy', 6093: 'misconstrue', 6094: 'such', 6095: 'giggles', 6096: 'she-pu', 6097: 'package', 6098: 'cocoa', 6099: 'aging', 6100: \"donatin'\", 6101: 'backgammon', 6102: 'junior', 6103: 'je', 6104: 'suing', 6105: 'courts', 6106: 'darn', 6107: 'theme', 6108: 'sponsoring', 6109: 'temple', 6110: 'milhouses', 6111: 'contented', 6112: 'w', 6113: 'access', 6114: 'other_book_club_member:', 6115: 'broken', 6116: 'tease', 6117: 'albeit', 6118: '21', 6119: 'infatuation', 6120: 'civil', 6121: 'jockey', 6122: 'ford', 6123: 'standing', 6124: 'scare', 6125: 'dang', 6126: 'insured', 6127: 'murderously', 6128: 'lainie:', 6129: 'kramer', 6130: 'push', 6131: 'moe-heads', 6132: 'ahhh', 6133: 'led', 6134: \"dyin'\", 6135: 'thorn', 6136: 'conditioner', 6137: 'goblins', 6138: 'philosophical', 6139: 'abusive', 6140: 'lobster-politans', 6141: 'bluff', 6142: 'starve', 6143: 'stool', 6144: 'bash', 6145: 'twerpy', 6146: 'endorsed', 6147: 'mouse', 6148: 'hear', 6149: 'sees/', 6150: 'dee-fense', 6151: 'speed', 6152: 'curse', 6153: 'hair', 6154: 'booking', 6155: 'mulder', 6156: 'shorter', 6157: 'gimme', 6158: 'managed', 6159: 'tinkle', 6160: 'showing', 6161: 'before', 6162: 'sissy', 6163: 'harvesting', 6164: 'confession', 6165: 'meatpies', 6166: 'invited', 6167: 'philip', 6168: 'coy', 6169: 'manfred', 6170: 'awareness', 6171: 'notably', 6172: 'twice', 6173: 'blame', 6174: 'grandmother', 6175: 'minus', 6176: 'thought', 6177: 'hardy', 6178: 'wobble', 6179: 'billboard', 6180: 'dramatic', 6181: 'willing', 6182: 'animals', 6183: 'adult', 6184: 'joey', 6185: 'ping-pong', 6186: 'hexa-', 6187: 'lists', 6188: 'violin', 6189: \"ball's\", 6190: 'aggravated', 6191: 'errrrrrr', 6192: 'shack', 6193: 'navy', 6194: 'hooray', 6195: 'poet', 6196: \"shan't\", 6197: 'whenever', 6198: 'tidy', 6199: 'spot', 6200: 'exhaust', 6201: 'democracy', 6202: 'trunk', 6203: 'saw', 6204: 'focused', 6205: 'row', 6206: 'cowboy', 6207: 'pal', 6208: 'asked', 6209: 'something', 6210: 'sobriety', 6211: 'tired', 6212: 'heliotrope', 6213: 'going', 6214: 'root', 6215: 'america', 6216: 'barbara', 6217: 'losing', 6218: 'boy', 6219: 'haplessly', 6220: 'tolerable', 6221: \"tootin'\", 6222: 'both', 6223: 'el', 6224: 'shares', 6225: 'reporter', 6226: 'rock', 6227: 'belches', 6228: 'relaxing', 6229: 'gambler', 6230: 'agent_miller:', 6231: 'tapping', 6232: 'ambrosia', 6233: 'sweetly', 6234: 'brain', 6235: 'dessert', 6236: 'discuss', 6237: 'able', 6238: 'sagacity', 6239: \"there's\", 6240: \"cashin'\", 6241: 'elite', 6242: 'experience', 6243: 'fire_inspector:', 6244: \"blowin'\", 6245: 'then', 6246: 'feet', 6247: 'laughter', 6248: 'signed', 6249: 'hiya', 6250: 'crowds', 6251: 'weeks', 6252: 'united', 6253: 'giggle', 6254: 'fiction', 6255: 'brilliant', 6256: \"england's\", 6257: 'class', 6258: 'brains', 6259: 'entirely', 6260: 'kirk', 6261: 'carpet', 6262: 'lindsay_naegle:', 6263: 'planted', 6264: 'sec_agent_#1:', 6265: 'peabody', 6266: 'occasion', 6267: 'promised', 6268: 'legoland', 6269: 'jig', 6270: 'decadent', 6271: 'outs', 6272: 'committee', 6273: 'chauffeur', 6274: 'mexican_duffman:', 6275: 'nudge', 6276: 'whispers', 6277: 'cattle', 6278: 'adjourned', 6279: 'wantcha', 6280: 'tree', 6281: 'protesters', 6282: 'bindle', 6283: 'hated', 6284: 'snake-handler', 6285: 'glyco-load', 6286: 'plans', 6287: \"writin'\", 6288: 'fever', 6289: 'i-i-i', 6290: 'quotes', 6291: 'grieving', 6292: 'channel', 6293: 'road', 6294: 'check', 6295: 'phrase', 6296: \"bashir's\", 6297: 'sweaty', 6298: 'message', 6299: 'closet', 6300: 'longest', 6301: 'goodwill', 6302: 'covers', 6303: 'determined', 6304: 'proposition', 6305: 'yep', 6306: \"didn't\", 6307: 'pine', 6308: 'jolly', 6309: 'how', 6310: 'muscle', 6311: 'guttural', 6312: 'spoken', 6313: 'pleasant', 6314: 'bolting', 6315: 'window', 6316: 'sloppy', 6317: 'idealistic', 6318: 'gut', 6319: 'muscles', 6320: 'hang', 6321: 'stood', 6322: 'homesick', 6323: 'happier', 6324: 'stuff', 6325: 'thirty-thousand', 6326: 'awfully', 6327: 'fill', 6328: 'negative', 6329: 'uses', 6330: 'century', 6331: 'frog', 6332: 'szyslak', 6333: 'held', 6334: 'marguerite:', 6335: 'rings', 6336: 'owned', 6337: 'marched', 6338: 'hammy', 6339: 'published', 6340: 'man', 6341: 'viva', 6342: 'ugliness', 6343: 'mumbling', 6344: \"linin'\", 6345: 'vincent', 6346: 'bubble', 6347: 'pyramid', 6348: 'cushions', 6349: 'killjoy', 6350: 'sheet', 6351: 'difficult', 6352: 'chunky', 6353: 'burt_reynolds:', 6354: 'considering:', 6355: 'combine', 6356: 'exact', 6357: 'slays', 6358: 'my-y-y-y-y-y', 6359: 'resigned', 6360: 'difference', 6361: 'fanciest', 6362: 'kermit', 6363: 'realizing', 6364: 'liver', 6365: 'wondered', 6366: 'midge', 6367: 'known', 6368: 'jar', 6369: 'disaster', 6370: 'misfire', 6371: 'post-suicide', 6372: 'thirty-nine', 6373: 's', 6374: 'somebody', 6375: 'selection', 6376: 'love-matic', 6377: 'in', 6378: '_montgomery_burns:', 6379: 'dive', 6380: 'f', 6381: \"where's\", 6382: 'citizens', 6383: 'walking', 6384: 'happen', 6385: 'fantasy', 6386: 'encouraging', 6387: 'admiration', 6388: 'offensive', 6389: 'crank', 6390: \"'roids\", 6391: 'loser', 6392: 'fondly', 6393: 'luckiest', 6394: 'trick', 6395: 'smallest', 6396: 'ollie', 6397: 'average', 6398: \"handwriting's\", 6399: 'simultaneous', 6400: 'sweet', 6401: \"homer'll\", 6402: 'robbers', 6403: 'fonzie', 6404: 'verticality', 6405: 'pills', 6406: 'barney-guarding', 6407: 'stein-stengel-', 6408: 'mug', 6409: 'slurred', 6410: \"who's\", 6411: 'fights', 6412: 'fury', 6413: 'admirer', 6414: 'yee-ha', 6415: 'sleeps', 6416: 'quarter', 6417: 'another', 6418: 'voyager', 6419: 'scotch', 6420: 'number', 6421: 'kadlubowski', 6422: 'chips', 6423: 'knows', 6424: 'france', 6425: 'amiable', 6426: 'hafta', 6427: 'counting', 6428: \"goin'\", 6429: 'life:', 6430: 'dice', 6431: 'absorbent', 6432: 'aww', 6433: 'supports', 6434: 'ought', 6435: 'long', 6436: 'mull', 6437: 'letter', 6438: 'family-owned', 6439: 'sampler', 6440: 'good-looking', 6441: 'ken:', 6442: 'stalking', 6443: 'quite', 6444: 'musses', 6445: 'brought', 6446: 'pages', 6447: 'grow', 6448: 'lushmore', 6449: 'demand', 6450: 'sideshow', 6451: 'drink', 6452: 'suds', 6453: 'peter_buck:', 6454: 'cocking', 6455: 'crossed', 6456: 'mither', 6457: 'thoughts', 6458: 'macgregor', 6459: 'clears', 6460: 'scratcher', 6461: 'jelly', 6462: 'date', 6463: 'waist', 6464: \"america's\", 6465: 'prize', 6466: 'flush', 6467: '10:15', 6468: 'eye-gouger', 6469: 'tooth', 6470: 'alva', 6471: 'ihop', 6472: 'wuss', 6473: 'starts', 6474: 'sure', 6475: 'unison', 6476: 'worry', 6477: 'placing', 6478: 'gets', 6479: 'bedridden', 6480: 'childless', 6481: 'around', 6482: 'doubt', 6483: 'utility', 6484: 'liser', 6485: 'snail', 6486: 'vermont', 6487: 'partially', 6488: 'scooter', 6489: 'slick', 6490: 'nope', 6491: 'bookie', 6492: 'daughter', 6493: 'halfway', 6494: 'gone', 6495: 'always', 6496: 'put', 6497: 'begins', 6498: 'accurate', 6499: 'refill', 6500: 'infiltrate', 6501: 'parenting', 6502: 'past', 6503: 'la', 6504: 'infor', 6505: \"tap-pullin'\", 6506: 'blank', 6507: 'old', 6508: 'scores', 6509: 'hawking:', 6510: \"bladder's\", 6511: 'delays', 6512: 'countryman', 6513: 'plucked', 6514: 'delivery_man:', 6515: 'seriously', 6516: 'suit', 6517: 'talk-sings', 6518: 'legs', 6519: 'talked', 6520: 'superior', 6521: 'grammar', 6522: \"coffee'll\", 6523: 'loss', 6524: 'david_byrne:', 6525: 'miss', 6526: 'met', 6527: 'reached', 6528: 'aggie', 6529: 'pfft', 6530: 'aquafresh', 6531: 'coupon', 6532: 'linda_ronstadt:', 6533: 'said', 6534: 'choices:', 6535: 'adjust', 6536: 'low-life', 6537: 'clean', 6538: 'welcome', 6539: 'unavailable', 6540: 'separator', 6541: 'holding', 6542: 'bounced', 6543: 'challenge', 6544: 'alibi', 6545: 'scene', 6546: 'six-barrel', 6547: 'sugar', 6548: 'attached', 6549: 'eve', 6550: 'sympathizer', 6551: 'foibles', 6552: 'orders', 6553: 'prejudice', 6554: 'breathless', 6555: 'laney', 6556: 'susie-q', 6557: 'beligerent', 6558: 'ends', 6559: 'alter', 6560: 'after', 6561: 'grateful', 6562: 'unfresh', 6563: 'sealed', 6564: 'bartending', 6565: 'youngsters', 6566: 'kent', 6567: 'arms', 6568: 'eggshell', 6569: 'summer', 6570: 'gluten', 6571: 'crotch', 6572: 'pas', 6573: 'rude', 6574: 'laughs', 6575: '50%', 6576: 'gum', 6577: 'french', 6578: 'al', 6579: 'farewell', 6580: 'onassis', 6581: 'sheets', 6582: 'sieben-gruben', 6583: 'rush', 6584: 'harm', 6585: 'unfair', 6586: 'well-wisher', 6587: 'sixty-five', 6588: 'carolina', 6589: 'bow', 6590: 'funniest', 6591: 'yoo', 6592: 'tremendous', 6593: 'louder', 6594: 'lovers', 6595: 'sunny', 6596: 'henry', 6597: 'bury', 6598: \"liftin'\", 6599: 'tyson/secretariat', 6600: 'bet', 6601: 'streetcorner', 6602: 'blowfish', 6603: 'outstanding', 6604: 'jobless', 6605: 'sending', 6606: 'set', 6607: 'calculate', 6608: \"fryer's\", 6609: 'affection', 6610: 'if', 6611: 'there', 6612: 'incredulous', 6613: 'hole', 6614: 'dynamite', 6615: 'mall', 6616: 'sight', 6617: 'ye', 6618: \"one's\", 6619: 'stingy', 6620: 'stagehand:', 6621: 'monorails', 6622: 'commanding', 6623: 'advantage', 6624: 'sickened', 6625: 'atlanta', 6626: 'norway', 6627: 'dame', 6628: 'safer', 6629: 'wash', 6630: 'femininity', 6631: 'howya', 6632: 'portfolium', 6633: 'sweetheart', 6634: 'landlord', 6635: 'contemplates', 6636: \"football's\", 6637: 'quebec', 6638: 'pretends', 6639: 'enlightened', 6640: 'seconds', 6641: 'broom', 6642: 'nickels', 6643: 'b-day', 6644: 'disappointment', 6645: 'tiny', 6646: 'wars', 6647: 'ziff', 6648: 'conference', 6649: 'off', 6650: 'bill_james:', 6651: 'fool', 6652: 'lose', 6653: 'indicates', 6654: 'ga', 6655: 'settlement', 6656: 'influence', 6657: 'grumpy', 6658: 'spanish', 6659: 'thankful', 6660: 'pouring', 6661: 'beloved', 6662: 'storms', 6663: 'married', 6664: 'sitting', 6665: 'stan', 6666: 'philosophic', 6667: 'male_singers:', 6668: 'business', 6669: 'hideous', 6670: \"brady's\", 6671: 'cause', 6672: 'candy', 6673: 'seat', 6674: \"puttin'\", 6675: 'payments', 6676: 'winks', 6677: \"i'm\", 6678: 'pretending', 6679: 'wha', 6680: 'mountain', 6681: 'sound', 6682: 'denser', 6683: 'england', 6684: 'actually', 6685: 'situation', 6686: 'hilarious', 6687: 'thousands', 6688: 'housework', 6689: 'ho-la', 6690: 'lowers', 6691: 'kick', 6692: 'mayor_joe_quimby:', 6693: 'burn', 6694: 'reentering', 6695: 'feminist', 6696: 'hunter', 6697: 'floating', 6698: \"o'problem\", 6699: 'operation', 6700: 'cents', 6701: 'pretty', 6702: 'lips', 6703: 'sweater', 6704: 'drawing', 6705: 'taught', 6706: 'park', 6707: 'health', 6708: 'rapidly', 6709: 'stocking', 6710: 'muslim', 6711: 'sees', 6712: 'cheryl', 6713: 'dig', 6714: 'adult_bart:', 6715: 'bronco', 6716: 'register', 6717: 'nods', 6718: 'patty', 6719: 'half-back', 6720: 'deal', 6721: 'tornado', 6722: 'refund', 6723: 'tax', 6724: 'writers', 6725: 'hates', 6726: 'cans', 6727: 'clams', 6728: 'have', 6729: 'again', 6730: 'stones', 6731: 'children', 6732: 'spied', 6733: 'clap', 6734: 'specials', 6735: 'b', 6736: 'sector', 6737: 'appendectomy', 6738: 'sudoku', 6739: 'saved', 6740: 'breaking', 6741: 'businessman_#2:', 6742: 'um', 6743: 'noticing', 6744: 'miles', 6745: '||semicolon||', 6746: 'years', 6747: 'bar', 6748: 'detective', 6749: 'reminds', 6750: 'graveyard', 6751: 'squashing', 6752: 'thank', 6753: 'selfish', 6754: 'instrument', 6755: 'plant', 6756: 'charged', 6757: 'buffalo', 6758: 'exasperated', 6759: 'oil', 6760: 'bears', 6761: \"buyin'\", 6762: 'son-of-a', 6763: 'declan_desmond:', 6764: 'woozy', 6765: 'special', 6766: 'ferry', 6767: 'vulnerable', 6768: 'everyday', 6769: 'lucius:', 6770: 'vacations', 6771: 'need', 6772: 'overturned', 6773: 'cookies', 6774: 'montrer', 6775: 'digging', 6776: 'lead', 6777: 'wreck', 6778: 'bedtime', 6779: 'anderson'}\n"
     ]
    }
   ],
   "source": [
    "\"\"\"\n",
    "DON'T MODIFY ANYTHING IN THIS CELL\n",
    "\"\"\"\n",
    "# Preprocess Training, Validation, and Testing Data\n",
    "helper.preprocess_and_save_data(data_dir, token_lookup, create_lookup_tables)"
   ]
  },
  {
   "cell_type": "markdown",
   "metadata": {},
   "source": [
    "# Check Point\n",
    "This is the first checkpoint. The preprocessed data has been saved to disk."
   ]
  },
  {
   "cell_type": "code",
   "execution_count": 6,
   "metadata": {},
   "outputs": [],
   "source": [
    "\"\"\"\n",
    "DON'T MODIFY ANYTHING IN THIS CELL\n",
    "\"\"\"\n",
    "import helper\n",
    "import numpy as np\n",
    "import problem_unittests as tests\n",
    "\n",
    "int_text, vocab_to_int, int_to_vocab, token_dict = helper.load_preprocess()"
   ]
  },
  {
   "cell_type": "markdown",
   "metadata": {},
   "source": [
    "## Build the Neural Network\n",
    "We'll build the components necessary to build a RNN by implementing the following functions below:\n",
    "- get_inputs\n",
    "- get_init_cell\n",
    "- get_embed\n",
    "- build_rnn\n",
    "- build_nn\n",
    "- get_batches\n",
    "\n",
    "### Check the Version of TensorFlow and Access to GPU"
   ]
  },
  {
   "cell_type": "code",
   "execution_count": 7,
   "metadata": {},
   "outputs": [
    {
     "name": "stdout",
     "output_type": "stream",
     "text": [
      "TensorFlow Version: 1.13.1\n"
     ]
    },
    {
     "name": "stderr",
     "output_type": "stream",
     "text": [
      "C:\\Users\\sushant.dhumak\\AppData\\Local\\conda\\conda\\envs\\tensorflow\\lib\\site-packages\\ipykernel_launcher.py:14: UserWarning: No GPU found. Please use a GPU to train your neural network.\n",
      "  \n"
     ]
    }
   ],
   "source": [
    "\"\"\"\n",
    "DON'T MODIFY ANYTHING IN THIS CELL\n",
    "\"\"\"\n",
    "from distutils.version import LooseVersion\n",
    "import warnings\n",
    "import tensorflow as tf\n",
    "\n",
    "# Check TensorFlow Version\n",
    "assert LooseVersion(tf.__version__) >= LooseVersion('1.3'), 'Please use TensorFlow version 1.3 or newer'\n",
    "print('TensorFlow Version: {}'.format(tf.__version__))\n",
    "\n",
    "# Check for a GPU\n",
    "if not tf.test.gpu_device_name():\n",
    "    warnings.warn('No GPU found. Please use a GPU to train your neural network.')\n",
    "else:\n",
    "    print('Default GPU Device: {}'.format(tf.test.gpu_device_name()))"
   ]
  },
  {
   "cell_type": "markdown",
   "metadata": {},
   "source": [
    "### Input\n",
    "Implementing the `get_inputs()` function to create TF Placeholders for the Neural Network.  It should create the following placeholders:\n",
    "- Input text placeholder named \"input\" using the [TF Placeholder](https://www.tensorflow.org/api_docs/python/tf/placeholder) `name` parameter.\n",
    "- Targets placeholder\n",
    "- Learning Rate placeholder\n",
    "\n",
    "Return the placeholders in the following tuple `(Input, Targets, LearningRate)`"
   ]
  },
  {
   "cell_type": "code",
   "execution_count": 8,
   "metadata": {},
   "outputs": [
    {
     "name": "stdout",
     "output_type": "stream",
     "text": [
      "Tests Passed\n"
     ]
    }
   ],
   "source": [
    "def get_inputs():\n",
    "    \"\"\"\n",
    "    Create TF Placeholders for input, targets, and learning rate.\n",
    "    :return: Tuple (input, targets, learning rate)\n",
    "    \"\"\"\n",
    "    # Function Implementation\n",
    "    \n",
    "    input_ = tf.placeholder(tf.int32, shape=[None, None], name='input')\n",
    "    targets_ = tf.placeholder(tf.int32, shape=[None, None], name='targets')\n",
    "    learning_rate_ = tf.placeholder(tf.float32, name='learning_rate')\n",
    "    \n",
    "    return input_, targets_, learning_rate_\n",
    "\n",
    "\"\"\"\n",
    "DON'T MODIFY ANYTHING IN THIS CELL THAT IS BELOW THIS LINE\n",
    "\"\"\"\n",
    "tests.test_get_inputs(get_inputs)"
   ]
  },
  {
   "cell_type": "markdown",
   "metadata": {},
   "source": [
    "### Building RNN Cell and Initializing\n",
    "Stacking one or more [`BasicLSTMCells`](https://www.tensorflow.org/api_docs/python/tf/contrib/rnn/BasicLSTMCell) in a [`MultiRNNCell`](https://www.tensorflow.org/api_docs/python/tf/contrib/rnn/MultiRNNCell).\n",
    "- The Rnn size should be set using `rnn_size`\n",
    "- Initalize Cell State using the MultiRNNCell's [`zero_state()`](https://www.tensorflow.org/api_docs/python/tf/contrib/rnn/MultiRNNCell#zero_state) function\n",
    "    - Apply the name \"initial_state\" to the initial state using [`tf.identity()`](https://www.tensorflow.org/api_docs/python/tf/identity)\n",
    "\n",
    "Return the cell and initial state in the following tuple `(Cell, InitialState)`"
   ]
  },
  {
   "cell_type": "code",
   "execution_count": 9,
   "metadata": {},
   "outputs": [
    {
     "name": "stdout",
     "output_type": "stream",
     "text": [
      "WARNING:tensorflow:From <ipython-input-9-554848a10dc9>:10: BasicLSTMCell.__init__ (from tensorflow.python.ops.rnn_cell_impl) is deprecated and will be removed in a future version.\n",
      "Instructions for updating:\n",
      "This class is equivalent as tf.keras.layers.LSTMCell, and will be replaced by that in Tensorflow 2.0.\n",
      "WARNING:tensorflow:From <ipython-input-9-554848a10dc9>:12: MultiRNNCell.__init__ (from tensorflow.python.ops.rnn_cell_impl) is deprecated and will be removed in a future version.\n",
      "Instructions for updating:\n",
      "This class is equivalent as tf.keras.layers.StackedRNNCells, and will be replaced by that in Tensorflow 2.0.\n",
      "Tests Passed\n"
     ]
    }
   ],
   "source": [
    "def get_init_cell(batch_size, rnn_size):\n",
    "    \"\"\"\n",
    "    Create an RNN Cell and initialize it.\n",
    "    :param batch_size: Size of batches\n",
    "    :param rnn_size: Size of RNNs\n",
    "    :return: Tuple (cell, initialize state)\n",
    "    \"\"\"\n",
    "    # Function Implementation\n",
    "    \n",
    "    lstm = tf.contrib.rnn.BasicLSTMCell(rnn_size)\n",
    "    drop = tf.contrib.rnn.DropoutWrapper(lstm, output_keep_prob=1.0)\n",
    "    cell = tf.contrib.rnn.MultiRNNCell([drop])\n",
    "    initial_state = cell.zero_state(batch_size, tf.float32)\n",
    "    initial_state = tf.identity(initial_state, name='initial_state')\n",
    "    \n",
    "    return cell, initial_state\n",
    "\n",
    "\"\"\"\n",
    "DON'T MODIFY ANYTHING IN THIS CELL THAT IS BELOW THIS LINE\n",
    "\"\"\"\n",
    "tests.test_get_init_cell(get_init_cell)"
   ]
  },
  {
   "cell_type": "markdown",
   "metadata": {},
   "source": [
    "### Word Embedding\n",
    "Applying embedding to `input_data` using TensorFlow.  Return the embedded sequence."
   ]
  },
  {
   "cell_type": "code",
   "execution_count": 10,
   "metadata": {},
   "outputs": [
    {
     "name": "stdout",
     "output_type": "stream",
     "text": [
      "WARNING:tensorflow:From C:\\Users\\sushant.dhumak\\AppData\\Local\\conda\\conda\\envs\\tensorflow\\lib\\site-packages\\tensorflow\\python\\framework\\op_def_library.py:263: colocate_with (from tensorflow.python.framework.ops) is deprecated and will be removed in a future version.\n",
      "Instructions for updating:\n",
      "Colocations handled automatically by placer.\n",
      "Tests Passed\n"
     ]
    }
   ],
   "source": [
    "def get_embed(input_data, vocab_size, embed_dim):\n",
    "    \"\"\"\n",
    "    Create embedding for <input_data>.\n",
    "    :param input_data: TF placeholder for text input.\n",
    "    :param vocab_size: Number of words in vocabulary.\n",
    "    :param embed_dim: Number of embedding dimensions\n",
    "    :return: Embedded input.\n",
    "    \"\"\"\n",
    "    # Function Implementation\n",
    "    \n",
    "    embedding = tf.Variable(tf.random_uniform((vocab_size, embed_dim), -1, 1))\n",
    "    embed = tf.nn.embedding_lookup(embedding, input_data)\n",
    "    \n",
    "    return embed\n",
    "\n",
    "\"\"\"\n",
    "DON'T MODIFY ANYTHING IN THIS CELL THAT IS BELOW THIS LINE\n",
    "\"\"\"\n",
    "tests.test_get_embed(get_embed)"
   ]
  },
  {
   "cell_type": "markdown",
   "metadata": {},
   "source": [
    "### Build RNN\n",
    "We created a RNN Cell in the `get_init_cell()` function.  Time to use the cell to create a RNN.\n",
    "- Build the RNN using the [`tf.nn.dynamic_rnn()`](https://www.tensorflow.org/api_docs/python/tf/nn/dynamic_rnn)\n",
    " - Apply the name \"final_state\" to the final state using [`tf.identity()`](https://www.tensorflow.org/api_docs/python/tf/identity)\n",
    "\n",
    "Return the outputs and final_state state in the following tuple `(Outputs, FinalState)` "
   ]
  },
  {
   "cell_type": "code",
   "execution_count": 11,
   "metadata": {},
   "outputs": [
    {
     "name": "stdout",
     "output_type": "stream",
     "text": [
      "WARNING:tensorflow:From <ipython-input-11-feed388f0f71>:10: dynamic_rnn (from tensorflow.python.ops.rnn) is deprecated and will be removed in a future version.\n",
      "Instructions for updating:\n",
      "Please use `keras.layers.RNN(cell)`, which is equivalent to this API\n",
      "Tests Passed\n"
     ]
    }
   ],
   "source": [
    "def build_rnn(cell, inputs):\n",
    "    \"\"\"\n",
    "    Create a RNN using a RNN Cell\n",
    "    :param cell: RNN Cell\n",
    "    :param inputs: Input text data\n",
    "    :return: Tuple (Outputs, Final State)\n",
    "    \"\"\"\n",
    "    # Function Implementation\n",
    "    \n",
    "    outputs, final_state = tf.nn.dynamic_rnn(cell, inputs, dtype=tf.float32)\n",
    "    final_state = tf.identity(final_state, name='final_state')\n",
    "    \n",
    "    return outputs, final_state\n",
    "\n",
    "\"\"\"\n",
    "DON'T MODIFY ANYTHING IN THIS CELL THAT IS BELOW THIS LINE\n",
    "\"\"\"\n",
    "tests.test_build_rnn(build_rnn)"
   ]
  },
  {
   "cell_type": "markdown",
   "metadata": {},
   "source": [
    "### Build the Neural Network\n",
    "Apply the functions we implemented above to:\n",
    "- Apply embedding to `input_data` using your `get_embed(input_data, vocab_size, embed_dim)` function.\n",
    "- Build RNN using `cell` and your `build_rnn(cell, inputs)` function.\n",
    "- Apply a fully connected layer with a linear activation and `vocab_size` as the number of outputs.\n",
    "\n",
    "Return the logits and final state in the following tuple (Logits, FinalState) "
   ]
  },
  {
   "cell_type": "code",
   "execution_count": 12,
   "metadata": {},
   "outputs": [
    {
     "name": "stdout",
     "output_type": "stream",
     "text": [
      "WARNING:tensorflow:From <ipython-input-12-060a934d95f0>:15: dense (from tensorflow.python.layers.core) is deprecated and will be removed in a future version.\n",
      "Instructions for updating:\n",
      "Use keras.layers.dense instead.\n",
      "Tests Passed\n"
     ]
    }
   ],
   "source": [
    "def build_nn(cell, rnn_size, input_data, vocab_size, embed_dim):\n",
    "    \"\"\"\n",
    "    Build part of the neural network\n",
    "    :param cell: RNN cell\n",
    "    :param rnn_size: Size of rnns\n",
    "    :param input_data: Input data\n",
    "    :param vocab_size: Vocabulary size\n",
    "    :param embed_dim: Number of embedding dimensions\n",
    "    :return: Tuple (Logits, FinalState)\n",
    "    \"\"\"\n",
    "    # Function Implementation\n",
    "    \n",
    "    embedding_layer = get_embed(input_data, vocab_size, embed_dim)\n",
    "    (outputs, final_state) = build_rnn(cell, embedding_layer)\n",
    "    logits = tf.layers.dense(outputs, vocab_size, activation= None, use_bias=True)\n",
    "    \n",
    "    return (logits, final_state)\n",
    "\n",
    "\"\"\"\n",
    "DON'T MODIFY ANYTHING IN THIS CELL THAT IS BELOW THIS LINE\n",
    "\"\"\"\n",
    "tests.test_build_nn(build_nn)"
   ]
  },
  {
   "cell_type": "markdown",
   "metadata": {},
   "source": [
    "### Batches\n",
    "Implementing `get_batches` to create batches of input and targets using `int_text`.  The batches will be a Numpy array with the shape `(number of batches, 2, batch size, sequence length)`. Each batch contains two elements:\n",
    "- The first element is a single batch of **input** with the shape `[batch size, sequence length]`\n",
    "- The second element is a single batch of **targets** with the shape `[batch size, sequence length]`\n",
    "\n",
    "If we can't fill the last batch with enough data, drop the last batch.\n",
    "\n",
    "For example, `get_batches([1, 2, 3, 4, 5, 6, 7, 8, 9, 10, 11, 12, 13, 14, 15, 16, 17, 18, 19, 20], 3, 2)` would return a Numpy array of the following:\n",
    "```\n",
    "[\n",
    "  # First Batch\n",
    "  [\n",
    "    # Batch of Input\n",
    "    [[ 1  2], [ 7  8], [13 14]]\n",
    "    # Batch of targets\n",
    "    [[ 2  3], [ 8  9], [14 15]]\n",
    "  ]\n",
    "\n",
    "  # Second Batch\n",
    "  [\n",
    "    # Batch of Input\n",
    "    [[ 3  4], [ 9 10], [15 16]]\n",
    "    # Batch of targets\n",
    "    [[ 4  5], [10 11], [16 17]]\n",
    "  ]\n",
    "\n",
    "  # Third Batch\n",
    "  [\n",
    "    # Batch of Input\n",
    "    [[ 5  6], [11 12], [17 18]]\n",
    "    # Batch of targets\n",
    "    [[ 6  7], [12 13], [18  1]]\n",
    "  ]\n",
    "]\n",
    "```\n",
    "\n",
    "Notice that the last target value in the last batch is the first input value of the first batch. In this case, `1`. This is a common technique used when creating sequence batches, although it is rather unintuitive."
   ]
  },
  {
   "cell_type": "code",
   "execution_count": 13,
   "metadata": {},
   "outputs": [
    {
     "name": "stdout",
     "output_type": "stream",
     "text": [
      "Tests Passed\n"
     ]
    }
   ],
   "source": [
    "def get_batches(int_text, batch_size, seq_length):\n",
    "    \"\"\"\n",
    "    Return batches of input and target\n",
    "    :param int_text: Text with the words replaced by their ids\n",
    "    :param batch_size: The size of batch\n",
    "    :param seq_length: The length of sequence\n",
    "    :return: Batches as a Numpy array\n",
    "    \"\"\"\n",
    "    # Function Implementation\n",
    "    \n",
    "    n_batch = int(len(int_text) / (batch_size * seq_length))\n",
    "    xData = np.array(int_text[:batch_size*seq_length*n_batch])\n",
    "    yData = np.array(int_text[1:batch_size*seq_length*n_batch+1])\n",
    "    yData[-1] = xData[0]\n",
    "    \n",
    "    xBatches = np.split(xData.reshape(batch_size, -1), n_batch, 1)\n",
    "    yBatches = np.split(yData.reshape(batch_size, -1), n_batch, 1)\n",
    "    \n",
    "    return np.array(list(zip(xBatches, yBatches)))\n",
    "\n",
    "\"\"\"\n",
    "DON'T MODIFY ANYTHING IN THIS CELL THAT IS BELOW THIS LINE\n",
    "\"\"\"\n",
    "tests.test_get_batches(get_batches)"
   ]
  },
  {
   "cell_type": "markdown",
   "metadata": {},
   "source": [
    "## Neural Network Training\n",
    "### Hyperparameters\n",
    "Let's tune the following parameters:\n",
    "\n",
    "- `num_epochs` to the number of epochs.\n",
    "- `batch_size` to the batch size.\n",
    "- `rnn_size` to the size of the RNNs.\n",
    "- `embed_dim` to the size of the embedding.\n",
    "- `seq_length` to the length of sequence.\n",
    "- `learning_rate` to the learning rate.\n",
    "- `show_every_n_batches` to the number of batches the neural network should print progress."
   ]
  },
  {
   "cell_type": "code",
   "execution_count": 14,
   "metadata": {},
   "outputs": [],
   "source": [
    "# Number of Epochs\n",
    "num_epochs = 50\n",
    "# Batch Size\n",
    "batch_size = 256\n",
    "# RNN Size\n",
    "rnn_size = 256\n",
    "# Embedding Dimension Size\n",
    "embed_dim = 256\n",
    "# Sequence Length\n",
    "seq_length = 16\n",
    "# Learning Rate\n",
    "learning_rate = 0.01\n",
    "# Show stats for every n number of batches\n",
    "show_every_n_batches = 10\n",
    "\n",
    "\"\"\"\n",
    "DON'T MODIFY ANYTHING IN THIS CELL THAT IS BELOW THIS LINE\n",
    "\"\"\"\n",
    "save_dir = './save'"
   ]
  },
  {
   "cell_type": "markdown",
   "metadata": {},
   "source": [
    "### Building the Graph\n",
    "Building the graph using the neural network we implemented."
   ]
  },
  {
   "cell_type": "code",
   "execution_count": 15,
   "metadata": {},
   "outputs": [
    {
     "name": "stdout",
     "output_type": "stream",
     "text": [
      "WARNING:tensorflow:From C:\\Users\\sushant.dhumak\\AppData\\Local\\conda\\conda\\envs\\tensorflow\\lib\\site-packages\\tensorflow\\python\\ops\\array_grad.py:425: to_int32 (from tensorflow.python.ops.math_ops) is deprecated and will be removed in a future version.\n",
      "Instructions for updating:\n",
      "Use tf.cast instead.\n"
     ]
    }
   ],
   "source": [
    "\"\"\"\n",
    "DON'T MODIFY ANYTHING IN THIS CELL\n",
    "\"\"\"\n",
    "from tensorflow.contrib import seq2seq\n",
    "\n",
    "train_graph = tf.Graph()\n",
    "with train_graph.as_default():\n",
    "    vocab_size = len(int_to_vocab)\n",
    "    input_text, targets, lr = get_inputs()\n",
    "    input_data_shape = tf.shape(input_text)\n",
    "    cell, initial_state = get_init_cell(input_data_shape[0], rnn_size)\n",
    "    logits, final_state = build_nn(cell, rnn_size, input_text, vocab_size, embed_dim)\n",
    "\n",
    "    # Probabilities for generating words\n",
    "    probs = tf.nn.softmax(logits, name='probs')\n",
    "\n",
    "    # Loss function\n",
    "    cost = seq2seq.sequence_loss(\n",
    "        logits,\n",
    "        targets,\n",
    "        tf.ones([input_data_shape[0], input_data_shape[1]]))\n",
    "\n",
    "    # Optimizer\n",
    "    optimizer = tf.train.AdamOptimizer(lr)\n",
    "\n",
    "    # Gradient Clipping\n",
    "    gradients = optimizer.compute_gradients(cost)\n",
    "    capped_gradients = [(tf.clip_by_value(grad, -1., 1.), var) for grad, var in gradients if grad is not None]\n",
    "    train_op = optimizer.apply_gradients(capped_gradients)"
   ]
  },
  {
   "cell_type": "markdown",
   "metadata": {},
   "source": [
    "## Training\n",
    "Training the neural network on the preprocessed data.  If we have a hard time getting a good loss, check the [forums](https://discussions.udacity.com/) to see if anyone is having the same problem."
   ]
  },
  {
   "cell_type": "code",
   "execution_count": 16,
   "metadata": {},
   "outputs": [
    {
     "name": "stdout",
     "output_type": "stream",
     "text": [
      "Epoch   0 Batch    0/16   train_loss = 8.822\n",
      "Epoch   0 Batch   10/16   train_loss = 6.108\n",
      "Epoch   1 Batch    4/16   train_loss = 5.338\n",
      "Epoch   1 Batch   14/16   train_loss = 5.005\n",
      "Epoch   2 Batch    8/16   train_loss = 4.638\n",
      "Epoch   3 Batch    2/16   train_loss = 4.319\n",
      "Epoch   3 Batch   12/16   train_loss = 4.245\n",
      "Epoch   4 Batch    6/16   train_loss = 3.953\n",
      "Epoch   5 Batch    0/16   train_loss = 3.626\n",
      "Epoch   5 Batch   10/16   train_loss = 3.561\n",
      "Epoch   6 Batch    4/16   train_loss = 3.460\n",
      "Epoch   6 Batch   14/16   train_loss = 3.206\n",
      "Epoch   7 Batch    8/16   train_loss = 3.081\n",
      "Epoch   8 Batch    2/16   train_loss = 2.959\n",
      "Epoch   8 Batch   12/16   train_loss = 2.824\n",
      "Epoch   9 Batch    6/16   train_loss = 2.728\n",
      "Epoch  10 Batch    0/16   train_loss = 2.574\n",
      "Epoch  10 Batch   10/16   train_loss = 2.524\n",
      "Epoch  11 Batch    4/16   train_loss = 2.456\n",
      "Epoch  11 Batch   14/16   train_loss = 2.266\n",
      "Epoch  12 Batch    8/16   train_loss = 2.211\n",
      "Epoch  13 Batch    2/16   train_loss = 2.098\n",
      "Epoch  13 Batch   12/16   train_loss = 1.987\n",
      "Epoch  14 Batch    6/16   train_loss = 1.916\n",
      "Epoch  15 Batch    0/16   train_loss = 1.846\n",
      "Epoch  15 Batch   10/16   train_loss = 1.809\n",
      "Epoch  16 Batch    4/16   train_loss = 1.772\n",
      "Epoch  16 Batch   14/16   train_loss = 1.640\n",
      "Epoch  17 Batch    8/16   train_loss = 1.628\n",
      "Epoch  18 Batch    2/16   train_loss = 1.549\n",
      "Epoch  18 Batch   12/16   train_loss = 1.473\n",
      "Epoch  19 Batch    6/16   train_loss = 1.446\n",
      "Epoch  20 Batch    0/16   train_loss = 1.429\n",
      "Epoch  20 Batch   10/16   train_loss = 1.352\n",
      "Epoch  21 Batch    4/16   train_loss = 1.373\n",
      "Epoch  21 Batch   14/16   train_loss = 1.281\n",
      "Epoch  22 Batch    8/16   train_loss = 1.255\n",
      "Epoch  23 Batch    2/16   train_loss = 1.214\n",
      "Epoch  23 Batch   12/16   train_loss = 1.153\n",
      "Epoch  24 Batch    6/16   train_loss = 1.199\n",
      "Epoch  25 Batch    0/16   train_loss = 1.183\n",
      "Epoch  25 Batch   10/16   train_loss = 1.145\n",
      "Epoch  26 Batch    4/16   train_loss = 1.145\n",
      "Epoch  26 Batch   14/16   train_loss = 1.051\n",
      "Epoch  27 Batch    8/16   train_loss = 1.028\n",
      "Epoch  28 Batch    2/16   train_loss = 0.972\n",
      "Epoch  28 Batch   12/16   train_loss = 0.902\n",
      "Epoch  29 Batch    6/16   train_loss = 0.876\n",
      "Epoch  30 Batch    0/16   train_loss = 0.840\n",
      "Epoch  30 Batch   10/16   train_loss = 0.780\n",
      "Epoch  31 Batch    4/16   train_loss = 0.778\n",
      "Epoch  31 Batch   14/16   train_loss = 0.743\n",
      "Epoch  32 Batch    8/16   train_loss = 0.740\n",
      "Epoch  33 Batch    2/16   train_loss = 0.718\n",
      "Epoch  33 Batch   12/16   train_loss = 0.689\n",
      "Epoch  34 Batch    6/16   train_loss = 0.694\n",
      "Epoch  35 Batch    0/16   train_loss = 0.686\n",
      "Epoch  35 Batch   10/16   train_loss = 0.663\n",
      "Epoch  36 Batch    4/16   train_loss = 0.642\n",
      "Epoch  36 Batch   14/16   train_loss = 0.613\n",
      "Epoch  37 Batch    8/16   train_loss = 0.613\n",
      "Epoch  38 Batch    2/16   train_loss = 0.582\n",
      "Epoch  38 Batch   12/16   train_loss = 0.558\n",
      "Epoch  39 Batch    6/16   train_loss = 0.556\n",
      "Epoch  40 Batch    0/16   train_loss = 0.526\n",
      "Epoch  40 Batch   10/16   train_loss = 0.495\n",
      "Epoch  41 Batch    4/16   train_loss = 0.475\n",
      "Epoch  41 Batch   14/16   train_loss = 0.466\n",
      "Epoch  42 Batch    8/16   train_loss = 0.469\n",
      "Epoch  43 Batch    2/16   train_loss = 0.442\n",
      "Epoch  43 Batch   12/16   train_loss = 0.417\n",
      "Epoch  44 Batch    6/16   train_loss = 0.412\n",
      "Epoch  45 Batch    0/16   train_loss = 0.400\n",
      "Epoch  45 Batch   10/16   train_loss = 0.406\n",
      "Epoch  46 Batch    4/16   train_loss = 0.384\n",
      "Epoch  46 Batch   14/16   train_loss = 0.382\n",
      "Epoch  47 Batch    8/16   train_loss = 0.390\n",
      "Epoch  48 Batch    2/16   train_loss = 0.361\n",
      "Epoch  48 Batch   12/16   train_loss = 0.355\n",
      "Epoch  49 Batch    6/16   train_loss = 0.342\n",
      "Model Trained and Saved\n"
     ]
    }
   ],
   "source": [
    "\"\"\"\n",
    "DON'T MODIFY ANYTHING IN THIS CELL\n",
    "\"\"\"\n",
    "batches = get_batches(int_text, batch_size, seq_length)\n",
    "\n",
    "with tf.Session(graph=train_graph) as sess:\n",
    "    sess.run(tf.global_variables_initializer())\n",
    "\n",
    "    for epoch_i in range(num_epochs):\n",
    "        state = sess.run(initial_state, {input_text: batches[0][0]})\n",
    "\n",
    "        for batch_i, (x, y) in enumerate(batches):\n",
    "            feed = {\n",
    "                input_text: x,\n",
    "                targets: y,\n",
    "                initial_state: state,\n",
    "                lr: learning_rate}\n",
    "            train_loss, state, _ = sess.run([cost, final_state, train_op], feed)\n",
    "\n",
    "            # Show every <show_every_n_batches> batches\n",
    "            if (epoch_i * len(batches) + batch_i) % show_every_n_batches == 0:\n",
    "                print('Epoch {:>3} Batch {:>4}/{}   train_loss = {:.3f}'.format(\n",
    "                    epoch_i,\n",
    "                    batch_i,\n",
    "                    len(batches),\n",
    "                    train_loss))\n",
    "\n",
    "    # Save Model\n",
    "    saver = tf.train.Saver()\n",
    "    saver.save(sess, save_dir)\n",
    "    print('Model Trained and Saved')"
   ]
  },
  {
   "cell_type": "markdown",
   "metadata": {},
   "source": [
    "## Saving Parameters\n",
    "Saving `seq_length` and `save_dir` for generating a new TV script."
   ]
  },
  {
   "cell_type": "code",
   "execution_count": 17,
   "metadata": {},
   "outputs": [],
   "source": [
    "\"\"\"\n",
    "DON'T MODIFY ANYTHING IN THIS CELL\n",
    "\"\"\"\n",
    "# Save parameters for checkpoint\n",
    "helper.save_params((seq_length, save_dir))"
   ]
  },
  {
   "cell_type": "markdown",
   "metadata": {},
   "source": [
    "# Checkpoint"
   ]
  },
  {
   "cell_type": "code",
   "execution_count": 18,
   "metadata": {},
   "outputs": [],
   "source": [
    "\"\"\"\n",
    "DON'T MODIFY ANYTHING IN THIS CELL\n",
    "\"\"\"\n",
    "import tensorflow as tf\n",
    "import numpy as np\n",
    "import helper\n",
    "import problem_unittests as tests\n",
    "\n",
    "_, vocab_to_int, int_to_vocab, token_dict = helper.load_preprocess()\n",
    "seq_length, load_dir = helper.load_params()"
   ]
  },
  {
   "cell_type": "markdown",
   "metadata": {},
   "source": [
    "## Implementing Generate Functions\n",
    "### Getting Tensors\n",
    "Getting tensors from `loaded_graph` using the function [`get_tensor_by_name()`](https://www.tensorflow.org/api_docs/python/tf/Graph#get_tensor_by_name).  Getting the tensors using the following names:\n",
    "- \"input:0\"\n",
    "- \"initial_state:0\"\n",
    "- \"final_state:0\"\n",
    "- \"probs:0\"\n",
    "\n",
    "Return the tensors in the following tuple `(InputTensor, InitialStateTensor, FinalStateTensor, ProbsTensor)` "
   ]
  },
  {
   "cell_type": "code",
   "execution_count": 19,
   "metadata": {},
   "outputs": [
    {
     "name": "stdout",
     "output_type": "stream",
     "text": [
      "Tests Passed\n"
     ]
    }
   ],
   "source": [
    "def get_tensors(loaded_graph):\n",
    "    \"\"\"\n",
    "    Get input, initial state, final state, and probabilities tensor from <loaded_graph>\n",
    "    :param loaded_graph: TensorFlow graph loaded from file\n",
    "    :return: Tuple (InputTensor, InitialStateTensor, FinalStateTensor, ProbsTensor)\n",
    "    \"\"\"\n",
    "    # Function Implementation\n",
    "    \n",
    "    input_tensor = loaded_graph.get_tensor_by_name(\"input:0\")\n",
    "    initial_state_tensor = loaded_graph.get_tensor_by_name(\"initial_state:0\")\n",
    "    final_state_tensor = loaded_graph.get_tensor_by_name(\"final_state:0\")\n",
    "    probs_tensor = loaded_graph.get_tensor_by_name(\"probs:0\")\n",
    "    \n",
    "    return input_tensor, initial_state_tensor, final_state_tensor, probs_tensor\n",
    "\n",
    "\n",
    "\"\"\"\n",
    "DON'T MODIFY ANYTHING IN THIS CELL THAT IS BELOW THIS LINE\n",
    "\"\"\"\n",
    "tests.test_get_tensors(get_tensors)"
   ]
  },
  {
   "cell_type": "markdown",
   "metadata": {},
   "source": [
    "### Choosing Word\n",
    "Implementing the `pick_word()` function to select the next word using `probabilities`."
   ]
  },
  {
   "cell_type": "code",
   "execution_count": 20,
   "metadata": {},
   "outputs": [
    {
     "name": "stdout",
     "output_type": "stream",
     "text": [
      "Tests Passed\n"
     ]
    }
   ],
   "source": [
    "def pick_word(probabilities, int_to_vocab):\n",
    "    \"\"\"\n",
    "    Pick the next word in the generated text\n",
    "    :param probabilities: Probabilites of the next word\n",
    "    :param int_to_vocab: Dictionary of word ids as the keys and words as the values\n",
    "    :return: String of the predicted word\n",
    "    \"\"\"\n",
    "    # Function Implementation\n",
    "    \n",
    "    predicted_word = int_to_vocab[np.argmax(probabilities, axis=0)]    \n",
    "    \n",
    "    return predicted_word\n",
    "\n",
    "\"\"\"\n",
    "DON'T MODIFY ANYTHING IN THIS CELL THAT IS BELOW THIS LINE\n",
    "\"\"\"\n",
    "tests.test_pick_word(pick_word)"
   ]
  },
  {
   "cell_type": "markdown",
   "metadata": {},
   "source": [
    "## Generating TV Script\n",
    "This will generate the TV script.  Setting `gen_length` to the length of TV script you want to generate."
   ]
  },
  {
   "cell_type": "code",
   "execution_count": 21,
   "metadata": {},
   "outputs": [
    {
     "name": "stdout",
     "output_type": "stream",
     "text": [
      "WARNING:tensorflow:From C:\\Users\\sushant.dhumak\\AppData\\Local\\conda\\conda\\envs\\tensorflow\\lib\\site-packages\\tensorflow\\python\\training\\saver.py:1266: checkpoint_exists (from tensorflow.python.training.checkpoint_management) is deprecated and will be removed in a future version.\n",
      "Instructions for updating:\n",
      "Use standard file APIs to check for files with this prefix.\n",
      "INFO:tensorflow:Restoring parameters from ./save\n",
      "moe_szyslak:(into phone) moe's tavern. moe speaking.\n",
      "bart_simpson:(singing) every teddy bear who's been good.\" i'd say that's a pretty strong?\n",
      "moe_szyslak:(pointed) and he'll do, what's mr. smithers, eh?\n",
      "\n",
      "\n",
      "carl_carlson: we can't let me clap my head for, moe!\n",
      "moe_szyslak:(scared) look, all-all-all i got is twenty-five.\n",
      "moe_szyslak: look, i, i'm really glad you're off the wacky throw, a\" texas.\n",
      "\n",
      "\n",
      "smokin'_joe_frazier: keep those pickled eggs in your face.(beat) now i say something bad, marge...\n",
      "moe_szyslak:(sobs) oh, it's probably due to your ugliness. but that doesn't work on me.\n",
      "moe_szyslak: ah, sorry homer, i've been planning this vacation for years, i'd like a junebug flying in my windshield.\n",
      "homer_simpson: what are you to get hurt on a marquee, luv.\n",
      "kirk_van_houten: i could've at least stayed in shape for her.\n",
      "waylon_smithers:(intrigued) uh-huh...\n",
      "waylon_smithers:\n"
     ]
    }
   ],
   "source": [
    "gen_length = 200\n",
    "# homer_simpson, moe_szyslak, or Barney_Gumble\n",
    "prime_word = 'moe_szyslak'\n",
    "\n",
    "\"\"\"\n",
    "DON'T MODIFY ANYTHING IN THIS CELL THAT IS BELOW THIS LINE\n",
    "\"\"\"\n",
    "loaded_graph = tf.Graph()\n",
    "with tf.Session(graph=loaded_graph) as sess:\n",
    "    # Load saved model\n",
    "    loader = tf.train.import_meta_graph(load_dir + '.meta')\n",
    "    loader.restore(sess, load_dir)\n",
    "\n",
    "    # Get Tensors from loaded model\n",
    "    input_text, initial_state, final_state, probs = get_tensors(loaded_graph)\n",
    "\n",
    "    # Sentences generation setup\n",
    "    gen_sentences = [prime_word + ':']\n",
    "    prev_state = sess.run(initial_state, {input_text: np.array([[1]])})\n",
    "\n",
    "    # Generate sentences\n",
    "    for n in range(gen_length):\n",
    "        # Dynamic Input\n",
    "        dyn_input = [[vocab_to_int[word] for word in gen_sentences[-seq_length:]]]\n",
    "        dyn_seq_length = len(dyn_input[0])\n",
    "\n",
    "        # Get Prediction\n",
    "        probabilities, prev_state = sess.run(\n",
    "            [probs, final_state],\n",
    "            {input_text: dyn_input, initial_state: prev_state})\n",
    "        \n",
    "        pred_word = pick_word(probabilities[0][dyn_seq_length-1], int_to_vocab)\n",
    "\n",
    "        gen_sentences.append(pred_word)\n",
    "    \n",
    "    # Remove tokens\n",
    "    tv_script = ' '.join(gen_sentences)\n",
    "    for key, token in token_dict.items():\n",
    "        ending = ' ' if key in ['\\n', '(', '\"'] else ''\n",
    "        tv_script = tv_script.replace(' ' + token.lower(), key)\n",
    "    tv_script = tv_script.replace('\\n ', '\\n')\n",
    "    tv_script = tv_script.replace('( ', '(')\n",
    "        \n",
    "    print(tv_script)"
   ]
  },
  {
   "cell_type": "markdown",
   "metadata": {},
   "source": [
    "# The TV Script is Nonsensical\n",
    "It's ok if the TV script doesn't make any sense.  We trained on less than a megabyte of text.  In order to get good results, we'll have to use a smaller vocabulary or get more data.  Luckily there's more data!  As we mentioned in the beggining of this project, this is a subset of [another dataset](https://www.kaggle.com/wcukierski/the-simpsons-by-the-data).  We didn't train on all the data, because that would take too long.  However, we are free to train neural network on all the data.  After we complete the project, of course."
   ]
  }
 ],
 "metadata": {
  "kernelspec": {
   "display_name": "Python 3",
   "language": "python",
   "name": "python3"
  },
  "language_info": {
   "codemirror_mode": {
    "name": "ipython",
    "version": 3
   },
   "file_extension": ".py",
   "mimetype": "text/x-python",
   "name": "python",
   "nbconvert_exporter": "python",
   "pygments_lexer": "ipython3",
   "version": "3.6.8"
  },
  "widgets": {
   "state": {},
   "version": "1.1.2"
  }
 },
 "nbformat": 4,
 "nbformat_minor": 1
}
